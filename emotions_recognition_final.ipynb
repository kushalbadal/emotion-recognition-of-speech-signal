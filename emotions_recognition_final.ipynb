{
  "nbformat": 4,
  "nbformat_minor": 0,
  "metadata": {
    "colab": {
      "name": "emotions_recognition.ipynb",
      "provenance": [],
      "collapsed_sections": []
    },
    "kernelspec": {
      "name": "python3",
      "display_name": "Python 3"
    },
    "language_info": {
      "name": "python"
    },
    "accelerator": "GPU",
    "gpuClass": "standard"
  },
  "cells": [
    {
      "cell_type": "markdown",
      "source": [
        "#Emotion Recognition of voice \n",
        
      ],
      "metadata": {
        "id": "fWYgHhuwfaIu"
      }
    },
    {
      "cell_type": "code",
      "source": [
        "from google.colab import drive\n",
        "drive.mount('/content/drive')"
      ],
      "metadata": {
        "id": "XwIDVeYRse63",
        "colab": {
          "base_uri": "https://localhost:8080/"
        },
        "outputId": "52eb3c40-0fd0-44d2-b812-2e287f74fd98"
      },
      "execution_count": 1,
      "outputs": [
        {
          "output_type": "stream",
          "name": "stdout",
          "text": [
            "Mounted at /content/drive\n"
          ]
        }
      ]
    },
    {
      "cell_type": "code",
      "source": [
        "!pip install webrtcvad\n",
        "!pip install ffmpeg-python"
      ],
      "metadata": {
        "colab": {
          "base_uri": "https://localhost:8080/"
        },
        "id": "vWT8hgWe9bRt",
        "outputId": "2700580b-50a3-4e62-f2f2-dfca4682c01e"
      },
      "execution_count": 2,
      "outputs": [
        {
          "output_type": "stream",
          "name": "stdout",
          "text": [
            "Looking in indexes: https://pypi.org/simple, https://us-python.pkg.dev/colab-wheels/public/simple/\n",
            "Collecting webrtcvad\n",
            "  Downloading webrtcvad-2.0.10.tar.gz (66 kB)\n",
            "\u001b[K     |████████████████████████████████| 66 kB 4.7 MB/s \n",
            "\u001b[?25hBuilding wheels for collected packages: webrtcvad\n",
            "  Building wheel for webrtcvad (setup.py) ... \u001b[?25l\u001b[?25hdone\n",
            "  Created wheel for webrtcvad: filename=webrtcvad-2.0.10-cp37-cp37m-linux_x86_64.whl size=72382 sha256=523a88589886e298f8716e6fe05ef35a753bb9c346ce7f1e867d4a0423e5f61a\n",
            "  Stored in directory: /root/.cache/pip/wheels/11/f9/67/a3158d131f57e1c0a7d8d966a707d4a2fb27567a4fe47723ad\n",
            "Successfully built webrtcvad\n",
            "Installing collected packages: webrtcvad\n",
            "Successfully installed webrtcvad-2.0.10\n",
            "Looking in indexes: https://pypi.org/simple, https://us-python.pkg.dev/colab-wheels/public/simple/\n",
            "Collecting ffmpeg-python\n",
            "  Downloading ffmpeg_python-0.2.0-py3-none-any.whl (25 kB)\n",
            "Requirement already satisfied: future in /usr/local/lib/python3.7/dist-packages (from ffmpeg-python) (0.16.0)\n",
            "Installing collected packages: ffmpeg-python\n",
            "Successfully installed ffmpeg-python-0.2.0\n"
          ]
        }
      ]
    },
    {
      "cell_type": "code",
      "source": [
        "import glob\n",
        "import pandas as pd\n",
        "import os\n",
        "import librosa\n",
        "import librosa.display\n",
        "from tqdm import tqdm\n",
        "import numpy as np\n",
        "from scipy.ndimage.morphology import binary_dilation\n",
        "from pathlib import Path\n",
        "from typing import Optional, Union\n",
        "import struct\n",
        "import webrtcvad\n",
        "from sklearn.svm import SVC\n",
        "from sklearn.metrics import accuracy_score,confusion_matrix, f1_score, recall_score, precision_score\n",
        "import warnings\n",
        "\n"
      ],
      "metadata": {
        "id": "1vyrtKmhwOM1",
        "colab": {
          "base_uri": "https://localhost:8080/"
        },
        "outputId": "c03a852d-967d-402d-92da-d206bce4225d"
      },
      "execution_count": 3,
      "outputs": [
        {
          "output_type": "stream",
          "name": "stderr",
          "text": [
            "/usr/local/lib/python3.7/dist-packages/resampy/interpn.py:114: NumbaWarning: The TBB threading layer requires TBB version 2019.5 or later i.e., TBB_INTERFACE_VERSION >= 11005. Found TBB_INTERFACE_VERSION = 9107. The TBB threading layer is disabled.\n",
            "  _resample_loop_p(x, t_out, interp_win, interp_delta, num_table, scale, y)\n"
          ]
        }
      ]
    },
    {
      "cell_type": "markdown",
      "source": [
        "#Data processing\n",
        "-Data visualization"
      ],
      "metadata": {
        "id": "ywUk4UM7ssRX"
      }
    },
    {
      "cell_type": "code",
      "source": [
        "\n",
        "from pathlib import Path\n",
        "import matplotlib.pyplot as plt\n",
        "\n",
        "src = '/content/drive/MyDrive/Data set/'\n",
        "files=os.listdir(src)\n",
        "print(\"Total data: \",len(files))\n",
        "\n",
        "\n",
        "data={\"happy\":len(glob.glob(f\"/content/drive/MyDrive/Data set/*_happy.wav\")),\n",
        "      \"sad\":len(glob.glob(f\"/content/drive/MyDrive/Data set/*_sad.wav\")),\n",
        "      \"neutral\":len(glob.glob(f\"/content/drive/MyDrive/Data set/*_neutral.wav\"))}\n",
        "  \n",
        "print(data)  \n",
        "labels = ('Happy','Neutral','Sad')\n",
        "index = (1, 2, 3) \n",
        "sizes = [data['happy'],data['neutral'],data['sad']]\n",
        "\n",
        "plt.bar(index, sizes, tick_label=labels)\n",
        "plt.xlabel('Emotions Category')\n",
        "plt.show()"
      ],
      "metadata": {
        "id": "RbXawKAR18qo",
        "colab": {
          "base_uri": "https://localhost:8080/",
          "height": 314
        },
        "outputId": "1db9e1ea-edb6-4145-cd0f-9b69d21a49c2"
      },
      "execution_count": 4,
      "outputs": [
        {
          "output_type": "stream",
          "name": "stdout",
          "text": [
            "Total data:  3656\n",
            "{'happy': 1230, 'sad': 1269, 'neutral': 1148}\n"
          ]
        },
        {
          "output_type": "display_data",
          "data": {
            "text/plain": [
              "<Figure size 432x288 with 1 Axes>"
            ],
            "image/png": "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\n"
          },
          "metadata": {
            "needs_background": "light"
          }
        }
      ]
    },
    {
      "cell_type": "markdown",
      "source": [
        "# -creating csv file for training and testing data"
      ],
      "metadata": {
        "id": "MhhIQ1UfD3Ej"
      }
    },
    {
      "cell_type": "code",
      "source": [
        "emotions=['sad', 'neutral', 'happy']\n",
        "train_name=\"train.csv\"\n",
        "test_name=\"test.csv\"\n",
        "train_target = {\"path\": [], \"emotion\": [],\"index\":[]}\n",
        "test_target = {\"path\": [], \"emotion\": [],\"index\":[]}"
      ],
      "metadata": {
        "id": "bzpD8mn8Hiw-"
      },
      "execution_count": 5,
      "outputs": []
    },
    {
      "cell_type": "code",
      "execution_count": 6,
      "metadata": {
        "id": "sJBDglB4CMb7"
      },
      "outputs": [],
      "source": [
        "emotions=['sad', 'neutral', 'happy']\n",
        "index = {'sad': 1, 'neutral': 2, 'happy': 3}\n",
        "for category in emotions:\n",
        "    train_size = int(0.8 * data[category])\n",
        "    for i, file in enumerate(glob.glob(f\"/content/drive/MyDrive/Data set/*_{category}.wav\")):\n",
        "        if i<train_size:\n",
        "          train_target[\"path\"].append(file)\n",
        "          train_target[\"emotion\"].append(category)\n",
        "          train_target[\"index\"].append(index[category])\n",
        "        else:\n",
        "          test_target[\"path\"].append(file)\n",
        "          test_target[\"emotion\"].append(category)\n",
        "          test_target[\"index\"].append(index[category])\n",
        "   \n",
        "\n",
        "if train_target[\"path\"]:\n",
        "    pd.DataFrame(train_target).to_csv(train_name)\n",
        "\n",
        "if test_target[\"path\"]:\n",
        "    pd.DataFrame(test_target).to_csv(test_name)"
      ]
    },
    {
      "cell_type": "markdown",
      "source": [
        "# Pre-processiong the wav file and extracting the features\n",
        "MFCC,Mel,Chroma Features"
      ],
      "metadata": {
        "id": "BIJBGLnVIsHU"
      }
    },
    {
      "cell_type": "code",
      "source": [
        "## Mel-filterbank\n",
        "mel_window_length = 25  # In milliseconds\n",
        "mel_window_step = 10    # In milliseconds\n",
        "mel_n_channels = 40\n",
        "\n",
        "\n",
        "## Audio\n",
        "sampling_rate = 16000\n",
        "# Number of spectrogram frames in a partial utterance\n",
        "partials_n_frames = 160     # 1600 ms\n",
        "# Number of spectrogram frames at inference\n",
        "inference_n_frames = 80     #  800 ms\n",
        "\n",
        "\n",
        "## Voice Activation Detection\n",
        "# Window size of the VAD. Must be either 10, 20 or 30 milliseconds.\n",
        "# This sets the granularity of the VAD. Should not need to be changed.\n",
        "vad_window_length = 30  # In milliseconds\n",
        "# Number of frames to average together when performing the moving average smoothing.\n",
        "# The larger this value, the larger the VAD variations must be to not get smoothed out. \n",
        "vad_moving_average_width = 8\n",
        "# Maximum number of consecutive silent frames a segment can have.\n",
        "vad_max_silence_length = 6\n",
        "\n",
        "\n",
        "## Audio volume normalization\n",
        "audio_norm_target_dBFS = -30\n",
        "\n",
        "int16_max = (2 ** 15) - 1\n",
        "\n",
        "\n",
        "def preprocess_wav(fpath_or_wav: Union[str, Path, np.ndarray],\n",
        "                   source_sr: Optional[int] = None,\n",
        "                   normalize: Optional[bool] = True,\n",
        "                   trim_silence: Optional[bool] = True):\n",
        "    # Load the wav from disk if needed\n",
        "    result = np.array([])\n",
        "    if isinstance(fpath_or_wav, str) or isinstance(fpath_or_wav, Path):\n",
        "        wav, source_sr = librosa.load(str(fpath_or_wav), sr=None)\n",
        "    else:\n",
        "        wav = fpath_or_wav\n",
        "    \n",
        "    # Resample the wav if needed\n",
        "    if source_sr is not None and source_sr != sampling_rate:\n",
        "        wav = librosa.resample(wav, source_sr, sampling_rate)\n",
        "        \n",
        "    # Apply the preprocessing: normalize volume and shorten long silences \n",
        "    if normalize:\n",
        "        wav = normalize_volume(wav, audio_norm_target_dBFS, increase_only=True)\n",
        "    if webrtcvad and trim_silence:\n",
        "        wav = trim_long_silences(wav)\n",
        "    \n",
        "      #MFCC features\n",
        "    mfccs = np.mean(librosa.feature.mfcc(y=wav, sr=sampling_rate, n_mfcc=40).T, axis=0)\n",
        "    result = np.hstack((result, mfccs))\n",
        "\n",
        "    #chroma features\n",
        "    stft = np.abs(librosa.stft(wav))\n",
        "    chroma = np.mean(librosa.feature.chroma_stft(S=stft, sr=sampling_rate).T,axis=0)\n",
        "    result = np.hstack((result, chroma))\n",
        "\n",
        "    # mel features\n",
        "    mel = np.mean(librosa.feature.melspectrogram(wav, sr=sampling_rate).T,axis=0)\n",
        "    result = np.hstack((result, mel))\n",
        "\n",
        "    return result\n",
        "\n",
        "\n",
        "def wav_to_mel_spectrogram(wav):\n",
        "    \"\"\"\n",
        "    Derives a mel spectrogram ready to be used by the encoder from a preprocessed audio waveform.\n",
        "    Note: this not a log-mel spectrogram.\n",
        "    \"\"\"\n",
        "    frames = librosa.feature.melspectrogram(\n",
        "        wav,\n",
        "        sampling_rate,\n",
        "        n_fft=int(sampling_rate * mel_window_length / 1000),\n",
        "        hop_length=int(sampling_rate * mel_window_step / 1000),\n",
        "        n_mels=mel_n_channels\n",
        "    )\n",
        "    return frames.astype(np.float32).T\n",
        "\n",
        "\n",
        "def trim_long_silences(wav):\n",
        "    \"\"\"\n",
        "    Ensures that segments without voice in the waveform remain no longer than a \n",
        "    threshold determined by the VAD parameters in params.py.\n",
        "    :param wav: the raw waveform as a numpy array of floats \n",
        "    :return: the same waveform with silences trimmed away (length <= original wav length)\n",
        "    \"\"\"\n",
        "    # Compute the voice detection window size\n",
        "    samples_per_window = (vad_window_length * sampling_rate) // 1000\n",
        "    \n",
        "    # Trim the end of the audio to have a multiple of the window size\n",
        "    wav = wav[:len(wav) - (len(wav) % samples_per_window)]\n",
        "    \n",
        "    # Convert the float waveform to 16-bit mono PCM\n",
        "    pcm_wave = struct.pack(\"%dh\" % len(wav), *(np.round(wav * int16_max)).astype(np.int16))\n",
        "    \n",
        "    # Perform voice activation detection\n",
        "    voice_flags = []\n",
        "    vad = webrtcvad.Vad(mode=3)\n",
        "    for window_start in range(0, len(wav), samples_per_window):\n",
        "        window_end = window_start + samples_per_window\n",
        "        voice_flags.append(vad.is_speech(pcm_wave[window_start * 2:window_end * 2],\n",
        "                                         sample_rate=sampling_rate))\n",
        "    voice_flags = np.array(voice_flags)\n",
        "    \n",
        "    # Smooth the voice detection with a moving average\n",
        "    def moving_average(array, width):\n",
        "        array_padded = np.concatenate((np.zeros((width - 1) // 2), array, np.zeros(width // 2)))\n",
        "        ret = np.cumsum(array_padded, dtype=float)\n",
        "        ret[width:] = ret[width:] - ret[:-width]\n",
        "        return ret[width - 1:] / width\n",
        "    \n",
        "    audio_mask = moving_average(voice_flags, vad_moving_average_width)\n",
        "    audio_mask = np.round(audio_mask).astype(np.bool)\n",
        "    \n",
        "    # Dilate the voiced regions\n",
        "    audio_mask = binary_dilation(audio_mask, np.ones(vad_max_silence_length + 1))\n",
        "    audio_mask = np.repeat(audio_mask, samples_per_window)\n",
        "    \n",
        "    return wav[audio_mask == True]\n",
        "\n",
        "\n",
        "def normalize_volume(wav, target_dBFS, increase_only=False, decrease_only=False):\n",
        "    if increase_only and decrease_only:\n",
        "        raise ValueError(\"Both increase only and decrease only are set\")\n",
        "    dBFS_change = target_dBFS - 10 * np.log10(np.mean(wav ** 2))\n",
        "    if (dBFS_change < 0 and increase_only) or (dBFS_change > 0 and decrease_only):\n",
        "        return wav\n",
        "    return wav * (10 ** (dBFS_change / 20))"
      ],
      "metadata": {
        "id": "NfYFDkAW60XE"
      },
      "execution_count": 7,
      "outputs": []
    },
    {
      "cell_type": "code",
      "source": [
        " #MFCC Features\n",
        "d,sr=librosa.load(\"/content/drive/MyDrive/Data set/YAF_wife_sad.wav\",sr=None)\n",
        "mfccs = librosa.feature.mfcc(y=d, sr=sr, n_mfcc=40)\n",
        " \n",
        "print(mfccs,mfccs.shape)\n",
        "librosa.display.specshow(mfccs, sr=sr, x_axis='time')"
      ],
      "metadata": {
        "id": "BVNYPdbJtwkg",
        "colab": {
          "base_uri": "https://localhost:8080/",
          "height": 522
        },
        "outputId": "c6e810ab-6629-4d97-bfae-a5b0ab2ec215"
      },
      "execution_count": 8,
      "outputs": [
        {
          "output_type": "stream",
          "name": "stdout",
          "text": [
            "[[-5.6789679e+02 -5.2637012e+02 -4.8989819e+02 ... -5.8422754e+02\n",
            "  -6.0470490e+02 -6.2080048e+02]\n",
            " [ 2.9668503e+00 -3.3487030e+01 -5.8236900e+01 ...  3.3870361e+01\n",
            "   4.4899353e+01  4.8083466e+01]\n",
            " [ 1.0137338e+01  3.7080940e+01  8.0980171e+01 ...  1.2491124e+00\n",
            "   7.6665440e+00  1.6118322e+01]\n",
            " ...\n",
            " [-2.0391693e+00  1.2741590e+00  1.2897998e+00 ...  2.7257557e+00\n",
            "  -1.7788200e+00 -3.2612536e+00]\n",
            " [-1.9844255e+00  1.4256244e+00  4.2523632e+00 ...  5.3404431e+00\n",
            "  -2.0133772e-01 -2.6875429e+00]\n",
            " [ 6.4464790e-01  2.2825384e+00  3.1824579e+00 ...  3.8610635e+00\n",
            "   1.3273245e-01  1.5876226e+00]] (40, 110)\n"
          ]
        },
        {
          "output_type": "execute_result",
          "data": {
            "text/plain": [
              "<matplotlib.collections.QuadMesh at 0x7f0a81f10210>"
            ]
          },
          "metadata": {},
          "execution_count": 8
        },
        {
          "output_type": "display_data",
          "data": {
            "text/plain": [
              "<Figure size 432x288 with 1 Axes>"
            ],
            "image/png": "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\n"
          },
          "metadata": {
            "needs_background": "light"
          }
        }
      ]
    },
    {
      "cell_type": "code",
      "source": [
        "features = []\n",
        "name=['train','test']\n",
        "append = features.append\n",
        "for k in name: \n",
        "  df = pd.read_csv(f'{k}.csv', index_col=0)\n",
        "  for i,data_path in enumerate(tqdm(df['path'],desc=f\"Extracting Features for {k}: \")):\n",
        "    result=preprocess_wav(data_path)\n",
        "    append(result)\n",
        "\n",
        "  features = np.array(features)\n",
        "  np.save(f\"/content/drive/MyDrive/features/{k}_features.npy\", features)"
      ],
      "metadata": {
        "id": "z3uCtNbxX2Ll",
        "colab": {
          "base_uri": "https://localhost:8080/"
        },
        "outputId": "c16e7a5f-ed5b-4037-a2ce-98ab4e684038"
      },
      "execution_count": 9,
      "outputs": [
        {
          "output_type": "stream",
          "name": "stderr",
          "text": [
            "Extracting Features for train:   0%|          | 0/2917 [00:00<?, ?it/s]/usr/local/lib/python3.7/dist-packages/ipykernel_launcher.py:117: DeprecationWarning: `np.bool` is a deprecated alias for the builtin `bool`. To silence this warning, use `bool` by itself. Doing this will not modify any behavior and is safe. If you specifically wanted the numpy scalar type, use `np.bool_` here.\n",
            "Deprecated in NumPy 1.20; for more details and guidance: https://numpy.org/devdocs/release/1.20.0-notes.html#deprecations\n",
            "Extracting Features for train: 100%|██████████| 2917/2917 [07:14<00:00,  6.71it/s]\n",
            "Extracting Features for test: 100%|██████████| 730/730 [01:38<00:00,  7.42it/s]\n"
          ]
        }
      ]
    },
    {
      "cell_type": "markdown",
      "source": [
        "#Model Training and Testing"
      ],
      "metadata": {
        "id": "X4mFhCT7vTL6"
      }
    },
    {
      "cell_type": "code",
      "source": [
        "#model training using support vector classifer\n",
        "\n",
        "df = pd.read_csv('train.csv', index_col=0)\n",
        "emotions = [i for i in df['emotion']]\n",
        "features = np.load(\"/content/drive/MyDrive/features/train_features.npy\")\n",
        "X_train = features\n",
        "Y_train = emotions\n",
        "\n",
        "model = SVC(C=0.001, gamma=0.001, kernel='poly')\n",
        "model.fit(X=X_train, y=Y_train)\n",
        "\n",
        "#testing Model\n",
        "X_test=np.load(\"/content/drive/MyDrive/features/test_features.npy\")\n",
        "df = pd.read_csv('train.csv', index_col=0)\n",
        "Y_test=[i for i in df['emotion']]\n",
        "\n",
        "train_prediction=model.predict(X_train)\n",
        "test_prediction=model.predict(X_test)\n",
        "\n",
        "print(\"Training accuracy: \",accuracy_score(y_true=Y_train, y_pred=train_prediction))\n",
        "print(\"Testing accuracy: \",accuracy_score(y_true=Y_test, y_pred=test_prediction))\n",
        "\n",
        "print(\"F1_score: \",f1_score(y_true=Y_test, y_pred=test_prediction,average='macro'))\n",
        "print(\"Recall_score: \",recall_score(y_true=Y_test, y_pred=test_prediction,average='macro'))\n",
        "print(\"Precision_score: \",precision_score(y_true=Y_test, y_pred=test_prediction,average='macro'))"
      ],
      "metadata": {
        "colab": {
          "base_uri": "https://localhost:8080/"
        },
        "id": "YU1DBrTe2Yvf",
        "outputId": "67f86aff-346f-47ac-fd9b-768fc9434a90"
      },
      "execution_count": 25,
      "outputs": [
        {
          "output_type": "stream",
          "name": "stdout",
          "text": [
            "Training accuracy:  0.9948577305450805\n",
            "Testing accuracy:  0.9948577305450805\n",
            "F1_score:  0.9948398218235832\n",
            "Recall_score:  0.9947305443063125\n",
            "Precision_score:  0.9949634930495407\n"
          ]
        }
      ]
    },
    {
      "cell_type": "code",
      "source": [
        "#model traing using randomforest classifier\n",
        "from sklearn.ensemble import RandomForestClassifier\n",
        "\n",
        "clf = RandomForestClassifier(max_depth=7, max_features= 0.5, min_samples_leaf= 1, min_samples_split= 2, n_estimators= 40)\n",
        "clf.fit(X=X_train, y=Y_train)\n",
        "\n",
        "\n",
        "train_prediction=clf.predict(X_train)\n",
        "test_prediction=clf.predict(X_test)\n",
        "\n",
        "print(\"Training accuracy: \",accuracy_score(y_true=Y_train, y_pred=train_prediction))\n",
        "print(\"Testing accuracy: \",accuracy_score(y_true=Y_test, y_pred=test_prediction))\n",
        "\n",
        "print(\"F1_score: \",f1_score(y_true=Y_test, y_pred=test_prediction,average='macro'))\n",
        "print(\"Recall_score: \",recall_score(y_true=Y_test, y_pred=test_prediction,average='macro'))\n",
        "print(\"Precision_score: \",precision_score(y_true=Y_test, y_pred=test_prediction,average='macro'))\n"
      ],
      "metadata": {
        "id": "SQ_kLoZN3mTb",
        "colab": {
          "base_uri": "https://localhost:8080/"
        },
        "outputId": "d1b62cff-dad2-43b2-b8d6-2d1b498529ba"
      },
      "execution_count": 12,
      "outputs": [
        {
          "output_type": "stream",
          "name": "stdout",
          "text": [
            "Training accuracy:  0.9821734658896126\n",
            "Testing accuracy:  0.9821734658896126\n",
            "F1_score:  0.9823028325869704\n",
            "Recall_score:  0.9820729709196702\n",
            "Precision_score:  0.9827810145103708\n"
          ]
        }
      ]
    },
    {
      "cell_type": "code",
      "source": [
        "#model traing using randomforest classifier\n",
        "from sklearn.neighbors import KNeighborsClassifier\n",
        "\n",
        "neigh = KNeighborsClassifier(n_neighbors= 5, p=1, weights= 'distance')\n",
        "neigh.fit(X=X_train, y=Y_train)\n",
        "\n",
        "train_prediction=neigh.predict(X_train)\n",
        "test_prediction=neigh.predict(X_test)\n",
        "\n",
        "print(\"Training accuracy: \",accuracy_score(y_true=Y_train, y_pred=train_prediction))\n",
        "print(\"Testing accuracy: \",accuracy_score(y_true=Y_test, y_pred=test_prediction))\n",
        "\n",
        "print(\"F1_score: \",f1_score(y_true=Y_test, y_pred=test_prediction,average='macro'))\n",
        "print(\"Recall_score: \",recall_score(y_true=Y_test, y_pred=test_prediction,average='macro'))\n",
        "print(\"Precision_score: \",precision_score(y_true=Y_test, y_pred=test_prediction,average='macro'))\n"
      ],
      "metadata": {
        "id": "rg0d3DTU7VzC",
        "colab": {
          "base_uri": "https://localhost:8080/"
        },
        "outputId": "f10cc521-5ec9-4f37-9ec8-4edc8cee17c0"
      },
      "execution_count": 13,
      "outputs": [
        {
          "output_type": "stream",
          "name": "stdout",
          "text": [
            "Training accuracy:  1.0\n",
            "Testing accuracy:  1.0\n",
            "F1_score:  1.0\n",
            "Recall_score:  1.0\n",
            "Precision_score:  1.0\n"
          ]
        }
      ]
    },
    {
      "cell_type": "code",
      "source": [
        "#model training usisng GradientBoostingClassifier\n",
        "\n",
        "from sklearn.ensemble import GradientBoostingClassifier\n",
        "\n",
        "grad = GradientBoostingClassifier(learning_rate= 0.3, max_depth= 7, max_features= None,\n",
        "                                 min_samples_leaf= 1, min_samples_split= 2, n_estimators= 70, subsample= 0.7)\n",
        "grad.fit(X=X_train, y=Y_train)\n",
        "\n",
        "train_prediction=grad.predict(X_train)\n",
        "test_prediction=grad.predict(X_test)\n",
        "\n",
        "print(\"Training accuracy: \",accuracy_score(y_true=Y_train, y_pred=train_prediction))\n",
        "print(\"Testing accuracy: \",accuracy_score(y_true=Y_test, y_pred=test_prediction))\n",
        "\n",
        "\n",
        "print(\"F1_score: \",f1_score(y_true=Y_test, y_pred=test_prediction,average='macro'))\n",
        "print(\"Recall_score: \",recall_score(y_true=Y_test, y_pred=test_prediction,average='macro'))\n",
        "print(\"Precision_score: \",precision_score(y_true=Y_test, y_pred=test_prediction,average='macro'))"
      ],
      "metadata": {
        "id": "jCezSSae_O9Y",
        "colab": {
          "base_uri": "https://localhost:8080/"
        },
        "outputId": "0eb18691-ddfe-43de-c866-ec7081b23549"
      },
      "execution_count": 14,
      "outputs": [
        {
          "output_type": "stream",
          "name": "stdout",
          "text": [
            "Training accuracy:  1.0\n",
            "Testing accuracy:  1.0\n",
            "F1_score:  1.0\n",
            "Recall_score:  1.0\n",
            "Precision_score:  1.0\n"
          ]
        }
      ]
    },
    {
      "cell_type": "code",
      "source": [
        "import matplotlib.pyplot as pl\n",
        "y_pred = model.predict(X_test)\n",
        "matrix = confusion_matrix(Y_test, y_pred).astype(np.float32)\n",
        "\n",
        "plt.title('Confusion matrix')\n",
        "plt.xlabel('Predicted label')\n",
        "plt.ylabel('True label')\n",
        "plt.imshow(matrix,cmap='tab10')\n",
        "plt.show()"
      ],
      "metadata": {
        "colab": {
          "base_uri": "https://localhost:8080/",
          "height": 295
        },
        "id": "v2zeNAuZI0j6",
        "outputId": "954763db-eb28-447f-fa8a-6aacc51ee791"
      },
      "execution_count": 15,
      "outputs": [
        {
          "output_type": "display_data",
          "data": {
            "text/plain": [
              "<Figure size 432x288 with 1 Axes>"
            ],
            "image/png": "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\n"
          },
          "metadata": {
            "needs_background": "light"
          }
        }
      ]
    },
    {
      "cell_type": "code",
      "source": [
        "# Generate scatter plot for training data \n",
        "plt.scatter(X_train[:, 0], X_train[:, 1], c=[i for i in df['index']], s=50, cmap='tab10');\n",
        "plt.show() \n"
      ],
      "metadata": {
        "colab": {
          "base_uri": "https://localhost:8080/",
          "height": 265
        },
        "id": "0RBUHN-6Uv-m",
        "outputId": "dc8cbafe-781e-47dd-ae62-c61a076f6fde"
      },
      "execution_count": 16,
      "outputs": [
        {
          "output_type": "display_data",
          "data": {
            "text/plain": [
              "<Figure size 432x288 with 1 Axes>"
            ],
            "image/png": "iVBORw0KGgoAAAANSUhEUgAAAXcAAAD4CAYAAAAXUaZHAAAABHNCSVQICAgIfAhkiAAAAAlwSFlzAAALEgAACxIB0t1+/AAAADh0RVh0U29mdHdhcmUAbWF0cGxvdGxpYiB2ZXJzaW9uMy4yLjIsIGh0dHA6Ly9tYXRwbG90bGliLm9yZy+WH4yJAAAgAElEQVR4nOydd3gVVdrAf2duzU2vJKQQQu8dBBSVImLFhgV7W91Pt7q7uuuudXdd67pr2bWtXSwoitJEmiA19BJCCBDSe711Zs73xw2XhNybgoQg3N/z8IQ7Z+7MO3Nn3nPOe94ipJQECRIkSJDTC6WrBQgSJEiQICeeoHIPEiRIkNOQoHIPEiRIkNOQoHIPEiRIkNOQoHIPEiRIkNMQY1cLABAXFyfT09O7WowgQYIE+UmRmZlZLqWM99d2Sij39PR0Nm3a1NViBAkSJMhPCiHEoUBtQbNMkCBBgpyGBJV7kCBBgpyGBJV7kCBBgpyGBJV7kCBBgpyGnBILqkHObDxOJzuWLWHXyqXomkbvsRMYceEl2CIiu1q0IEF+sgSVe5AuxWW388GffkNdeSmq2w1AVXEh25Z8w+y/vUBkQrculjBIkJ8mQeUepEtZ9/kcaktL0FSPb5vm8eBUNZa+/jJX/enxLpQuSCCklOxZvYIN8z6lrryMsNg4xl5+NQMnTUYI0dXiBSGo3IN0MTtXfNtMsR9BSp283dtxO+yYQ2xdIFmQ1lj+9mvsXL4Ej8sFQGXBYZa++QoFe/dwwd33dbF0QSC4oBqki/E4nQHbFKHgbqU9SNdQWVjAjmWLfYr9CKrLxZ7vl1F+OGBcTZCTSFC5B+lSEnr2CthmDgkhNDLqJEoTpD3s2/ADuqb5bdNUjex1a06yREH8EVTuQbqUs6+9CaPZ0mK70WJh/DU3IJTgI3qqobrd6Lrut03qGqrb5bctyMkl+OYE6VLSBg9j+j2/xBIaijkkBHOIDaPFwllXXMuwaRd1tXhB/NBj6HBMfjpkAJPVSvqwkSdZoiD+CC6oBuly+k+cRJ9xEyjOyUbXVBJ79cVktXa1WEECkNxvIPHpGZTk7kPzHF0MN5hMxCankjpoaBdKF+QIwZF7kC5FU1X2Z65n14qlCEWQMnBIULGf4gghuPqPj9N/4rkYTWZMFisGk5l+48/hmr/8LegKeYogpJSt7yDEW8AlQKmUcvAxbb8FngXipZTlwvurvghcBNiBW6WUm9sSYvTo0TKY8vfMoyBrN/OeeRxd09B1HYEgIiGBq//4BGExsV0tXpB24HE6aaipxhYZidka0tXinHEIITKllKP9tbVn5P42cKGfg6YCFwB5TTbPAPo0/rsbeLWjwgY5M7DXVDP373/BWV+P2+FAdbnwuJxUFRTw2d/+TFuDjiCnBiarlahuiUHFfgrSpnKXUq4CKv00vQD8Hmj6Fl4OvCu9rAOihBBJJ0TSIKcV279bjK619LjQdY3a0lIKs7O6QKogQU4fjsvmLoS4HCiQUm47pikZONzkc37jtiBBmlGcsxfN4/bbJqWkIhgIEyTIj6LD3jJCCBvwR7wmmeNGCHE3XtMNaWlpP+ZQQX6CRMQnIBQF6cdfWjEohEZHd4FUQYKcPhzPyL0X0BPYJoQ4CKQAm4UQiUABkNpk35TGbS2QUr4mpRwtpRwdH++3vmuQnzhS13E7HX4V+NCpMzAY/Y8thGIgfdiozhYvSJDTmg6P3KWUO4CEI58bFfzoRm+Zr4D7hBBzgHFAjZSy6EQJG+Snga5prPv8YzYv/BKPw4nBbGb4tIuYcO2NGE0mAOJSezDx2ptY8/F7aKqK1HUMJjOKQWHm7x4OqPiDBAnSPtp8g4QQHwHnAXFCiHzgESnlmwF2X4DXDTIHryvkbSdIziA/Ib5+8R8c2JLpC0PXnQ62LJpPce4+rvnzX31+0KMvuYL0YSPZ9u1CastLSezVl6FTphMaFTTJBAnyY2lTuUspr2+jPb3J/yXwfz9erCA/VcoOHWim2I+getwU52RTkLWLlAFHwyXiUnsw5fZ7TraYQYKc9gTnvp3Iyr2l/H1BFoU1DhLCrfxuej+mD048qTJUe1S21TlIs5roaev8yM8DWzPRNNVvm8flImfjumbKPUiQIJ1DULl3Eo9+tZO3fzjqzlfrrOdn72cyc3h3/nndiE4/v1PTuXLLPjbXOXzboo0G5gzLYFhEaKeeW9A8+OEoMpjlMUiQk0TwTesEDlU0NFPsTZm3tZDt+dWdLsPkjVnNFDtAlaoxI3MfxU7//uUngl6jxqEYDH7bTBYLfcZO6LRzBzlzcWo6/zpYwqgfdtFn1Xau2LKPNVV1XS1WlxJU7p3A899mt9r+zOK9nXr+bbUN5Dr8K3AdeCTHr3fqCSE2JZW+Z52N0dI8JazRbCZl4FCS+vTrtHN3NXWV5ezPXE9+1i6/7p9BOgePLrlqaw7PHyqmwOWhTtNZW93Ajdtz+azYX3D9mUHQLPMjqba7MSoKYdajt7K0tvViBWV1nVs67uPiqlbbV1XVd+r5L7z3V8T3yGDT/Lk0VFcREh7ByIsuY8xlV5+WGQNVt5tFr7xAzqZ1GIwmkBKjxcKlv3qQlIHB9YXO5qvSKvbUO3HqzY2BDl3yYHY+lyZEYTkDzYFB5X6cvL5qP88uycalekdokSFGnrl6GBcMSmRUj2jW5lYE/O7ItM519QsxtK5ATUrnKlihKIy+ZCajL5mJlPK0VOhNWfTqP8nJXI/m8fjym7udDuY+9Qi3PPMyUd1O7iL6mcaHRZXYA8yUBLC2up7zYiJOrlCnAGded3YCeGVFDn9dkOVT7AA1DpW738tk5d5SfjGlD4H0qwD+cGH/TpXvZymtR/xelxjTqedvyumu2OurKsnZuBbN3dIMpqsamd/M6wKpziycbZjAXPqZmWE0qNyPgxeWBLapP/T5DsxGhY/uPgvTMRreoAj+d9sYIm3mTpUvwWLmygT/haUjDQoP9Dz1R5JuXWdeSRV/3V/IG/lllLv9u1d2NWWHDmBojLo9Fl1TKdiz8yRLdOYxIy4Sa4DZqFtKxkR2rnfYqUrQLNNBskvq8LQyEiis8drTx/aMZe8TF/JpZj478mvonxjODePSUE6S7e+VQekMCCvhxUMl1Gs6BmBKbASvDEzDfIrbH/fbnczckoND06nXdKyK4Mn9hTzVI46xlYUYzWaS+w/02re7GGtYWKuLpyERkSdRmjOTG7vH8urhMty6StNfwqYozO4eS4zpzFRzZ+ZV/wg6ohYVReHaMWlcO6bTxGmV+3t04/4e3brm5MeJlJLrtu2n3K36fOWPLJQ9sK+Qu756g5i6KoQQTLv7fvqNP7vrhAUSe/XFYgvD42y5SG4wmRk6dUYXSHVmEWUysnBUH36ddZiNNQ0YFYEC3JuawK/Tf1rP/4nk1B7CnYL07haO2RD4tqVFByvS/BjW1TRQ6dH8BkHpQrCh11DcDjsuewOLXnmBgr17TrqMTRFCcOmvH8RktbZIdqZrKkte+xd7vl/eRdKdOaSFWJg7ojdbJw5i2Zh+7D57ML/tmYhymq/5tEZQuR8HD84IvCD6zDXDTqIkpx+HHK6AJfZ0g5GKGF9CUlS3i3WffQR4R/x7137P+w/9ilfums2HDz9Azqb1J0Xm7n37c+tzr5A6aCg0USZS13Hb7Sx57SUObs08KbKc6cSYjKSHWE550+PJIGiWOQ5uP7snVpOBvy3YQ73Lu9CXEG7h+VnDGJfRemFnu6rzzMEillfWEm4wcF+PbkyP63y7bHaDk99k5bG1zoEAxkTYeK5/6knJN9MReoRYGj1sWip4RVOJrSpttq04dx8Ay995jZ3LluBxeWMMHLU1fPPPpxh1yRWcfd3NnS53eGw85YcPgZ+OSXW7WD3nPboNHM4XW/L5ensRBkVw5chkLhqShMXoP6L3dKGhuopdq76juriY+LR0BpxzHtbQsK4W67QnqNw7QHGNkw/WH2JHQQ2p0Tbm3juBPgnelfj2LJTuqXcwbdNe1Cbv/y07DjAsLISFo/p02mJrZk0Dl2ze10xd/lDTwMT1WSwa1Yevy2r4pLgSt5RMjongsd7JxJq75tE4KzKUGJMBu6a3UO+KrjNi14Zm2yy2UCry89jx3WLUY9wRVY+H9V98QlLvfvQaPa5T5XY1NGCvrQnYXnoolwv+uZKKOjd2jwZA5qEqXluVy2f3TCDUcnq+ivs2rmXBv55FSonmcWO0WPj+o3e48qFHSek/qKvFO60Jzl3ayQ855Ux+bgX/XZXLir1lfLj+EJe/vJq31hxst1KeuSWnmWI/wrZ6B88cLPH7nT31Di7bvI8eK7aRsWob/7frINWejrkF3r7zgH8bNjA9cx//yiul2K1S6dH4rKSKoWt2srvO3qFznCiEEHw0rBexJiOhjWsbRk3FqHqYvnIe0TVHg8OMZjPDp19E1ppVaKoW8JjzX3iK2vKyTpXbaDb7HbUfQVNMFFU7fYodwO7WyC1r4MWl+zpVtq6iobqKBf96FtXt8tXLVV0uPE4HX/zjMTzu1iO5g/w4gsq9HTg9Gj97LxO7W8PdGLikSXB6dJ5dvJec0rbD+bfVNlDTigJ6I7+l8llZWcf5G/eyoaYBl5TYNcnc0mqG/7CLinb6fdtVnZJW9vWnjjRg1rbco5+lpEHVAtrCTzS9bVY2TxjIc/1SuS8tgd93j+IXX7zKkENZvn1MFivx6RkMn35pYym/wPdW1zU2L/iyU2U2ms30HD7Kb9ZLxWhkd2gfVD8utC5VZ87GvE6VravYtXJpwGdG6jo5G9edZInOLE7PueAJZnlWaYAUtqDqko835vGniwcCoOmSLXlV1LlUhiRHEhfmTaC1s94R4AheGrSWvtJ37Dzgd1+nLrl71wHmjujTpuyO40xgVe5R2Vvv4D/5ZXxeUoUmJdFGI7/s0Y07UuI6PfLUrCjM7BbNzG7eVA32p15g27cL2J+5AZPFwpDJ0+k3/hwMRiM9hg5n67cL0BtD/49F6jqHdmztVHkBJt9+D4UP/Rq3w+5LQ2A0mwmJjGZj2NiA3zuybnOqsLqqjqdyi9hR78CmKFyXFMOv0xOJaFwbkLrOnjUr2bzgS+w11XTL6M24mbNI7N232XGqi4t8I/ZjUd1uastK/bYd4XClnQ/W55FTWkffbt44kZRo24m5yDOA9pTZewu4BCiVUg5u3PYMcCngBvYDt0kpqxvbHgLuwDsA/IWUcnEnyX7SKK1z4fGjfMGr3AuqvYp79b5yfjlnC05VQ0Hg1nRmjkjmyZmDGdlaDnUp0T06DrdGiNn7AmU3OKkPcE6ANdUNPJCVx2O9kwltZUEu1mzECByP+pi9PZcSt4qncfRV5lH5a24hhS43f+mdfBxHPH5sEZGMv+p6xl/VsjBYZEIitNGJWWydH6UYEZfArc+9wtbF37B33fcoioGBkyYzZPJ0/vv8D9Q3+Fd0PeNOnQjKL0uq+FVWHo7GWYZL13gzv5xvy2tZPKYvNkVh/j//wcGtm3yL13WVFRzctoULf/4r+o0/x3es2NQeGM2WFlW5AIxmCzFJgZ+h+VsL+d3cbWi6xKNJVmWX8daaA7x47XCmD046wVd9etKekfvbwEvAu022fQs8JKVUhRD/AB4C/iCEGAhcBwwCugNLhRB9pZSB58ynOMU1TlbnlDXLI9MUq0lhWEoUOaV13PXuJhye5pf65dYCzAbBEzOHoLg1dJPSzF3uCIbceuaE5XHbxJ7e87r8j0Kb8klxFQvKalCljkQwOSacJ/okk2Bpnt7gjpQ4/ptf3t5L9lHRRLEfwaFL3swv5+dp3YjrhEVXe20N25cu4vCu7YRERDJ0yoWkDhrimynYa6rZsvhrcjZ6MzD2P3sSG774FF0L/Ih5hJEfTH24WtMxthKjcCKwRUQy4ZobmHDNDc223ze5N08v2tvi+QgxGfjNtFMjDbJHl/w+O9+n2I/glpICl5sPCyuYVnGYg1szfYodAClR3S4W/+dFMkaNxWT2zlYHTZrCmo/f83suo9lMxij/s5nyehe/+2wbzibvnFuToEl++fFW1mfEEWnr+ujkU5321FBdJYRIP2bbkiYf1wFXN/7/cmCOlNIFHBBC5ABjgbUnRNqTTH6VnUv+vZo6R2BFa1QUZo1O5clvduP2M9J2enQ+2ZTPA9P7Y1pbimtiNzhmoC3KnJgO1bPSWuZT7iMj2g6GcktJpc+OL/myrIavy2r4bkw/+ocd/f5jfVKo8mh8UlLZzMie4bGTa/Y/aow0KNQEmDkYFcHqqjqfyeREUXowl48fexDNozZO5wW5mRvoP3ES0+6+n5rSEj7402/wOB0+s0dh7n4UdAIZiVQMFFoS+daZxPvrDnFr4/0FKNq3l9Vz3qVg724MRhP9Jkxi4qzZHS7QfaC8gZeW7WNVdjlmo8KVI5O58+yMZgro1gnplNa6eGvNAUyNHYyq6fxqWh8uHnpqjES31DagBbCRO3TJJ8VVJK5egsflP2W1EAqHtm+ld6NnkjUsjCv/8ChfPP04srEDMJktGMxmrvnzX1sEfQHomsancxcysnwr9cLCvrDeOAxHTTECwfzthdx4Vo8TcMWnNydi6HU78HHj/5PxKvsj5Ddu+0ny1MIsah0e/KWSMQhBpM3Em7eMJjrUzMaDVWgBcs6YjQrZJXWY3DryuyL01FD0eCtoOsb9dSj1XqNJSpPo1jCjkVERIWTWtm6rPxYNmLEpGxXwSEmoQeHe1ATuKs4i9Z232JXWB0VK+u3fhcUg+HrGTezsntHiOK2ZhDrD2i6l5Kvn/obb3tRLR+JxOclas4reY8aT+c08XPX1SHlUNgOB5ZRAbmg6S+KnIlX43w8Hfcr90I6tzHv6CZ/JQPN42LXiW3Iz13Pz0//GFuk/8dqx7CyoYdZ/1+L0aL7n5LVVuXyxpYCv7z+bqMYkcUII/jCjP3dPymBdbgWKIpjQK5Zw66kzAlVl67+tR0qcDQ0B26WUeBzNvaxSBg7mnv++y74Na6krLyM6qTu9Ro/zmxeotqyUOY/8gYaaWkapLjzCwMSqdSyPnURWuDdw0OHRKK3t3HoIpws/ao4qhPgTXnPuB8fx3buFEJuEEJvKyjrXTe14kFKyaGeRX8UOIJF8/LNxPDF/N+kPfkNeZWDXQVWTRIWYmDawGwpgPNyAeXMF5m1VPsUO8McLBzT73s9TEo7rB3JI6TOnNGg6zx4s5p7DNSjOBoZkb2XQvm0YdRXN4+GCZZ/iz2emNTuaR0rOjQk/DskCU3pgP/Ya/+UHPS4nmd/M81Y4ku1fIPYII3khaUjhvYuVjTZvKSXfvvZSC1uwrmk46uvY+NXcZtsbqquor6r06/nxh7nbsbu1Zs+JS9UprXXyn5W5LfaPDjUzY0gS0wclnlKKHWB4hA01wMjdIgQXxUfSc/hIjGaL3310TaV7vwEttpssVgaecz7jrphF37PO9qvYpZR8/o9Hqa+sQKje38UkNYxS47yK74lxe11gQ80G+iae2GfvdOW4R+5CiFvxLrROkUef+gIgtcluKY3bWiClfA14DWD06NGnXMLlklonAczsXiRc8Pz3Ab1ompIYaaV3QhhPXTmU7/Ys9doPj+HGs9KwWZv/HD1DrVgU5bg9XpqyP7UP2/qOoDK2G9sGjEY1mAiz1xFdXe7V7R0YjseZjFR5VKLbyLZX7VH5pLiSPQ1O0q0WrkuKoZvFv0Kz11S3Wjy7vqoCRTGgd2BpWCDZH9qTEM2OkJK+8d5JZG1ZCQ3V/suv6arKnjUrOWf2reTv2cV3b71KTXExCAiLjmXK7ffQc8RoAErrnOwL4Abr1iRzM/O5eXwPNF2SEh1yyue2txkUfpOeyPMHi5vZ3RW8yv3GbjHEJFzA+nmfoXnczTo7o8lMz5FjvIvbx0Hpgf3Ulpb67bwVqTGsZgcr4s8jxGzggoGnfsrqU4HjUu5CiAuB3wPnSimbDlm/Aj4UQjyPd0G1D7DBzyFOaaSU3Phm62JL/PuIN8VsEJiNBv59/QiEEETazKx7aCq/nLOZNfsr0CVEWI385ZKBXD06tcX3B4aFkGEzs6fe2Yrxof0sOf9K738alUxdWCR1YZF+F3hbo8Dl8UW3DgvgBbSuup7Z23PRpcShSyyK4IVDxbw0II1LElratGNTe6Cp/tc2hGIgud9A6qt/gHYEvkhAFUYyI4ZxVeE8ojzVIAS2+mhyNhmJ6Z6CEIE7EntNNS9cf3mL7TWlxXz1/N+4/Hd/Jn3oCFweHUMr9668wcX5z65ACIi2mXnk0oFc2EFPD3ttDQVZuzAYTaQOGoLJcnzpIjRVRTEY2uxg7ktLINxg4NmDxdR4VDy6xFDlxrCvlmnLivj99H7c8MQzfP3i01QWHEYxGNFUlf5nn8uUO35+XLIBVJcUIQLkZDcgiVerSIy08t4d4zAbg+E57aE9rpAfAecBcUKIfOARvN4xFuDbxodlnZTyHinlLiHEJ8BuvOaa//spesqsP1BJYXXrtu62FHtKVAgXD03itok9SYw8+kLGhJl5786z2i3LHcnx/Gbv4XbvHxB/L/WRbVJ2WMFL4LYdB9k8sWUIuUPTuWl7bjPf/SPVcO7bk8fYyDASjhnBR8TFkz5sJAe3bfYtlh7BYDQy+tIrOaCF07DqS0yy7dH78phzOL/y+6P7SnBXlTP/+b8RGh0dcFEQaDU/u+p2s/LdN0h/9mW6R4UQYja08IDxHUfi87IqqnHyq4+38rJBYcqAttPQSilZ+d6bbF3yjc+MIXWdc2++g2HtTCMsdZ3Ni+azYd5n2GuqMYdYGTb1IibMmu2NqPWDEIJbU+JIrdf4+adbcTo1hCY58jY8tTCLyCsHc9NTL1JTWoy9pobopGSsYW3nilE9HrZ9u4BtSxbgsjfQvW9/zrrqerr17EVkfDdkIBuoUBg0sA9P/W4ySieXiDydaLMLlFJeL6VMklKapJQpUso3pZS9pZSpUsrhjf/uabL/X6WUvaSU/aSUCztX/M4hq6g24OJoe7lgUDceumhAM8V+PPwhOz9gW9SJGsEcp7mg0O3hgL2lklxYXhNwpiElzCnybxK56P4HSB04BKPJjMkagjkkBIvNxmW/eYiY7imEjDifbdEj8Qhjq52rRDDIno3RTyegaxp15R13C21KRcFhPE4nBkXwuwv6EmJqX+Ivp0fniW92t2vfjV/NZdvShWgeD26HHbfDjsflZMU7b3Bgy6Z2HWPpm6+w+qN3sddUARK3w8HmRfP59MmHW+3AAJ5bnI2rQUUcY0J0eDSeWZyNlJLIhESS+vRrl2LXVA+fPP4Qqz96l6qiAuw11eRsWs+cv/yeA1s20a1XH8Lj/AfHKQaF6ddcGVTsHSQ4v/FDXLgFY4AHqb3P14RerWeHbA8LSqtb+Jk3xV9U68lm8oa9/FDV3O5c4HTjCiCbS0oOOv2bVszWEK764+Pc9PS/mXbnz7n4l7/n3tc/8Nm4z++XwObYMbyZdiuFlsSAHYg5MZ0Ud0mHvXpas/kfsydCUahxeMivdmAyCATeMoqWNjrc/EoHtc7WYxh0TWPDl5+iulreJ9Xt4odP2/ZfqCktYdfK71osGmseN2WHcjm0fUuz7VJKMg9V8syiLJ5fspc9RbUBj11S66TB3f4Jea7dxZffr6Yo/3BzeRrdIxe+/DxS6lzxh0exRUb7nVV8/vdHvVk3g7SboHL3w9QB3QIuMAZS+k0RwOT+CW3uB96cMxtq6tH9jKRyHa3blzXZwmX+uLkpKYZYk6HDx3NIyZ27DjTLm9LLZsESIFgoRBEMCG19NhPTPZkB55xPxogxzTwrUmNsXDUqBaPFypqY8UBL85hQFK69/34Mho5dSVxqj3bZsyUQ1qMvDZrgkn9/z+vfH6DW6a0apTfeA1Mbb5WpjU7EXlPdwjTVlPYouQNbNgW0r3ucTvauW+377PRozH5jPTe9uYFXVuznpeU5rc6MhKDVgjVH2FprZ+K6PUzZmMVv1FBeuP63rBozFXnMy6WpHor2ZRPVLZHZf3u+xbugqyqO2ho+e/LhVoPVgjQnqNz9YDUZeHX2KEJMBsyNRa4NisBqUnhget82FfwTlw9qM1PkG/llpK7YxvTMfVy2OYeUldt5bF9zE8ykNtwNk05Qmth4k5Fn+qdxbbeYVl0gA+HWJWuqj47ep8VGEhLg+hUhuCYxpkPHr3V6+GZ7EV9uLeD+83vzwAV9mVi/BYlo0QcbDEbKDx8iZeDgDp2jrqa2TTdLiTco6m19OHe8s5HSWpcvkdyRdpeqYzUb/c7wBDAmPcaXYiIQZpvNb2d/tP3Hpyto6unyzOK9ZB6qwu72VsBqzSKpCO8Mqq1FzUMOF1dtzWG/w4VDlziNZlSTmcyhE1g1btoxewvfLGXP98sDLnZ7XE4ObG2fSSpIULn72F9WT+ahKtTGl3VIciTXjE7BbDRgNij0jA3l1dmjuHtSb/58ycCAx/n7FYO5YVwamxd+xZL//pvtSxe2eFHnFJTzcHZBM5OLDryaX87f9hf6tg0Nt9HNbAyYSvbx3inckRz3I64azMKrdGZs3MsrfjJTtpeKJmmITYrgsxG9iDcZCTMoGIFQg0K4QeHDoRlEdaBg8Rvf5zLmyaX8fu42/vj5Ds59dgW5BaWkOQow+Blfqh43m76Zx6Bzp7T7HBKoNkVw9vW3BPThBu99UtCZXPANI1c8y1UHP6R/XVaL38el6oRbjM0GAYoAm8XIY5e3ncPcbA0hfehIv2Yig9ncrgXVniNGBczIaLJafTlgVE3now15AdNrNMViVIgONbfrGl49XIrLTwelmsxsHnwWbtNR04umqnTr1RvwzkoCJRvTPB6qigr9tgVpyRmfFXLhziJ++8k27I02RCHgokGJZB6uprLe5fNJP1jRwP0fbeGLn0/glgnpJERYePTLXZTWuRAChqdE8chlA3lnzgLyn5+DaFQ8O5Yt5ru3/sM1Dz9JysAh6LrOb3blgVHgz/bzSl4pD/ZM9I38z9pTxOLuNpzW5tnw0nZlkdK7B5MyknijoPy4XSXdEko9KqUdzBHfFFVKBoc1T5fQPzSEzRMGsbSihhy7ixSrmQvjIgnpQG6Xb3eX8NySbPBKcoEAACAASURBVFyqTtPEics253J1K66MDdWVZIwYjcFkDqgomiIRbI0ZzcMXXootPJIVH7xNfUWpX8ucVASlaankde+JxeVkSM5OksqLWR5/nm8foyJ47ebRzN9eyIIdxei6ZPKABH4xuQ/p7UwSNu2u/+P9P/4aV0ODz05tsliJSU5lzGVXtvn9yIREBk6awp7Vy5vZ7g0mE3Fp6aQPHQFAnVNtkYrYqjkYVb2Fvg37MEidqpgM9nUfz+Sxg7h5Qjoxof49bZqysrLeb+0C8BZdKY1NIqX4EEaLhWFTZ/gqM0V3T8ZgMvk1SxmMJiLjm3saVTW4eXP1AVZml6HpOqPTY7htYs8OJWPL2bSeNXPepSI/D6PFysBJkzn72pvatVB8KnPGKvc6p4dfztnCsqzmo1Up4ZudxRxb6E3VJQ0ulT/N28knPxvPjMFJzGjis1xU7WDK3xZw+yFvTc+mikHTND567I/UzXqMASkx6EYR0ENFBQ463WTYrNQ7VdKWvsp90k1uWl/29RxIiKOBsVu/x+p28lyZnRG3X3xCfODbQgG/5zELwagIG3392NFNimBGfPvC+P3xz6XZft0MywlBVdWAD29MUgrmEBsjL7qMLYvmN1NuR37TI7+vRLA7rD9aojd9cvrYiXy6pISpFR9gPiZgqt4Wxocz78ZuDcVjtqBoGpnDJjJ8xzpi8yuoMHsX0c1GhVE9ohmXEcuTM4cc17WHxcRy2/P/YdeKpWRvWIPBaGLwuVPoO95/hKc/pt35c2K6p7Dxy09x1NX6FOmEa2/0zQrCrd4ZxpEuMESzc13Bp4RoTl9qB1tlFj3qc7lu9tPtUuyAr9CKP6QisCkCk8XKyIsuY+KsG31tg8+fxoZ5n/r9nmI0kjFqjO/zG9/n8vcFe2jq0LOnqI5PNh3m5RtGtsvldPvSRSx/53VfB+pxOtixbDGHtm/m5n/8G5P11CpD2RHOSOVeVO3g3GeW+40UPYK/Fglsyaui1ukhokno+NLdJdz34WbGV3jT6hyrtkXjt7MXz2NOwlkwuZVAFgkVbg9xZiPzFyzHIt1IBLGVpXQvySOk0T9bAoozh38cKG7HFf94AnUgoyJs/G9Iy9w0J4JARVA8ipmc8L4MdOS0yOFutFgYd+UsAM657maMJhObvv4CtybRVJVqYwQllgRi3VXUGcPYHjGEQmsSs5O9dWwX7Cii2mNA8fMEzJ96LbWhkcjGxVrdYEDHwLbB4+hfs5EKVywhJgMPXNDvhGSftNi8HdTIiy47ru8LRWH0JTMZfclMNNWDYjC2WGQ1GhRuGJfG+2sP4VR1xlRtaqbYwesv73E6+fb1l5n91+fade6busfyaE5BiwyTALEhIfziF78mJjnFl0HyCOExccy477csfOk5pPR695gsVoSicOVDj/o6thV7S3lm8V6OfYUlXpfTX3y0hcw/T8Paipuq6naz4r03W6ahUFXqKyvZueJbRlx4abuu91TkjFTud76zsVXF3hoCr3fBEeX+yabDPPLlLpyqTqKrdfe7RFcJblWCXQWbseXovdFGeumW/QBYwqOIu+RWCrtnIBv3DXE2cNniObgtFhZdOOu4ruFEMjAsxFfE4UQTFWKipM6/x9DquElMCwuhKGsnUkqEoiB1nfFXXU/GCO/oTigKE66ZzZjLr+bR91by1e5K6kwtF6kFR5O2rd1fQYVuocwSRzdXiW9RqjYskqKEFJ9ib4rHZKZgQG8i9ilMPb8HrhQbmTUNjIywnTIpB1ob7f9uej+yi+vYeLCKfg05AZOxlR7cj6O+jpCwtnO7XJcUw5yiSrIaHD4FbwDMiuDlwT3pFt3yGBX5h1k/7xPyd+8kLCYWKSV15eWoHjcJPXvhdhwNLHxpWU6b6wRL95RwydDuAdsLs7MC/j6q28XuVcuDyv2nxq6iuuP+rluTTH52BRcNSWLW6BQen7/bZzpoMNiI9VQGVPANjalLzdsqcY9PaB4ZemTxq8nD5jIYKUju1WybwxrKx5ffgbmVCMuTyfyyav7aN6VTjn3T+B68tDwHp6f5S2xUBJMGJDHrpscpyzvI4V07MJrN9B49zm82R5PZwsjhA/ni0E7w459tNSkMT/WmRIgONWMQsDR+MtcUfo5RVzGiURsWiUHT0AIoSbVbPI4kA1/qTubuL8SAoE+ohY+G9SKmAwvIXYHFaOCd28eyLb+G7x58LeA0TQgFzd32GgaARVH4YkRv3i+s4N3Ccuo0nQlRofyiRyL9/Jjw8nfvZO5Tj6B5PH4DrEr272Pe008w/Z5f0H/iueSUtV7a0qNLqgIURzlCW4FcrXksdRSPy8mOZUvYufxbVI+bXiPHMvLiywmP+XEOEa1xaj91ncCJ+MHqXRqfbMrnk03NXRfXRo8jrShwRGmaPY+rCj5ndewEitaCe0g0hDVRFseOIgKlDJASt8XavshSKTEIwaAwK9vrT3yH0JoETk3HLGhXAXEpJbVlJUgJkQndEEJw16QMVmaXsauw1rfgHWI2EGMz89crvLbs+LR04tPS2zz+xUOTeGpRVrPUvOBdF0iLCeWsDK975lUjU3h37UGqZRTvp1zHsJod9LQfxO0QaIYAr4uU1Aul0c/9yMElu+sd3LnzAJ+3oxxiVyOEYHhqFLmDh3Jgayb+DJMh4eGERgd2Yy1ze/iwsJLt9XZ6WC3c1D2WO1PjuTM1vtVzSylZ8NJzfoO2mqK6XSx98xX6jJtIfJiFarvXJBfuqeWsqg1k2A8ikBwKSWVr/HgGN5raAtG9b/+AfvNGs5n+E87x29ZRPE4nHz78W6pLin0moC2l89mxbDHXP/EcsSkt80qdCM445a4oCkZF+C1W/GMpsyawJ7QvAxqyAVosytqkixB3CdcUfcEm+wjW1XlzzHh6h6NldCCNaaOCb+++GnSKYge40k/Bjr/sK+Ct/DLfcqQCXJEQxTP90rD58Y8+sGUTS998pTHlr8AaFs7k2+6mz9gJfHTXWSzdU8rczfl4VJ0ZQxK5bFhym77ix2I1GZh7zwTuem8TeRV2jAaBW9UZmhLJf24c5Zue90sM57YJPXn7h4M4sLEuZhzrY8dhNSr0NVnI1jxox3RWgZKHeSRsrrWTa3eRYQvsYnkqMfHaGzm8Z0cLRWs0W5g0+7aAZow1VXXctOMAmi5xSYlJwFsFZTzZO5kbA7jrSinZll/Dgb3Z2OsCR8Q2+46uU5Szl9vP7slj83dhtldzbeGnmHW3z4SWYT9A+uF8umvjgMCFV0xWK+Ovvp61cz9qdr1CMWAJDWPIlOntkqktNn39OVXH1JPVVBVN1Vj06gvM/uvzJ+Q8xyJOVkX71hg9erTctOnkBSc8+tUu3v7hYIvtVtXB2RVr6OE8jIaB3RH92RA5Gtodlu6lR8NBJlStI0ytxyI9/l3qgLdTZlNvisCTEYbWO+K4c7x0JZ8My2BSTITv8107DzC/rMbvvjYBmycObubnfnj3Dj7/+6MtFrWMZjOX/fZP9Bw+qsVxHG6NOpeHKIuBbYu+InPBlzhqawiPjWPszGsYMnl6q7buvcV1FFY76BkXGtA1cVV2GW98n0t+tYPk7uEkDYjBaDPyXUUdpS43Lun1FJICoo0Git3+XUnDDQovD+zBBXGtjyJPJfJ372TJa/+mrrwMFIHZGsK5N97OwEmT/e7v1HSGrNlJnZ+UE1ZFsHJsf3qENO/cckrrueOdjZTVuUh0FDEtfz5m3av87FYbu/oOpyY8mvjKEgbkbMfcqBjNITYuf+BhUgYO4b6PNsOyd+lZn+t3ATy5/0Cue+zpNq935/JvWfPJ+97BhRD0HjWO82/7GWGtzFI6wn/vvZX6Sv/5jAxGE3e9/FaHq38dQQiRKaUc7bftTFTuALf9bwPL9x51g4x1VXBd4aeIJsHREnAKC2+n3YSqdLywwiVF35DuzAuo3PeG9uHbhKnoJgX3+Yk/SeUugO9G92VguI0qt8qANTtb3X+E1cLz0Rbs+7ej6zq7VnxHRb7/cPro5FRuf/5V3+eKehd//nIn3+4uRYsxk2Y+TKyzirTD+8hLzqAsNhGbx4U1OY26xFSSLCbuSInnvJhwNAn5Ljc2RfFlpHQ77EgJ5pAQNtQ0sLPeQZzZyAWxR/3xnz9QzIt5JehS4pFeFz+b1JkmHSSH2rhxSH/u2XaQtQ12v7+fokkurBX8YUIv+v2EikxIKamrKENTVaISElvNu/NVaTW/ycrzW73LJODe1AT+2Ovowma93cn0pxZS6hR4FBNpDYe4rHQBAshOH8A3U68BKVBNJkweF0KXzPrmfySVFmC0WPj56x9gsliRUvLCjVciW0kVff/bH/tNK9FQXcXmhV+xf9N6jGYzg86dSp+zJhASFt5uV9P28tLt1+IKUMHKZLFy09P/Ijox8MJva7Sm3M84s8wR/nfbWIqqHby37hCarhM+9wNcx/T+ArBKF9NKl7IwsX1pVpsSpjW0apMO1bw/uOLREcUOZGLIj1fwx5G+90edDvh11mEWj+nHnOKKNvffYnfw1YsPIgCjArKVXCEVBflc+sJyPrr3HAyKYObLayhscOEcE420GckyRoOENaPO836hqbmqwcmuBidrquoZFmEjq8GJW5doUtLLCBeu+ALT7i3Uh4Tx2eV3UBsRgy4EJiGQHOap9O5EW038O6/El64YvMnaHJrG96Ul3LT4fd43WDjU9yoYld4YmNb05kikU2XFpjJ+2FLEC7OGM2PIqVEv9QhSSio8GiEGQWgTTyAhBBFxCUgpcXg0zAaauXdm1jTw5P5CNtZ6n/FAAUseCXtrHdQ5PdiMgjWfvMemBV9zmaoBknxLd1KchQig3hbON1OuQTUe9aX3mLwj/s8uuoVffPwC42fO8ilrIQRC6gHz4Aj8L5pWFhbw4cO/RXW5fDUEKvIPs/27RdzwxLMnXLkn9enPwa2ZftsUg4GIuPbloeooZ6xyB0iKCuH2s9N59IPvSa+v9auIBdDTcXzZ6Eos8cR5KgIqeLc4+hBbtlfhcahoPZuM7o5HSXfB6H9nfQfqvAqBsTHFf3sy/e8qruP8Z1fwwPS+VNU5iOjlwRFqQD9SXLlFUEHzDQ4pWVdd32z7brdkz1mXcGV1Nd+PnUaZLdLbJ0jp6+Dvz84Dtw5WY4tz6AYDhfHJlJusRNRVc9W2D/hv7H24ezYWPlEEqDroEtOWSnRd4tQlv/10G+f2i8dm9v/aNWga2Q0uIo2Gk2Kj/7CwgqcOFFHt8eaUmRQdxlP9Ukm1mpFS8uGGPF5cuo+KBjcGRTBleBITxyZTpKq8fLgUZ3vWrTSdVRsLGPVZNjc0rCCqYh/S4/YpnjTnYd/t3dFvpM/l91h0gwHz7HsZM/X8ZttTBgwmb+c2v9+JTk7GHGJrsX3Jf17EZW9otm6lul1UFRWwcf7nTLjmhravqwNMuOYG8nfvbGl6tFgYe8Usv4XCTwRndG6ZomoH4/++jC27W9a6bIo/e157WBvtXTAN9O0Mx0HuPPAmqF57rWlfHdYljbkzfoImmusS205zbGpHOgDweuPlhaSiCwNl9S7e/eEQo8tXUZqSgt7RkZUfLySpGPh8xs2UxXTz67uOIsBqCJwdVFOpDYvypvrVVYZs2Yh5XRmGvAaUIjvG7Fosq0pQGo7a4gXw3Z5S3+cttXZ+tusgk9bt4ay1uxn4/U5mbc1hysYsJq3fw466wHV5fyz/ySvlT/vyKXWruBtr7q6orGP6pr2Uu1X+uXQfT369h9I6lzc6u084X0RJHsjO5/lDJe1T7AAS9MMN2BwVhBRntXClVDh6iyujYgO6mkqzBaXf4BZrKZNm3+Y3H5DRbOa8m+9qsd1eW0NRzl6/Dgmax8OOZYvbd10dIKl3Py79zYPYIqMwW0Mw22yYLBbGXnY1Yy5tO5XE8XJGj9x/9n4mHk1SYml9WuQRbd+mENXOeeWrSHN6qyYdtiSzIvZs8izJpLkKmoW9N/1rxc2dBe/yRo/bAVBTWo40/OLHL76rGBHulTnabOTiuEi+Kav2L5eUjN+8wu8xmpZx1fGWyVsVO9HXXlhYzEBRgUFX0U7EYyuEd5QoA9y/Nu6rajASWVcFgAmNJFcxu+oHoez1v5gMoElJtcNrBni/oJw/5xTg0mUzt3JXY3Bdtt3FFVtyWDG2PylWM7qmkbtlE+V5BwmNjqbvuLOx2Nr5rByDQ9N5+kBxi+hRDWhQdV45WMwHK/f7goTUjDC07jYwHIm1bgUpMQuvJxI6mDdXIDw6afY8RBtZN+MqSzF6PKimlgreDKjbN7F2Yw09howgqU8/hBB0y+jN1Q8/ybK3XqU837u+FZHQjcm33O3Ln9OUgqxdraYNbhoodSLJGDGGe/7zLiUH9qO6XXTr2bvTUxu0p8zeW3gLYZdKKQc3bosBPgbSgYPALClllfB2qy8CFwF24FYp5ebOEb1j6LrOD/srUHXJ2b3iMBoVduR7X0RVMVNsTiDR3TJZlAQ2Rw5v9diR7mpmF8xBabIYm+E8REaB15zTmpoQgFV3kWI/TL4tFbVvO2qaNh11HLGxd6GyvyX5qFfB38MlRSvXs3nguBb7Ddi7hXFbv2/zeN6UapJwtZ4akzcoKcpRgq2hAU3pnGjYjqBoKgnlRawePYW8lAxMHg/RBwqRFQLRyohWIBiRGkWFW+VPjYq9NVy6zmuHS/l1uMInjz2Ey25HdTkxWiws+99/ufRXD5Ixckyrx/DH3JJKtACOFC4pmVdchcmg4FJ1pAAtPdy7QNIOzB4XkzZ+R46pF0XV4XRzlnJOxRqSXIHTZBzp2Ifs3cza0X48cqREOhrwfPQ6P2gqG7+cS1Kffsz8w18wmS0k9xvATf/4F476OqSuY4vw75mk6xqLX32xVfkTe/dt13UeD0JRSOx18mIe2jMEeht4CXi3ybYHge+klE8JIR5s/PwHYAbeoth9gHHAq41/u5R/fbePF5dm+/JQCAG3nNWj2Qjk86TLmV0wh0i1efRqTkhPNkaPQeAtwmAwKDiOiZi8tGRBM8UOR33c26tqJ1WsJsfVm1XGloWZfTR5IYWuc8U377L0/JnUhkV16Qj+/qx8dtc7eaRPClsXf83UNUuZ8v3XFMYlkdVrCGZNZeSOtZhdLlQMGP1kjT/23pmkxrSyZfwv9SYQApewYHE76XNgN9k9B3bcNBOIjtw3KUFKwhrqKIvtRnF8ss+kUxkei7CrmNeX+1XwJoNgQFI4g5MjeaegvF32UI+E5RV1pL74LPVVlb7f3+P0xizMf+EpbnvhP0TEtR4kdIQGTePKLTlsr3O0Ovpu5rdvMbTbeCt0jT4HdjNix1oGi4182e1iLi/5pkXN29rQSFxmC9G1lRg11ffb25x2Zi7+gHnTbwDpTeugqCoW1c2s+f+DxsVPj8tJwd7drHz3TabeebQod1tpEXIzN3ht7YGvgAnXzG7fxf4EaFO5SylXCSHSj9l8Od6i2QDvACvwKvfLgXel179ynRAiSgiRJKUsOlECd5R3fjjI899mN9smJby99lCzYCZdMfJe6o10cxYzsC4LjzCyNWoY9UbvA2OzGHj5hpEMT4li+BPfHj2YrhOl1gRcjG0v0Wo1o2q3sIpWlHuTl04qCl9cfBPKSfaOCcSr+eXcnBxHVXGhz0Ohe3kR3cuP/vRujFSbI4ny1GCU3pdatBKQZdZdxLkrKLfEUWRNRBcGLlj1FdURMZTEdUcqSvNrb3qc9t6TpjMfIUDXvX9biQ7WBaimY+y8RgUZakL0CGWAU9Dg0iivd2FQvCaKsT1jeOmGkQDUqBrudtqszR4Xjroav/dI6jrbly7i7Otuatexbtmey7a61s0OVkVwY3Isr+qNRdk9evvupa5jUj2Mz1zhlQ3B5PKVzRR7eXQCCyZfRXl0AgZdQwrBmG1rmLBpuS9Fdnr+fn7+7j/YmzGY6rBobLV1DN+fiUFvPiDQPB52rfyO826+M2Cx72PZtXJZq+22qCiS+w1o17F+Chyv8bJbE4VdDBzJrZkMHG6yX37jti5T7k8vygrYpvt5YUqsiZRYE1vuq3sr2JfWNp9eWrQfb6MTjf82DJvY1q5NvuRdFAw0vT4hdMTUIyV/zy3i+h4Z5GftoSAuic1DJiAFDN+1gbSigxhRiXLX4DGYKDfGUmGKJcNxyOcS2uKQKFw2KI6FZVaKapwsSpjGJSULueGL1zic3JNVY6dRFt8dg6qiKwasLjtDdm9i3ejz/R7PL0eu7YiCb6OzVHQde0iAEaJBkDA4joUTByGlZHdRLaW1LnonhJEac9Q+PjLChtWgtFkD16YoTHdXIQN0BJrqoSzvQOvX10ilW2V1dWujVm9QVqLZxB1pCVin9eWf3+7D4dFQypzo8daWBYSlRDT+Sy4+yNTVXxNd6y1+blYkUWq1b9d6WzgfzrwLl8kCioKGd+a1YdjZqAYj565fclQOj5vBezeTF5JKd2chhgBuVarHTUXBYbr17NXm9W/7diE5m9a1uo+zvo68ndtJGzy0zeP9FPjRK1NSSimE6LCGEULcDdwNkJaW9mPFCEhrhXx1CdeOSeHjjYHzwRzBo+msz63Aam4+R51WsfxHy3iELYPGdWwUfgqM2H0Iwc6KeoZecBH3h6VRHnM0l/beXkOIqinn9jn/xoyKWVMxa26MUmN/SA8G1Wf5zUQYahLce+Nk0jKL+ceiveSTwpzuVzOyZivdi4uY/cXrqGYTFVHxhLgcRNdUeNMyDxmPyxrS4ngtRr/+cvkoCoqqel0t/QUlSd3rARLgNqi+vkIwqHskg/zEpkyMCiPVaibH7gzoHx6iePMBXaGEsTBQyUKDkZik5ACSNOe7irbD+29JjuW36YmEGQ38bFIvkiJDeH7JXg7ursY9PgHFYvBdX6iikO6xM+Xjl1Hs9ZiOCSQyGY14NO+ovSEklK+mzvIp9qaoJjOZQ8Zz1paVWJq4CqrCyIao0Uwr+44oNYDsUrLwpee45dmXAaguKUJzu4lJTkVp4gFVdugAK959o82UHbqq8sU/HuP8W++muqQIk9lCvwnnENO9cxLjdTbHq9xLjphbhBBJwBH/rgKgaRaclMZtLZBSvga8Bt4I1eOU40fzxxkDeOzSQczdUkBprZP/rsptkYUQvMU65m1tXuLLqHtIcxS0an7piN3dYT0O74fOVPAdtEcfdHv4Q4Xbq9iP+W51ZBzvXH0vt3/mfRFNaER7qtln64UmDBiO8aQwWiyMvngmZmsIN49PZ0dBDd9sL6JOiWGZ+XySHQVcXLIQi9tF99KjnbMApq76igVTr/GabZrJqDN85zqy+gzHGRK4Uk98ZTEl8cl+r9+gaagBim8bBZwd3Xb1HiEEnw3vzZ07D7C1zo5JCNy6jlUxYDEIYkxGbu0ey/XdYzEhMVkseJwtZ4iKQWHotPYF19kMrf+WFiF4ok9zJXbZsO5cNqw7Ukrsus4XxVV8XVaDRRFcmxTDuTYj//vQjesYxa4YDEQlJmEJC2d1TQNfTJ+NajQFfJ50xcDKMRcwYdMyLG4XmjDwXex5FFsT2Rw5nHMrVgdMQ1xbVsrWJQvY/M086qsqEYqCYjBw9nU3MfyCiwHYsmi+L1ipLVS3i6VvvIzUdYTBwIZ5nzJk6nTOv+XuUyZ9c3s5XuX+FXAL8FTj3y+bbL9PCDEH70JqTVfa2wFSoq3kV/lPmhVtMxFp89rrZo/rAcCoHjHc+743mqzBraHoKimOAlTFRKElsdnIw6q70BEE8t+QTf6257GIqSmnLPbUimBsN0KgG+Dr8tqA9uqK2EQ2DJnA2B0/AGCSKr0cB5ibdDnTy5eRQD3CYGBfch+yJ13E51GxjMrK497UBJ6bNZyfnduLb3eXUFHvYvXi7ID3dGDuDqpXRrJm/FRoTDAWU1WK1eVg+6Bx6IoS2PwiBNG1lSRUFLOnzzDUxlqfiqai6DrKtmqICYWexhYeJGah8MsebVf/AYgzG5k3sg+HHC5y7S6SrWa/1awArvrj43zy+EPoqobH5cRgMgGCqXf+X7vD1ifFRLRIZNeUc1rplITwRq/emBzXIgnYtY88xRdPP46zvh4hBLqmEt8jg5m/e5jSigoeyKnw3cNASEVh54CRZPcezA3zXiOyppIwzZvSd1f4QEZXZRKh+zcp6ZrKindeR9eaL9qufO8tFMXA0KkXUlmQ32Z632byNO4rNQ1V09i5bAnd+w6g/4RJ7T7GqUB7XCE/wrt4GieEyAcewavUPxFC3AEcAo5UjViA1w0yB68r5G2dIHOHsLWSPfD8fi392yf1jWfTw9N4b91B1r7zKoPqj9rsdRRWx4xne6TXJudQGtPuBnhjjrxMRaZ4kjxlvm2BmLBpOd9Mvrrly9CehcK2FlZPxsJrW8cXgpXjpxNfUUzPQm/gmFFXKbfE80HytWz8xQj+UlDFYruKXZdgd5Fjd/FFSRWvD+7J1G4R9O3mtXfP2LQTUe7/xqsoWIvqsKwsAYuCHmGiamis17OlTTdTnYH7tpGRl02/3F1sGXwW9bYwQsurqSgOxeUxY6z2elRpPcNQALPZQJLFxL8H9KCXrWO+yz1CLC2Sah1LQnoGd7/yNllrVlF6IIew2DgGnTulQ7nAw40Gbk+O462C8haPqwl4up9/00NNaTF5u7ZjMJroOXwUIeERzdrje/TkrpfeojA7i4aqCmKSU4lL9Q6U1tk1jOY6PO0JZDWacCgGvpp2Hbd+9jKTKtfgMoawN7QPQhFI3f+7o2maX3OL6naxes67DJ48jbi0HhTu24vU2xES7QePy8XGL+eefspdSnl9gKYW5eUbvWT+78cKdaKoc3rILgm8iLRoVzH+km2GmA3ULf2IQfVZzR4oAzqTKtfgMFjZF9YXTTGyK3wAw2p3tKq0XUYbX8ZczKTy1URrzT1r6kIjWDdiEvsyBiGB+IoiSuO6o+gaqtHsDbQ51iOkjpwtrAAAIABJREFUo0r6ZHrUtHUuofDZpbdh9riY9cUb5OtHR57bjDYW28u8ir0RDXDokpu35NB3Ww0zBiZx+9k9eee3l/Pc/UuIdZa1mLJLobAtYghEmAgLNVExMLJ9ftqNbo52s42K6AQySvJILcpjXvwMCkOOyikAU24dE4SJh64ZQoTZSK8QS6dO283WEIZOmQ4cfxraJ/okE2k08HJeKZr0Bk9lhFh4fXA63a3NOxhd01j0ygtkr1+DUBSEUNA1lQnXzGbs5Vc321cI4dfLpNjlwdURg6uiUBUZS2VkLDE1FZxb+QMN1lhCVAdFCSlsHnwWNRHRdCsrZNTOdUTXVLRqR3c21LNl4XyGTJnBrpXfobay/tYWteWlbe90inFaZ4X8IaecG95Y3+o+B5+6uMU2XVV5fvYVPvespki8I/Y3e3gnJYrUuOPg//h/9s47vI7qWvu/PTOnq3dZlm3Jcu8N94axMdUhgIEAoQQIgfSbey8J301uSO5Hkkt6J+QCoRkIGAym2YDBvchV7pJtFVvN6jp9Zvb3x5FkSaeoWAb8Xd7n8fNYU/bsM+fMmrXXete7bESX9j3qGsm6jNC78M7Sp4kzPQigKT6Jf1z/AAGLFbOtEYRi6FiCASYd2sGOKQujVnpGpAB+FmKCvZ2LlCimQcI7J/FpTmyqIH1RDsVqZOqdGgyi7G9CPevHogpee2Auit/NUz/6AcnBxo5m1yB4edJNVE4pAFVgt6o9l8pL2dYtW4IpUTGRQpDt8/LLkfl87dkD+Nr0VyBEGom3W3jrW/PJjLdRWNqAJ2gwaXBSrxtIf5rwGSYnvSENm0H2yPP9+Pmn2PP2GxH1UK78xvcYMWM2Ukr2tnhp0Q2GWDS8rUEy4m2kxoVeFGtrG/nW4chqkdFg83u57p3nyK081fadwtapi9gxZQG6qoUS3m0hsmvWv0hB6dGY41lsdlSLhWlXrWDrP1e1Vaf23eZl5hdw26O/6fN5Fxr/a1Uhc1NjJyjV7tSuNlSfOhHRsEPIa3OY52L4plB5P2MxV9a8F/F4gB1JIU3yOL0Fu+nveAl8OPsK/FYbslPVpalqBITgSEEMOlZfmnV8ViEEpqLSMiIDy8lWHDaNU81eSIkc1lCkSQItuLESNCTX/GETH//bYlbnriTJW026/yxe1UHJoBH4Z6RDm4JhrzRQ9LYXiqaACkZbFqUqLp7fuD28+sAcHnv3KJtLzqIKwfLxWXx3Wajv6NW/20jQkAgBAd3kpum5/OjacVF/WxcSQcNk3aFqDlQ0kRpn5dpJg8hICL+fdlVhTFwENlEbDD3I3nffDDPsALrfz7Z/vkD9iAncf6iU5qBBQDcJSomt2ov1SBNz8lJ57MZJIelkJUT5DPsWoqzwdFUjpfFcCPNsckbIsHcKVZqqFsrvXLaSB57+GdYYydKg30fQ72PXG6sRqgJGZN39WLDYbGGrlYsB/38b92QnqS4rdVF6KS4eFbmyL5KSXCyccA2nXksiRW/sogUPcMaaSYsWR1ywmS9XPN8hQiYRlAwb3cWwt0MqKs3x4b1AuyBKc+3PBPqwgpCpNjjZSpMniKO6ntakzCj3RGFS+R62OEIFz6aEbzxfiCElNbYMatr0gQIjkzoMe69gSnDrEB9e8WoQkratzND5+51dy/yLTjfxtecKw5hVLxeWY7MoPHzV2N7PYQBQXu/hxr9socWn4w4Y2DSF/373KD++dhw3X9I3qrG7sYFYK/oTrV5+tO8EnvYkpQIg8GfY0Q3J5iNnuf7PW1j/3YU8kpHON4pLMaxq16KzSKszPUjBqSO4vOdCqQdGT8OIwk5CQsnQ0YwpOdDjZwr6fX1usamoKkJRmbTsSkbM7EMNymcE/9+rQj5zzyVhtRcASQ4Lv7slXFgIIDVnMJrNFtF3l0CtpU390DSZW7eZr556nJROBRudMShQzQOlf+OG0690kSiQQmD2N4wS6cG70CGZPrT16xOCJqqpk+8uIU2vQ4oIP0kpSWyqY0h9aZfNe8qbOyQlOg5N6IMsgZQhWV9NRH0hBHWTu1fv464nd+Dp1G3pjx8WdwhrdYY3aPLstrIux15oSCm566md1LT4O+o6/LqJXzf5zzcOcqSqdy3s2mF3xXXo7Ac1Cw2Jqfis51YAO6fMJxDJUGoKxiAnQVVQ1+rn3YOV/OKVIoZt2BP63UcJMQrDQNOD5J45yfINr3bZ3eqKj/iyBzAVpdf0YTNK4jUaFE1j7k23c+djf2ThbV+56GiQcJF67qYpeXXPaZ7YeIKaZj/56S6+fmkBiyKwX8ZmJ7Lr4aX8dO0hNhyrwaoqrJyeyzcvHYEWI8l2+Ve/xZu/+0UXGmN7XPedjKVgmtxZ8WzUhhzdt8VJX5dtijRJr6uiNi0ylS2trob6pNRQLP58E6oDgQt0zSFFR1lRtgZdUXn86n+NSk+sT87Am+iK+vkzfdWMbznIOv0GAlqUkIMMxctNCMX8z3hQT3sITo/NOjF8Bh+eruXmv25jzTfmAbC7rCGqrVAVwYlad48NmgcKB043cabRS6QIVNCQPLn5FD+/vvdVl1aHk8HTZvJ3ayoHRk5GSImpqOSVH+OqLW9RlTeaqK8uU2LGa7jrA/zqvWM0egLoaTloepBAJA9cCOI8zdy49h+kNtaG7c6pLOPE0NEEI9ApFWmSUddbpnUsImg4XEnJF2UopjMuOuMuZajpwTtFVXiDIe+ivjTA157dzbeXjuCrC8JLkVPirPzqpsjKjr6Azu8/LGHXqToqGryYpiQ7yYHTauNU1jUsPvsRiXozEkG1NZ2tyZegYjKzYUePnZY6I9Jxi7a+y+rlt4ZRHzU9wPDSIzQmzMbs3t2nsw7KQKE/miwDcD3bmSa+UPI6FqnTnJBMrIdPCsGOaQsZvPc0FY6utL059VuZ2FyEKg1qjuxi9/hZ4brgpoSWIJYyN+NTXRQdqEUAyjgHOrKb7FsnCIFoDcV0959u4t2iSi4fn02C3UJ1c3hMGkA3TRIdA9vNJxY21zThG+Yk3l/P6NKDpFRXcyxuJKecQzFMheKa1j6P+eqiL3KgrjlUfNSGE0NG8nxWLrkJiVREa9AiQLRxH0/Ve0CCYVgxI63I2pBWXxPRsAOMP76HzZcsIcSFPDeGYhgkNdWTU1XWq8+jWixIaWLqPa+oFM3C5MvDiRYXGy46476nvLGLYW+HN2jwq/eOccPUwR3Z+p6w/lAV9z5TGOaBVbY/tI7BPJMbUokb1XKUxXUfc131mx3Hna8ZHHa6hGvWv8j6edd0LC/tfi9LN77BwZGT0SM0IQhduJ9c9x6g6MGQ2uKFMvBtN1rVg0zbtpGkshqUNt0Qa9AfW85XCE5nD2HG9mNdjPsg3xkmNhd1CFTN2v0Rx/PG0upKOGeYjBALxrq/HuExOHjG0/HdaU4ZXsna5boQmJ2BbUsNImDy07WHGZmfgmVaGn5fPFJK1Eov2skWRMBEAPlpXbVkLhRMKfnOkXJea2ogMDQOj4inMT+b1IYarnvzGRqbk3hz0DWMyOi5arYzjri9bGnxdTHsEEpkNqpWhhVuxjZyMv5IBjtoIlpCL8P250pr8KL4rbRGEPiyBP1MORid0WYL+Lnl9Sd49Yrb8NqcCCSmUEivr+a6t5/t8RnUbHZUVeXaf/kB6x7/Ay31ZzGCsatVpaEzLkoz8IsJF51xX737NH49Ml9VEYJ1h6p7lUDyBPSIhj0S8twnWXr2g/M25pFQUHqU4aVHaUwIaaInNdcjgMMj+ile1B8D33a8abFemMRs+5zarmNoFvYNn8oEbR+FMpFTuSM5nTUkFFuNMX+LruNTurI/JjQVobYZ9qCq0ZiYwjXrVlE6aDhFo6fSbE1A1gTRyloR/vA4cWpTLc1JyWGaJx1QBFgV/IuyIGByssrDZbuO4jNNZJvOkJHrwsh2EL/jLA4TfnNzbP3/gcJzZ+pYU9OAHzrmH7TaqE3NYuOcy7ns4zVMad7HnXMX9mncTQ2tHWqp3RG02mhFkFNxgtM5efjbX8hm2wt0X0PYc+Iw/Sxd9yKvXn0HhqKGVlUypCI5qriI/LJjYddpv7pfWElvqOW+537JmcxcWl0JpDbUktYQm3euaBpZw0cwftFSRs9ZgMVu59ZHf03h2tc4uGE9PrcbPeCPWLmqWiwc2bKRaVfGUGi9CHDRGXd3QI8YW4SQJ9Pdo4+G364/3ms7tujsx72cXf8goENN70j+OA6MmY7b7gxJUcbyKsMGGgCK5ECHfSKNJQT+7CR2ZS/ssq3j+AjnqHqQ8Ud3M8xdzLG4AoJKyAuMN1oRwJapi9gxZX4oPiwU4jwtLP3wNQ6ZIyhxRVcNHH1wH+WD89GVGPz09rnYVPQhcejdeduqAKEwbHY2T04aTHZKdJrhQOIPZTVh3ZQg9PI8MmIil21+kzm+I4zOSohwdnScqmlF183IhV+miU0PcOVbT3Ns5GTOXHULZ3wGNaVNqKWtKN7w58+r2smsreIrq37DnnEzKR+Uh9PjZvLhHQytKMEZl4C3tWvSVwAmAosM0l7BkFNdHjZ2OxoSUjgxZCQSweCKU8xZsJQvfOnGLolQuyuOuStvY+7K29j6ygtseem5iGPpgQCNlRElsS4qXHTGfdGoDN4tqoqo9igEzMrvuY8nwOE+MAhcpqfXXntfhMI6I6BqPHHLd3G7Yjcc+EQwkGGZaGPF2t7NwKt6kPjWJmbu/Rg1EOSq6nd4LftaAKpsmZSMG8uuKfO7JN0aE1N5ecVdOE/WEXC6kHYNpTmAWupG8ZyLu1Z7k5m2dzO7pszD6J687su8FcFR3csL37wTRQhyJ04lM3cIdRWlxKemM2npFWQMy489dh/g1g3KfDH60UqJ1+7EEei7JPW+nZUwPPILymIEGXN8H4qUjC0+wMoDWSy87W4u3bqVigiGHUK1IPsSxjO5+QDzd77fdTybDdUaOT/Rm97FEsG7C1dwaMQkJKItti94qdrL0oBOnC3y2ElZg7DY7R2NTzpDs9pIHpQb4ayLCxedcV8+LovH3j2Kv9HbZelo0xQuGZbCmOzeeSlDkgcuJjoQgYx/XnlHyLAPhGEdCM/706x6FQJL0I/d50UzdMYd3c3Uou3YgqFcSJa/ihT/WRKMVvyalV1T5kVkUyAUPHlpHWMaCRaMQU7i95wh0KIQGJ3E7sylICQuT2totXQeneiDFguvLr+Vscf3oe/fTfnenW3TUDj08QfMvG4ls754U7/H74y/lPdcDu/wuknJ7bucdmlVCypBjPyu7fW0YIC8smMdSUzT0Dm4YT2HP/6Q+y+7if9yx4V1KWvH9uRLSNBbKPCcxGYJafxI02TqVV+gcO1rfZ5jO3ZOmsPhgolhCXR/pp3vvr+Tn00eEibZa5qScjWNQFCP7IgJwX77cDa9f5xJuUnML0hD+RSK0s4XF51xt2oKrz4wh++9vI8txXVYNYWgYXLt5EH8ZMX4Xo/z3aWjeHZ77zLt3QuUuqOdZKWjoEVV+o4OE4XTg4YNmCFNaKylOamtQKs/Y0pJckMNKCoNian9H+c8YAkGuP+5xyLuk1JwfeXrKEhqUzPYHisU1XneigBF4J0UujfSYm3bL3DHJfSqWUdUSIkUCieHjqIiexg7J8/jlteewKoHkKaJHvCzffVL5E2eRmZ+Qd/H74bnKuujOxVSMvJEEQ5NZfYNX+rz2KkuG80nW1FaddQ8K9Kp4fK0Mm3/ZiYdLuzyHBjBIAZB6tat4qEvPMAvD+g0+8IZKVIovJexFHea5F8nCISqMnzaJcQlp3Bk80c0VUfvsRr1YwI7J82PrDqpKqyXJs/8+7dIzMzimm8/ROrgXHxBg2/915PkH3kDpETj3GpbtVgxEaxOW07VB6X4gyZOq0pmop1V980iI/7CNrQeaFyURUxpcTaeuusStv1gCa8+MIdd/+cy/vuGSdgtvW+enBJnJa8HeYJ2vJdxGRDbQxeApY+GvV07wxOpsUR/0Gac7n3xd/zLX38UMtD9icELQUNSOuOO7mVW4YfnN59+QBgGw0uPht3vxvhkTuSOoDE5BZsMYJVBHEF/TJpdJOiaJWQQIjXr6O9LrNN5QauNuqR0Nndr9mzoQfate6t/43eDJ4Zei5CSWUXbmHPjrRTMmNXnsb8ybxgOi4pa60Nsb+TG55/gjhf/wOTDu6LKcugBP46D6yl8eAlzUjzkalUk0LUfscOqsnJaNiW7d/D+3//M3x68i1ce/RGj5yxAs/WO4dYZhqLijVFN7nG48OtB6srLeOGH/4q3pZnHXt1O/uE1aNLocMTav7mgobM2fSmnLFn4giHJBHfAoLTOzf3PFPZ5fp82LjrPvTNSXNbzEmp6bOVkrv/zlh6PO2tL58Xs61lZ+UqP8fS+xOZP2XLI9NfiiNCIob+47s2n297YJlnV5TQkhxd29QpCsHnGpWi9bHIQbYw+Q5pYjCCzdn/UcS+9Ngdrlt7MmawhKEaopV6cu5n80qPYAj7sPg+tPWiGh83rAq9EDM3CgTHTWLztnY5t0jRpPhuZz91XTE9w8n59S0RT61Tg+//3l8Qn9C9/c8slQ9lwtJYtJXV4ArA661rmNe9kTGNRWLPrzigtr2DpqtUcn5KHauoYikrWmQpajwmEsHHbCAulTz1K0OcHZOgZ2LubsoMHMDLyoOoEGJEF+NphINCFhiYNFNPAEgwQsEb2qK0BP0obG8YIBihc+zrBN97GHsUJE6bJssq38Sp23spc3iFpYZhwqLKZktpWhqf3jVb6aeKiNu7ni2lDk7lifBZvF/W8JKy1Z7A1eSZzGrYPCCXSL6y8mX0NScFGbju9isyaCqozBkfXjOmFyuKwsmMUnCkhoFlZdc3dVGf0rgVbRAiBFIKg1XZ+4Yreou1zptRVk1lXyT++eD8BixWn34swTTyOuFDru7bYamNiKrsnzgEkaufS8t7M8RMKMfm71SmoFgtZw0cOyNjfy8tmU2NrmDCaU1H4bl52vw07hCps//bl6WwpqePV3RW4AwZLRk/l0qEOnvn2vRG7GkkE/1h2C3XJGZiqhtFmWipzcklNbOaV2dPZ9/jPKQtLYEqMYIDyOjfbM6/l8pr3SNBbwsYPHQmVtmzeyLoSTercUvEykw7tjFi0pulBphw896zqgQCFb71GnO6PGV7VpEG84ea6yjX8I/dLeNXQysCiKpTWuS8q435RhmUGEn++bRqjMnv3he1Omsoh16iOcEq0oENvghE2GeC6M6u5ujJUFLXyjSex+b3nDGlnY9VTEw4pKTh5mOvffobd4y7hD3d+P2TYo53b+Rq9CZ30dP2BQNs16lOzODxyCn67E6lZcDvjaY1LDBn27seLEAXR0CyI3s7jExRYS26q7/K3oqhMWta7tng9YXKCk7+PzyPDquFSFeJVBaei8PUhGTyQ28/VWicIIZhbkMYvV07mL7dN48bpuaSmpzFo5GhEBHpueW4BjQmpHdLV7TBVjUaHi0MNVZQfiizwJYDBvtNUW9PYkDqfYJTeZl5hZ3X2teiKBZ/qoDgunzk73yer9jSWgD9UxSpNLAE/WTUVzOkUUpRAwB/otcFTpMn45oNtJ0vSWirQD23hxJ6dbbLBn338r/bc23GmKXIbvkj4IONSNulzmN5UyOTmA6hRTHn71lheQk6guuP/dj3AA0/9X3593yO957a3Geev//0RHIZO8dBRfDRreXjpffdzDINRJQdweN3smzC7q1pfNPREXezt8X29Ri/Hke2t8yLulFgCAaSqIJEYWv9CeQoRGmNHWTFowQDz93yEZrOjKAKhqKz43sN96p7UE5akJrB3zjiKWr34DJPx8U6cqkIw4EdVtS5NovuKMm+oC1a2zdJFHnj5g9/huR98l4DX2yEJbLHZOZ1bEJmxBAQtVn5S2cylaYPI6tTvNhJO20JtJrtTiiWgoeM0vHi0kDe9O3EK45sPcvPrf6dscD5H88eDlIw6cZChp7vKdpsoKH3IiWkY5PgqORpsZkXVG8SZXg6vVjiqKqgWK9d//8cDkhi/kDgv4y6E+A5wD6F7f4BQW71sYBWQChQCt0spYxByP32YvdH87oSAZmdL6lzqrKksrtuIIg1UJEYbM1ftlqiJhu77j+eP75tRFAJLMIDVMDCBzdOX9NivEiFAVTk6MlRF6WppIr2+kvKc4aGXwkAY5U9TfthsUwfrNhdDUZi76wPiPC28N/9ajL7E6DvBoYiOwiGbEDg1lVFSZUfQDxJUIRCq4Lsjh3Bz/u3Ulp3CmZjEsElTUc+DZhkNihBMjA8ZuyNbPmbTC/+g+WwNQigUTJ/Jojvv7dMLpSGo89WDp9je5MYmBLqEIQ4rT47PI89pIyEtg7t/8zgHN6ynpHA7Frud8YuWcvR4OYpphHnuQEg6ApVVK+5h2YerGVu8L+yQSlsWUijMadiGhhH2bLSHTCY2H2BbSkj22a25+CB7Gcuq3mVYRQnDKkrCxpUIahLTadHiGFZ3otcGzwQ8qoPrKl8nznCjINHbrZjXy8s/+QH3/vEpbM4LLzPRX/T71yaEyAG+CYyVUnqFEC8BNxPqofprKeUqIcRfgK8Afx6Q2V4gDE11cqgycpxPFbDhXxcx/xcbwvYdjR9NtT2LCc1FJAcaqLckM6mlCOhfIVOrq2+VhACGqlJpzyDJ10hdcmR9+jB0Msbu+ES8rjjufea/+esdD/X5+lHH/zR48pK263a6Zoe0goWt0xbzhXefY+a+TWybPB+BxFC0XidYXarCfwwfxAuV9QRMkyvSE7kzJ500q0ZdQGdTYwsKggXJcSRaNCCLrIKBibH3hH3r32bD0090eNMSk+M7t1Jx5CB3PPZHnAk9K1RKKbllXwkHW70EJfjbPN8jbh9ztx/mJyMGcXdOOjank6lXXsvUK6/tOPd2RxyvV3pj+MaCoKrx7qIVFJw61KXBhgmUOwajmDpjW45EfXYUJKMC5exWZwMwONnB/1lxE74NgoMfre+iGSOBA8Mn89HcK/Bb7UgECd4mln28hrzy4z3eC0No1FrTyPOURiymMgyDQx9/wJTlV/c41qeF83UlNMAhhAgCTqASuBRoJ9c+Dfwnn3HjXlrnibov3q6Rm+Jidn4KW0/Uh+1vtCSxMTUkAzulcQ8iur5gjxheeoQNc/oWk1WkJNtfi4KJLeDHEyskEwltHZF2TF044EnThOZ6/DYHfpuj41r9hpShmGos/RlBzJCWbrGyZfoSbn3tcaYe2Mqp3BFIIQioGnvGzaQ+OT1cYrkNKnBFWiJfzknjyzkhT/hAi4cfFVdwxO0jz2Hjq7kZzEh09f8z9hOGHuTjZ58M65wkTRO/x83ed9cy58ae+e67mz0cc/sjNrQ2gR8XV3Kw1cevRocXRs0aP56rit/iLWda1PAMgNVipX7GArK2nqtUVYCpTXsY7jmBRux49qjcVLb8+6VICenxoYS1LHiAYZOmULj2NeobG9k0ZREbBo3E1Lo2RG+OT+a1Zbdw49qnGVxV2mXcdpdAAkGhcThuNEjZoVvUHbrfT/XJ4phz/bTR74SqlPI08BhQRsioNxEKwzRK2XFHKoCIlA0hxH1CiF1CiF21tQNDD+sP6lsDEaUM2tHoDX2U3hRIpQfO73OkNNeT3Fjb67CGquuMOb4PVYbUCCce3onaH+qiEBwqmDjgXnZiSyPffOr/cvsrf0LpZ+d5oCO3kNRU3yb92kdJg06oSc0CwOH3Yg342TJlAesWruBsWnZUw64ALk3le3lZHdteqKzj2t3HWV3dyMFWH2trm1i5t5jfl1afm7ZpUrxzG6t//girfvTv7HjtZbytkVeI54PqE8VES+MbwSBHt27s1Ti7mz0YMX57ASl5tbqBI+7I1N2/fuFKHk2z4dSjR2GlEPgi5DysUic52EiwB39z4pLlpMXZOgw7hJK/Iy6Zw/U/+jlv3P49NueNw7RE/i51i5WPZi0LnxdQbU3jhGMYb2Vewcep8/BY4jBE5PkomkZCWi9Xyp8S+m3chRDJwAogDxgEuIDlvT1fSvm4lHK6lHJ6evqnd5Pcwd51zCnIjOcXN0wM88o1AbnJIZ5toyU55hi9MdlffuUvJLV3dY/0rw2WgJ+k5joWb327Y9usPR+TVl+DJRhZZzwWjAsQD65JCyXHss5WMqyiBKUf/SvbkdhYR0t8EvSxYKk7bIFQ8vzw8Im8tvQmGlIyQ2PGCM2Mi3Pw3vSRDHGEDEpdQOehYxV4TdkRhpCA15T88lQVp7x+TMNg9S8e4a3fP8aJ3Ts4feQgW195gf/51n00DLAolejhnvTURWhjfQs37y3h16VVBHtwLIKmZG1NU5dttWWnOLW3kObaGm6bOomHx+ThjFKubxgG8Qd2RtynSQO7RUGJ8lv02RO5f4vkrid3sONk+Cp6bW0jR90+/D3k0CozuurGmIBbcXIwfizvZVxGuSNESS5x5hHtqZUICuZ9tmWBz+eJvgw4KaWsBRBCvArMBZKEEFqb9z4Y+EzLq+Uk2lEVgRHlBxFnO3eLVk7P5QuTc3h6y0nK6r3Mzk/lyokhA1Za5+a9XYNo/p9d5zUfqx7g3lW/oTYpneL8sTi8biYe3o3b4aA8O4/i/LFIoTDqRBEjTh5G7eQRW/Qgt772OEfzx1E0agqV6YMJ2Oy94sjbAn50S4wqwb6GbIToUlyi+v2YnUMqfRlPCJqSB4BlIiWTDu3EFIL1864KSRz3AokWlWGOc/fmjdrGqF6RISUvV9az/NQByg8dQPefe9HqgQB6MMja3/03tz36m/P5JF2QkTc8Ij0RQiX1o2NI/v6+tJpfnarG28v+ooaUBGTo2PozFaz55X/RVFuDoqoYwSC5YyZw7Te+x69UFZ+pd4nB24Qgp6yYxoRU3l70ReqT0nF5W5i+fwsTjhSiSIk0dKYsv5a9776BlBJphipFq+zZvJp5NWZzgIrmWrajTjeiAAAgAElEQVSdqOehK0Zzx5xhHeO/XFV/rq9rDCimgYnoYNMoQLzpYUHDVmY0FvJyzg14VCc2h50xt32D0pf+hGkYmLqOgYIpBNtS5/PkX/fz1F12pg2N7dR9Wjgf414GzBJCOAEvsATYBXwI3ECIMXMH8Pr5TvJCQlEU7pk3jL9+fDLi/oeWj+ryt1VTuDdCt6ehqS4KBqVQSGz6Y2+R3lhL+u6POv6O97oZe6KIsSeKYp6nmgZji/czqLqchsRUCsdfwsmhY9omEJnzrhg6cS1NuOMGti1ce3Xr6YzBHB8xoev1+6k5f76Yvm8Te8fOwNfL3psAardvriloEIimdy7hbFBn99truhj2DkhJXXkZzbU1JKSfPx8dQNU0Ft9xH+uf+CN64FxIRFFVHPEJTF4WuavQGV+Ax05VRfZ0o7x8bdJkUUoCAa+HVT/8t1CYqZO3X3ZoP+t+8QhrH/4v7is6xTGPD00I/KbJiNYWEqsrWLP0pg5Wl9/u4IM5V3JqcAHXrltFSnYOi++4hxnXXMepfbs53ejh+9sD1HPu+xLSZGj9EY78eRV//ocke/gIZl23kqDsxarOlFgrW6iwZZPjr+xCZdbMIPGKwc2Bbewfcz0TchKZOHMo82ZM4Ds//gvx3hqatESKEsbSZEkCn84d/7OD7T9Ygsv22WOV93tGUsrtQoh/ArsBHdgDPA6sBVYJIX7atu3vAzHRC4nvXzkWb9DgmW1lHb9TVRF857IR3DZ7WK/GKCxt4K7nirhPWLDJ8yjZP0947M5QqX5mLqqhE4zkjXd6GFPqa7hp7ZO8P+cqqqN501IiDB3ZG0ncTudMOhxafm+acVnM4z4pdo1iGtSkZrNh9hW9vo5TVbghq6tnNtYisArwRrCJLlVhZlIctS3RJaUVTcPb0jxgxh1g3MIlOOIT2Pj8U5wtL0OzWhg1ZwELvnQn9rjIRXprahqjxwojrK5UPcgIq8KsRBf71r0dSuB2C+OYuk5t2UmCp8sYE+fgcKsXn2mCIamuaODwlAVhIUDdYuXkkBGczs7jmhtDqplxKamMX7yU1W8eolGcPDdPKbmy5l1yvRVYpI4nACWF9ZTu38P0+/6VXYozuvduStBNzBI/yUZz5BoV08RWVcxeWzV7yhp5fkcZKyYNYnfaJRFzc6aUvLHvTK8aBH3SOK/XjZTyR8CPum0+AVxyPuN+GnhkxQR+eNU4NpecxaIqzMpPQelDo4yHXtkPwAdpi1heu+6CdG3qCRJ46eq7qGtjfUQtZmp7cFe88ywjS48CMH/HOo4Nj540nrvzAzZFSERFnogkvqWRhVtDuio9SRk7PC0MrSjhWN7Yntv89RTOibFfAu8tXNEnoTEpJaNcofCSoet88NRfKdqwHuf1D+KPT8bsVCikAHGqwlXpibw9fCStu7YTyXqauk5SVuTG6PtbPPy+tIZ9LR4yrBr3DE7n2owklF68jPKnziB/6gyklD3G2QFaDZNAT4qaUiKkiWqaTC4/xqrbViKEoPzgfoKRViaAIQS3ljZSqVoJQocaZ21BTlThsaBq4fS8ZYyaPa/L9mZvsEtznmHeMga3GfYOSIke8KM89TuSv/IwgYCJ3vkyUoIhUSs8He0Q7Ub0wkVTCOyGnxbFim5KXi6siNogyBMwON6PHrWfBP7Xyw90hqYpLByVwZyCtD4ZdoCS2tAXXOwcuIYMfUVF9jAaE1IiF5JEwM7JC5DA6cxcqjIGM6p4f9fEbdv/Jx7cwex9G5m964NeM3l0zdLx48quroh53qjiA1zzwT/5xtM/Y/LBHT1fo7cSv91PUzUaktKRfajc9JqS6/YUU+Lx8f7f/8Shj97HDAa56fW/kVVTgaYHsfl9OIRgtMvOmqkjsCkKs65biRahZ6hmtTFu8dKIxS9vVDewYvdx1tY2UuYLsKvZw3ePlPPgoVJkHwrDemPYAS5JdOFUe/idC4Fimvxs+xpe/OKVxLU11nAkJEaN8x/NG0etooUnZ1Uler9aRSFl1LiwzXML0nBZz31fY1sOYY1CT7QZOn+1erg8LRFVShRdx+r3MbFwG2PWbMFypBERaMsXxCA/SARurVMYCLCoke+pw6IyrJfqsp80PnuBoosdfXwpDCTOZA7G6K3hEgKP3cnfb/42rc54IOTxxrU2YQv4cDvjSWhtYsH2d8lrq/ybV/ghZ5PTOT58QmzvWQi8DhevX3YTyz5+nYXb3qFo9NSoXvW+8TOZuXcjCZ4WFm15m+rULCqzhkSXIzgvIbO+V896DJOfHStn3MYPOwplXF43t77+N+oT02hKyeCSSZP48i23dpyTVTCS5Q9+h/f+8lvaGdSGrjNi5hwW33Fv2DW8hsm3j5aHtc3zmCbvnm1mY0MrC1IGtkvXvOQ4htitFHt8Ebnt7TA0C7c+/EiXl8aExUs5uGF9F259U1wSra54Dg0bi7ePa1eXIliWEW5wr5iQxS/eOYJPNzFMidWMQbOUkji/hx/amhjzj5/RioLL14oiJQGhcdKZx3vpS0AIdiTPYHnNe2EqlzoqB+NGYYpzz5EhQUS5P0LAtZPPQ6DvAuJz4z5AGJOdwMEzoThrjTWNjMDZiD/v7poZAwm734dqmpi9se9S4o5LRFe1Lt6UrlpAUXjgmZ+jRohdXrv+Jf6RlEZtaoglFItzfmz4eI4NH881773A1e+9wJvLbol4nERh3fwVzNz7MatW3INsHzNaHL6/cXnTJL61ieb45D6NIYEPGlqZaLF0qYIESGk6S0rTWTA80Mm4A4yaNY/h02ZSXrSPgM+HLX8Ex1Q7W5q9zExyYe103z+qb4n6u/CYJs9X1g24cVeE4JUpBTx4sJQPG6Lz7+1tkgvOTt5rZn4BEy+7ggPvv02dxc6ay26iNi0b1TQIWGOxrgh9r52okpqANKuFq9LDE/o2TeXVB+byjRd2s7+iiar4YWT5q7HICPFvQyerYCTPPfxdhNdN57tllTp5npMM9ZZR6hzKKedQdqbPZm79NlRNRQ8EkaaBQDKh9TCD/NW8m3EZTZYknFaVW2bk8sLOcqQEbzBE2RQI/nr7NBIdfSwc/ITweVhmgPDLGyd12Is1mVeho3XxET8JtZWRJw6eM4yx0Ik3332ZLBWFgMVK8dDREU9VgDv/+Sdue/XPITZML0Ikbyy7mdKcGOEqISjNHc6L19wVmn/3fwMFKWl2JfZrTCEEMgZ/2hYlaalZLAyZPI3/SRnKwiNVPHiolLuKTjJ+UxFv1jR0HNdqGDF/Iw29bPzeV6RYNF6YPJxHCwbFoHfCj4vDGc2L77iHZd99mFUrv05VxmB0zdJR6h8VEpQzHjAkdiGwCsHilATenBYKZ0VCVqKdl++fwwffW8S3H/wycU5nuFCb1UrBjNk019bgRWHnxDk8ff3XePqGB9g+eT4+qx2r1BnXfKjjnIOJE7ni0b+SMWRYSNyNkC6UJg3SA2e58cxqbIYfTRF8Z9kotn5/Cd9bPpKpCwZjuzQH2/LBPB9wc7h14PoxDCQ+N+4DhNHZCfzz/tnkJNrwaU6eGHonpfbcMHXIC5lodfi9LNn4BlowgGj3uiMUQlkDPsYd2xPSao+AgNVOdXrkhF87smvPsOLd53uOjwsBCA6MmxnzMFMoUStEI6KP4mRqMBAKmfVTKTHTbsUSpVuQxWZn0mXRZSMeLankpap6/KakxTBpNUyaDZNvHC5jd5MbgGkJLvQon8mhCBYNsNfeHXflZhCvRb43QSl5qSqkp9MdezKHErS7osfSO0M30U61kHCsmft8VtbNGMm+ueN4ZmI+6VGaZHdGTpKDWWMGc+t/PUbGsOFoFitWhxPVYmXM/MVc8eB3qG5t5W/X3sOmGZdRk55DTdogtky/lCdv+iatzjicZsgQW1TBpNwksm0m1SdKMPWu4RkFiSZ1pgeO8fy9s4izaThtGmscBntcUI1JVUDn9ZpGriw8xsf1A195fL74PCwTAZ6AzpGqFlxWjZGZcT0mqN4pquLn7xzhVJ27w+boigWX6RlwY16TnImuWciqrYj4Zp54dDcZ9VXsnDSP2pRMEpsbmLF/Mza/hzOZQ8g4W0lOTQW7Js7hiB6MyKjRgkFcnp4ZAHkVxYwu3s/x/HGxZYZ7UURl9frwu/qQmOocuumpKErKvr04IqAhaHDVN/+N1b/4MUYwiGwzdBabnZzRYxnZjeXRDo9h8j+nz4bF0gF8puRXp6p4dtJw8pw2FibH83FDS5cGHAKwKwq3ZKf0e+69RazWfSbQpBukW7v+6jbUt0SlHqqAXVXwmybJKBS4JZMzU7jhykmMG9T/mork7Bxu/9lvaKqpxtvcRFL2IOyu0MrpWXs6Lc7mLqQCXbPgEQrvz7mKobuLsVsUJg5O4qHRfp77wXciNh8BsEidFanNjM8JzfWf1fUcaPF0+S5NQkn3rx8uZe+ccb1iNX1S+Ny4d4KUkl+vO8bfNp5EVQSmlKS4rPxq5WQuyev6cL1dVMn/ea2IutboCR6nEV2QrK/YO2Y6H8y9CqPtRyukZOr+zVy67d2wY7Nqz3DN+pfCtmfWndM9GX18PxsvWRr5YgJGF0durNDtMK7+4BWKTp9g/byr0LUIfUm7o7sRbltNDD12hGNTpvZ4zUjjCdPskQHTq3BVDDTrBkPGT+a2R3/DzjWvcPrIQeyueCZffhUj5i5kfX0rpd4AQxxWklp0fv7WEcoaPCRlujALIr+0JLC35dyS/q/jhvG9o+W8WdOITREEpCTfYePx8cNIsoS+d7dhUB80SLdo2HtiuvQRg2wWSn2Rf88qgqQIsgBJmhpZ556QYX905GBWZvX9xVTi8VHU6iXdYmFWkiui0UzMyCQxI7PLtjVN3ohsMVNVKc4bw9dHTeE/Rg1FluzhnT//rkvRVyTYXOeE4J49U4cnSmjObZjsbfEwNeGTF46Lhs+Neyf8dv1x/rbxJN5O8U1PwMudT+5gzdfnUpARWhqv3n2a77y0F80MsKB+O/mekxhC4VDcGAoTp3QwZuotKbiM81dfOJI/jnULVnQxilIICifNQ0jJ4u3vdTm+N0nbOG8rl328hvXzr8FQVaSiIgwD1TRYunENLp+7V3MTSCYc3U1aXSXPXv9AL04QXUIqLnczK955gcMyD2WSEZIo6IshVpQOLzrmNc8TtjZDmpqTy/Kvfbtj++FWL9O2HcFrmgRMiTQlwYCBtdGN0hqkRjEJDHdEnUNiWyjEZ5j86lQlu5rdZNs0Fqck8JWcNAraGmU0BXW+f6yCtbVNqEIgkXwpO5UfFgyKGqvuK74+JIMfFp8JkyKwK4LbB6ViiaAXc1NWCi9V1UdcmRhScnlq32Ssm3WDuw+cZFezG63tnlkVwdeHZHBZaiIjXZH7pULIOevedrAzhKpx1dwxOBWFx//z7z0adovNzoRLz9V2tOrRf2cK4I6x/9PA58a9Db6gweMbT3Qx7O3wB03++GEJv74p1ODi4dcOkBho5NbTL6JgdkiFzm7cwZSmfTw15HZ0xcLOpGlkVVfHbCrcG6yfd03kHUJQOGkuC7e/1yVE01tTNuHYHrJrK9gzbhZnUzJIq69hatE2Uhv7rm6ZfbaSWbs/YtvUhR1ziwZhGtz/3GNYAwGsegA/FpqypnLlutW8uez6Hs/vAikvPP1USpbHh8fb/abJ9XuLqe/8mxGATSUwPQ3bR1Xow6LHyhXgrpw0zvgCzN52GH+nl96TZ+p4vaaRXbPHYVMFX9hTTInHHyo6ajvuuco6ynwBnpk4MLUVtw1KpajVy4tV9RhSIiVYFMGcpDgeHp4d8ZypiS6uz0zm1erGjvBMKJQk+OmInDZd+97jrgMn2NnkaSuuarsfBjxSUskvTlQyJs7JkxPyyLKFhwGFEIx02jjqiVxclW2z4FQUWuvr8LXEjpFbbDaGTJhM3qRpHdsWpsRxwhuZNhqUkonxjvAdnyI+N+5tKK5pjRovM6Rka0kdANXNPjwBgzuq1nQYdjhnUO3Sz+XV61ibfSWnHTkcd+Yzxn2syzHREM3j9jpc0asuhcLZ5EwyGqoj7u8JqQ21LNm8FkWev9cxf+d6xh8p5OOZSzkWjQsvJfllx4jrFNNXMWi0JHPLPVfw/qlKvKqla/jGlG1U8U/AkEeAkJJ5ezfClK46Q2/VNkVXIFTAyHJgZkb32iVw66AULt15tIthb0e9bnDPwZPckZNGmS8QVk3qMyWbGlo43Ort0gqvvxBC8PNRuXw1N4O3zzahm5LFqfEdnZ6i4b9H5bIoJYG/ltdQGQgywmnnhsxkFqb0zWs/5vZR2OyJWjXrk6EK3uv2HGfzzDERn9fv5w/ia4dOha0kHIrgofxshBComhazKEwoCku+8gBj5i/qUqj11dwMnq+sJ9gtN+FQBLcNSuvzi+xC47M1m08RLpsWVRkytD+0fA4YJnbdQ7zhjmiIBTDMV8aYlsMsOLsRS1vzgXbvvvuxsf7uLSyx9LMRSBFq6tEZXpuDj2ZdzqERkzBUjaTmeubvWMfoktjCZD0huaWBFetfYn95Me8uui60sVPyUzV0lm9Y3Wl+cNqejepK4P7KBrzdtb5lyLAv++AVNs65Al3TCFpsCNNASBmSEriQSSzTZOqBrdQf3MrKwFh2nWrAlJDqsjLh0iG4oyUhNQUzTov5pQpCMfST3ujf34b6FnJslqjX8ZuSj+pbBsS4tyPfaePBIb3XvRFCcHVGEpenJfJIyWmePVPHziY3QVMyM8nFb8cMIdvWswJnUau3LRQT/Tk0gJqAzof1LSyJEPJZnp7IIwU5/LjkTMetN4CH8rK4oS3270xMIiVnMLWl4WKBiqoyYclyxi1cErYvx27ltSkFPHiojDKfH00IdCm5KyeNh4fHZpd9GvjcuLdhWKqT7EQ7J86Gx5rtFoUvtQkD5SY7SZGxmSQCyZKzG9r+33l7//juKY211CelRzRimh4guaUhbHtDQgofzrmCE0NGIoUgs7aSRdveYciZkwQ0K8988Wu0xCV0JJ8aE0MyrG5HHNOKtvVjll0x8ehu4t1NrJt3Dc0JKQhpkld2jOUbVuP0n0simsC6tEv56sqx/KymLnygthh9cf447nvulxwaMZGKQXlUpufQmJh63vPsQCS2jWlgC/hpjkvk+dlXUdPciCEEQkrq3AHW7zmDZWwywUgG3DBRfAayJYhMiGzYRrrsvNlNG707TECLoo3evr9e733YT0rJO2ebeKLiLDWBINMSXHxtSEaHfk6Xj6AHKd65jVP792BzOBkzfzGZeeGKqO345uFS3jnb1OY1h37pmxtauXLXcTbNGo2rh6R3iqV3NFW3YbK32RPRuAPcnpPGyuwUCps8mEimJbhwdEs+X3bPg7z804dDcfc2x0dRVexx8cy+/uao1x4f7+SjmaM56fHTqBuMdNpwRaGQftr43Li3QQjBr2+azC1/24ZfN2h3lOwWhREZcdw6a2jHsV+6fAa+v78Se7wY2/tapXr1+hf5xw0Ptp3YtXpz2Udrwo5vik/imeu/ht9i6whjVGfk8MoVt/OFd5+nPikNtzMujFWgW6xsnLmMiUcKsfSno1M35FWUcN+q3yABxWrHCPjC6JsKcPvpF1lfOzY6nVEIzmQOwaoHmHx4F6qhc7gvnaN6ozjZfZ+UaLqOoWocbxNU04J+9JEqtm21CL/B+GO7KRq5ACyRaaBqpRfRqhOcmgLdjItDEcxOcvHjkjMxp24RImJ8uTNq/b37rqSUfPNwGWtrmzri4ye8fl6vaeBv4/O4rJOxdDc28MJ//Cue5iaCPi9CCPate5txCy9lyVceCKMHl3n9vHU2PExlEKJQvlLV0NGeMBrmJcVj6cV3alcEST28CGyKwpzkyIVlAINGjuZLP/0lm1Y9Q3nRPhRVZfS8hcy+/hZcST3rs+c5Y1ThfkbweRFTJ0zKTeLtb81n5fQhDE52MCoznoeWj+bl++dg7/Rj+vqy8YiMoRG98N4Y7r4GETLrqrn9n38ktb66gzoY39rEF99+hnEROslvmbaYgMUaFp/WLVbWz7+GwyMmduhph83NNDmdNbDypa1qHP/IuA4zQqthAVhlgOZ9hdEHkBJLJw2TLdPDl8yxzg1dqI93XQh0i7XLfdItNrApBMclMad+K85BElPppHVDKFmMYaLta0AETdR6P9b9DSQrCs62f5lWjf8eOZhVlZFZJp1xc3YK8aoa80FtjsFP74yNDa1dDDuEqk+9puTeopMs33WU8ZuKuKrwGD97/nma62oJ+kKrLNmmvHjo4w85tm1z2NhbG91huvft8Jgm79VFl0Buh6YInhg/DKeiYIld5Mq1GUk9jhcLpmlQvHMbp48UYeg6hqEjhMDq+GwlRc8Hn3vu3TA01cWjX5zQ43H3/McPeeKb9/S5UrK/yKqr5u6X/9DjcRIoHjYGqUT2bFpcCVgDsdvw9b/Fd+T5BIRGQGionRLQnSGAZbve5NiESVHHGXlwf8f/PTESzOGDn8dniXSuomCm2iDHxo6pC8JWP0JK7lUD5EwfxqHKZkZmxnPv/HwsquCE148E8h023jvbjNpDfHlKvIOfj8hhV7MHuyIicqztAqb2kPBsxzNnzkYtOPKasoNzfzaos69gBjmudKzBIE5fKxOO7Ca79jRBv49db74aJs1rVwUxoke4esnJn5scz4YZo/iP/aV81NyKTwtVOCNCnqhNETxSkNOritZYWP2zH1N6YG8HjdY0dA588B5VJcf50k8ei6p4eTHhc+PeT+x55w0UVQ0rW/7s1KdFR8Gpw9QnpUX03k1FCesMfz4QQIreyPzaTTGPcwR8zCr8kG3TFredeI4Pb2nyMO7o3o5VkcvTQlNCyoVNpMaoeFVMkx1TF0S+f6rGS4EgRy4Pj00Pd56La8fUUQcmxzt4e3qInTMj0UWuw0ax20d3oq4iBIXNbr6w+zgT4538W14mcVF6kNb3QZ9Gt1gpzR0BQiBMg4MjpzDp8C4Wb3mLlrqzYcdfmpIQVT7BpSrclJWClJIP61v4e0UtZ/xBJic4uT+3a7w/aJj84Pm97C5rgICBNdGCOSwe4jQuzUnmeyMG9cjeCfvcZyrY++5a6irKSB08hIDPy6l9u8OOM4JB6irKOLVvN3lTpndsl1IS8HrRrBbUWJXYnzF8btz7iePbt4QZ9t5A1SwYerDPcffuGjXRjhHA8FOHOThyMkTw3uPdzUzfv5miUVNpVZQunqcWDDBvx/oBibd3hgBG+MKZCd0xf9cHZFeXs2H2FTQkpoEuyT16nOu2rsIq9Y58xbwd61l72crwAfotAxxhnFi7haA1RkvCJosdn2FiVxXK6z0cON1EosPCzLwUtDYPdlaiK2qrPociuLlTVacQgpcmDeeWfSWc8vqBkJesmyYeU/LW2VDIY1uTm79V1PLcxDwuTQ2f3/zkOAqb3TELfbqg7V5KRUVXVPaPmU5e+XEWxIcnX+M1lR8X5PCfxae7hJocimBWootFKfE8fLyCVZUNHauH4x4fr1U38Jdxw7g8LZGGoM49W4+xeagF8jIRLUG0481o++pDTT7ijqMtzKYyexBZw0f2Srf+0MYPWff47zEMA2kYlB06ADGK3oI+H8d3bOkw7gc/ep/NLz6Du7EBEORPncGld3+V+JQB6Ol7gXFexl0IkQQ8AYwn9NzdDRwFXgSGAaeAlVLKcDrHxY4+2hDVYuHSu+5n4pLLObZtE6//4bcQPMca6e1w0V4K7Y9TiyueiuxhIJQwY6cFA1y26U1swQC3v/pnNsxezpHhEzFVhYSWRubtWM/Y4v0RRj9/tM+ip5daQflxhpcf58Xs6/FoLm4ofwGtk78qgLElB9g+eT5n0zrJDg9EeKzT/UporsPtSgzXzDFMrGXNGLmuqHkLiwBdN/jKM4VsKg519pJIrKrCH780lTkFaWTYLNyancKqCNWdNkXhxm4l+5k2C+/PGMXeFi/H3D4adZ0fFYcnYyVw+/6TlC6ciNYttHDboDT+VFaDr58apUGLlcJJc/nepNCqpEU3OBvQybBpuFSVO3LSyHfY+OWpKo64faRaNO4dnMZtg9IobPbwQrccgy5Bl5IHDpWybeYYrt59nNKgH7TQvGWileCUFFz7Kri58Hlspp/3jqnUJaXhTE3jqw98k5QYrQo9TY2se/z3XStRe9FAW7Q5Rbvfep2NL/yji2Z9SeF2zhw7zJ2//BOO+L7x+D9pnK/n/lvgHSnlDUIIK+AEfgC8L6X8mRDiIeAh4N/P8zqfOYyaPZ/db72OEcF7dyYmcfW3/o3Ctv3jFi5h9JwFHftHzprHV0ZN4o8P3I3N9BIt799uCHubpDWBV668g5a4pAjsD5PlG1aTV348NEefhys/fJUrPlyNoSho5oWRlI00z94gzmhlkL8q4r7y7GE0JqV1/YyxDHxvk6rt+4WgOT4VYRoouo5qGkghMBQVrcoDxR4y9Hqq84eG9QNVDYPrB6Xy3Zf2san4LH7dxN9Wlu7G4CtP7+Ltb82jpiVA1mk3ViTebtPyGSaPV9TynWFZ3aYnmJLgZEqCk6t2HYv6MQzg8fJaHhjaVXclzarx2tQR3FN0iip/EE2EmoSYbef0Bnr2EJLHTOC+olO8c7YJiyIwpOT6zGR+OmIw81PimR9BwfLZM3VRVwwC+EnJGaoDQcIC96qCd1w6jl0eTg0ZyXsLrg3pxUt4vLCERycq3Dwoshd9ZPNHvfxU56BoGqNmzycY8LPpxWe6GHYAaZr4PW72vvdWTMrkZwH9Nu5CiERgAXAngJQyAASEECuARW2HPQ1s4P9D4z796us4+NH7eFuau2ibaFYbl959P7njJpI7bmLU80u3byBBM4lWf6QT+tEr9N4gVqXntLXZC39dqIZJTVo2Y0q6CoIJ5Cdm2PuC07ZB5MrDqBHMTuGE2eiRWgnGaBzSZyihJiKJTXVk1FWTXVNB/qnDOGizM9IAACAASURBVFvdrEtbwqA9Z3CnJ+GOi+/w4G2mQY7LwVcz0lhx9HCHUe+MoGHyxT9tIa92L0nOBjyXfgG6SS/7pOQ3pdXckZNGSpSqx7IoAl/tOOiOrDE+Ns7B5pmjOeT2URfQGeG0cev+ExzvoRsThH6LM7LTu0ghBIzQSa9UN1DmC/Dy5IKI59YFg1HXC4aUbGpsjWr8TaGwf8wMPpp1eZfVUhB46Gg5LlXlmsxw+mJrQ0OP+jHdkTZ4KLnjJnD68EFElF67RjDIsa0bP/PG/XxSwnlALfCkEGKPEOIJIYQLyJRSVrYdUwVkRjpZCHGfEGKXEGJXbW3ftUw+bTgTk7jtZ79h1Ox5qJoGCNKH5bPiX37AqFmR5V87o3jX9jCvoB0SqLZlAqJP4Zr65PSo3quhaVSnffaq6LpDAtX2TP5491weue8qrPbw+G5jQsonI0OgKDQmp1MybDSbLllC+eB8HKaPa2reYlrDXu7+5++ZvfMDEpsbSFMFl2WksGrycM6cdWONwg7RTcmIis3MqN1CScGYqJr6mhB8EIM+mNNDxWcsgS0hBOPiHCxIiSfbbuXVKQUsSU3ApgjiVSWqQ2FTBNMS46JKIexqcrOvJbIS6pykeBxR6DQBU+KNQecMWqyhF3qEMJgPwU9OVEaUE8jIy8dq7z210R6fwC0/+UUolq/EZjJdDGya8wnLaMBU4BtSyu1CiN8SCsF0QEophYjcfVBK+TjwOMD06dM/GT7hACM+5f+xd97xcVTn/n7OzPZd9d4sy7ZsuXeMbcCmh07oNbQEEhKS3CSQ5HdTSQgpNxC4NyH0TiC0AKGEjo1771WybPXet87M+f2xq7LS7qpY7no+H9nand2d2dXOO+e8532/31Qu+O49wS+WlIP6g0czfgDwCzN7neNI99VHHLn2pvPDi2tvjeouL3SdhNbGAR9fNAwUlp50JluKZnfpyp+59N+kDUFsrDcSUFOyuef+B0hLcCGNdOJT02mqqsTQu9NfaQ3V1CenRy33HG46Uy+fzz+P3OoDpDUGdXx2509gxUlnIgFdl3zS2Mqnq9v4eUYqRpSLrEX3Mat1IyapE4jRsakZsq/BdA9+MS6LyzYWR9ymAN/KG7h8QKLZxDNTx9Dg16jy+YkzqXx3xwE2t7mRBC80upT8pWgUK5rbo0ohBKRkSWMb0yNUs1yblcxD+2vwRJgl6gTVIGMRqxu50uenTTeI79UpWnjSfD575jH8Pm+fQY9QFFSzGUVRMXSNtPwCLvnRzzCFLrZZ48ZHnfGpFguTTjs95vEeDRxMcC8HyqWUq0K3XyMY3GuEEFlSyiohRBZQe7AHebQjhmAHN+m0M9i1fj0mo29lioJkl7OQ+U2rIYJXJISPKRrMSSQGmhlVuQ9zwI/f0nfUpho6M7et6rrd7nDRHJ9MamMtNr93QMesKQqP3nA3brur6/2WZY/hmau/y6UfvEjh/p0Dep3e70MIwfRzL2T2Vy4kKavbbFgoClf98n7effiPVO7cgWo24/H6KNq2gd1jJqMdpuDeia6orJ88j3OXvk273cX7Z1yB1mPB1Rtqu/9tTT1pTjMd/r5/u2xfFToqJnRSm+ooHh25wscnJfMTgh2WhmHwXGUDT1XU4zUk56TE85Mxmdyak8JTFeGSDQJ4YvLoMH/WgZJiMZFiCYaEt2YVsqXNzbpWN4kmlbNT4nGaVFa1tEeV0VAR2KLsN8ls4l8zx3Hr1n3U+LQ+9fYxQ/sAzi1LZ2WPlCzb28CLq/bT2OHn5HO+heuzp/C1d8s8OOITufz//RrN76e1vpbEzGxScvLC34vJzBk338HHT/wNze+jzRnPmmkL2Zc/HquUuCZPZkqoIupoZcjBXUpZLYQoE0JMkFLuAs4Etod+bgJ+H/r/rWE50uOMJw848FnSQ2a/3aPSgDCxJHkhPpOddQkzmNO8DnMvKwQJdCh2ns65gXHeUsZ1FKMJExn+Oi5/73leufhWDEUlYLag6BqKlJy6+iPSG2tojE/mlYtvo93ZvdKfXlfJtW89jlnXYqaBPj7lorDADnQtZL5z9tX84IlfR3xerAqfDsXO4ksuZvLC00jI6Csr64hP4Mqf3UdrfS0tNdX4bQn87vd/5Zwlb/HBoksP2mFpMEhVpSkxuHi3bcKMqJN2IeCKC8fzzD+3EdAl/lDu3W5WQ+V7wWc2xUcfjZoEFHt85NrMnLRyB5U9JAaeqKjnmcp6Pp9bxNeyU/ldcSVVfo3pcXb+e0w2SZbhqXCe6LTj1g28hkQHHiqt5oXKxujJCgHnRzC5BjCkpMYf4OzkeDa1edjQ1oF/GObrCnBqUhw2VaGx3ccdL6xjY1kzgdBawMYyBXPKlTxyTTLJRhsJGZnkTJjUVUaZll8Q9bUnLzoTe3w8r77zb56adx66auoyy7nvQD3/bGjnrZmFfXRrjhYO9ltwF/BiqFKmBLiF4Of9TyHEbcB+IEJB8omN26/xyrpKlMwLmNq6lWmtW7EZXhrMKaxOmkO5PReAtYmzUaTBSW2bUDCCC7dCsNM5nmUJJ/GN8mexyvAFo7SGKu548X/YWjiTqsw84tpbmLZzHUktDfhNFp6++rt9DDFq07J58trv860X/ifmce8onB5V+0VXTZTmjGV0ReRUQe8Ab4RuOw0Pa998hbVvvtL1uLJZp7Dt1POpkwpjHFa+l5/B4tRgigZgUtFYAmveZ/X0hdSnRNYZPxQoukZ6Q7CCpzUuKaq1oEc3MDvNfPrDxTy3opRVJY2kuCxcPy+fRz+xo9QEzVW8tr5Gz51YFYXmgMb3dxwIC+ydaBK+umEvW06ZwnPTo4t5DZUP6lr4/s4DaDLYr+zRDRDB/UbCoSh8PTeVHFvfvHibpnP5xuAibIduRB35DxazAIeqcv/4XB5fUsIfPtiJ1mtR1qcZ+ID/t7ydJfecMaDa+J6MmTmXj7R4/L1MsD2GZHeHl6fK6/h2fsRlxSPOQQV3KeVGYE6ETYMQ/zjxuPKRFQAYQmVTwnQ2JURpuxeC9anzKM2ZxyPnZZKXnkhafgE3PLmKaz55AKv0RxwRu3Ewa9tK2LYybPuSk86K7HQkBO3OBPbljqWgPBica5MyWDrvLFpdSWQ0VHLaiv+g96Pq1xyfBBGMp3rurWczVqRj//iUi9g2YQYBnwEY1Pg1Nrbu44ejM7k+K4WdHR6uuOkKXt/wH9qcCcM3ah9AA5QiJVN3BDVw0uqrMQX8ERf5HKpCodNGRryNu88tCts2MetkflR8GhPLl5BXuY+KzDz03jLHBCtIZsQ7+P7OsqjHUxfQ2O/xkW8fXhGr9S0dETXRY0Xk2XF2ro7i8/qT3WXsbPd2LcIOR2BXgJtzUrlzVDo79zXzwEe7+wT2njR0+Nla0crU3MF5t1Z4/exxR05beg3J85UNx2dwH2Hw1Ld72VbVtwrCqbVzUtM6xrqLEUj22/NZlTSHFlMCtsZyXnrmUxaOclEwYw53Fcbz5UfRzbcT/U0Rt+0dPTFmANs6YRYF5cV8Mv8rrJ+2MHinENSnZLBt/ExsXnfM0WZnDX0sYo3aalIy2TphZp+A6TEkvy2p4rclVV33idt+HlwjG66uVPp7LYlmMvPMVd/BHPAzf/UnKFEaYiTBlvtvby9lQ6uHDIuJ23LTuCAtgbQ4K0/+4fu88a+JeL94jzUzDPRe+7UKwfxEF2MdtpiLqgAl7uEN7h7d4Ae7yvoVNOvN0uZ2zlqzi6emFHB6T3VJTeffdS39yi0MljhV5TeFwRnutz/dE9FBrSeqImjoiK2ptM/t4+mKOnZ2eCl02Lg5JxVNSsxC4IvyrW0foGjbkWAkuB9m1pU297nPpbVxTcWrWAw/auhLVNixl4KOfVTZMsnyVWOWGvsaoGz7FvRAdHmAWMHTZGgxA5hJ06hIzw0G9t55dUJphEhISXJTHQntsbXJex5jJDqNQwaCDIlJDRdxqqBDNzB6yiqH0d3gFLBYWbLwPLJ2llAzJh9DVUDtXlTv0A2u2VTS9cwSj49NbR7+U5/AwxNHYVIVrrr8PLj8PK5oc3Pr1lIaAhoKQc2Z05Pj+NXYbKZ+2b9xypRhtHar8QW4YN1uygcoIRyGEHgMyR3bStl6ypSuBd26gNavQNpQ8Bo6JW4fYxxW9tbF9lcA8GsGEzKjWx6+U9PEd0NpqICE5U3tvFjVwG/G5URfWyGo+3O0cnSuBBzH5Kf0DZDzG1dh7RHYIVgxY0Yjz1vRpasCoPl8GEZkdcX+mLZ9bcztczZ9yRcnn9v/C3VK3IZ+ElobufGNvw/hiMLxW2zII1Q/PMllx6wOwpxbCKrGF2D+ogaaYo8IISh7+25dC8uawwPRlDgHq06eyBszx/H3yaNZPm8iz0wdw/nr9lAXiK1dVOiwHrQ6Yk++u+MA1UMJ7D0wgCVN3e8xzWKKWhYKQw9AVkWhzh881uQ4K0acCWmLnDa0qAqLJ6SRlRD5QtgU0Lhr5wE8huxq5NIIpl1+vreCr2Wl4IhQo29TBD8YfXSmZGBk5H7YKcqKJ85qos3XfeKOde+LoHTemZeOfH80Oh/ttdjYMGVe0NQCmLhnM9O3rWLNjFP6VrxIyajyYtKa62iJS+q/01NKFF1j9ublTCjZSlZ9VeTHD5LR5XvZMW5a1MaeQ8nqVs/gx5aKQJoVSLEN6KLg1nV+vLqYV04aT25S90VeCBFWG76ksY3Gfuq+U80m3plVONgjDmNnh4dnKxrY7/ExzmFlRVMb/Urh9ZMGkxKaQxclzZAsa2pngtPGtnZPn8VYhyJIsZgpi9Jt2xn4IyU+fFIy2m7h9yWVlMxMDFYkCYHoCGDe0oTSHjwGRcDCcSld5vaReKu2Oeo5JSWkmFW+kZvGo+V1mIXAILiA/PDEUUwdpELl4WQkuB9GpJS4/TpP3DSHax5f2dVXocjBq0vGot3h4vnL78RnsaOFXIJWzF7MxskncdVbT/LyJbfhtXe71KiaxskblgCQ1FIfVDzsx7XIUE1k15bFDOyDVb4cV7oDp6edVtUUUUJhWJAyaLithgurDTVpYAxGH0II9rV6+cpflvLqN+czMSuy8NR/6mOnt+yKYOspUwZ3oD3Y5/Zx57ZSNvSoAFna1Ea/Y3ZDBt09FBmMmhG+IzqS6XEO9rl9XLZxL22ajkc3whbSzSKoanljdirjnVZ+tqeiT45fBaa47Ox2eyMIqwm+kprA38vqeLaiAT90i43FmfGflEbcqjriEDzxtbnMyo/trFTnD0RdY/BJSU1A4zeFudyVn8GWdg92RWFanD2iQffRxEha5jAgpeTpZfuYe9/HTP/1h9z01Gounp7NmRPSGCfrYooMRAs6sfKAX5z8Fdw2Z1dgB9BNZtx2F69edAsBS2ikGfrRzWbePO8GmuOSOH3F+wN+X6V50UeOEtAQ6FF7ZqFo4WIs9u4FWtUwuO7NxxhdW4YFiFMVhlU9W0ro0FD2tQUD1cGenIbEPpiact1A1Pto92nc81q4+qZbN/hHVQPf3FbKhta+Pr49STwIz86tbW7OWLMzLLAD/erKIEMB3ax0Wwb2SreoEuYluBjrsHLVpmKqfQHadQOd7tG3KuDOUem8Mn0sJR4fP95V3mXN1/nXcKoKGVYzz0wr4MGiPOyKgktVcCgCmyJYkOji1+NyeLoigvmIECgmwbwzRrP8J2f2G9gBJrvsuKLUqjtVpWtW5TKpzE90MSPecdQHdhgZuR8WfvvuDl5adaBrRV8zJO9vqWJ0ip3LGj8iWkJAQyAQqBEmpp1LVFqo27FbUlewe+wUZISRr6GqdDjjI4+4FIX1U+dzxvL3OGXNx3w596weO4v8RY6LsYAqABMSCey35pLvK+86RovdwYXf/wkFM2aFPcfd0ozJauMXNhu1vgDV/gB5NgvXbypmfVtkIaxBY1FQWzUMXfZVIBwMEjJRqJ2fNsDHSzDAVBkM3Ltr2qht9ZIeb2NDq5tL1u1moBJXt+cNbJ9SSj5qaOXx8jqqfAGmx9nZ0uYZdCUMELF8FilBM0CCogoWp8bz6OTRLG9upzGgRe5iFYKAYfCNbaU0+LWwzlQFGOuw8u1RGVySnohNVbg0I5mzUxP4rKGNNl1nTryTQqeNL5vaMAsRUb7YEIIykwyzxozFOSkJxKkq7pBCZtdbJJhXvzDt4Cz9jhQjwf0QU9vm5YWV+/soBPp1iV5ZjNcbuYZWArXWdLzCRoF3f8SxfQAT7SYnyVp3kDUUBWMIi5KGaqIiI9iCPX/9F0zduY63zr6Wyhh+qnM3LY/5mp3HnBmoI+OuhzgzI4AjPpHEjMyIj3ckdJ9E6VYz6SFj6GenFDBz5faoDTQDRgRHnoGJg6t17o1NQEBAdX/XBhlKYwDCq2Pe2IgIDZFVRdDh19ne5ua8ddHle3vjUhXaAnqXGUj0XUt+vLuc16q7zTFK3L6I+eueCIKj62DqROALPTfiZy9BqfFgrvXy/q0nMykxWDlS7PZFXUT1GcELTqum95Ec0AmqXZ6flhD23pyqyoW9PFMdihLzvehINrS6mT6A9IlJEbw5axzXbiqm1q915ROTTCovTR97VEsMxGIkuB9ilu2tx6QIItVTCJ8bTZcR9dxF6F9diWY7HFxsDSiWsNy2augktjR2tcn3IdqCmDRwudu6brrc7Vz/1uM8/9U7qE7PDe1QdE3Fz1j2brC0sh8EYDV8THB4+csmjWV7t2O37OLauXlcf3L+gEZX/6huwiREVBu3QSEERKmqALAK8Mvoaa/vj0rjoQN1/eboz0mOw7O1kVXlzeA3UDrCPyuzqpCXZGfsktjmKHZFoMtuW7523eCBA7U8eKCWP47P5cacyH/nta1uXq1uwtMjbTGQimyHqnBfYQ5+Q2JXFfZ7fPyltCbygxWBMCRFirkrsAPk2CxRyx/NApoDelR5X7MQrGrp4KyU2EYY0+Md2BUlqohZmcfPFRv3EqcqPDJ5NPMTXREf18lou5Xl8yaypqWDfR4/eTYL8xOdg+5oPZo4Ni9JxxCx8un1lhSEjPzl1FCosmbSYElGi2LnIYVCsaOAgAi/Rp+66kNMgb6TfFPAj80XOb1h1gLM3LoKn8VKQ2IqvlDFyo1vPspZS98hrq0Zi89DZk0Z173xKLO3roz6viLxy+c/5/V15VQ0e9hb286fPtzFZX9bjjdK84mUkk1tbt6qbeKLptaBW8MNhChCbyYByRYzz04djSnCn80E/O8AArtFwK25qXxlTg4iw46RZAkLrHazynfPLGS32xvxot+TVLMp4v4kcPfucvZ2RJ75vVTVgHcArkO9SbeYuDozma/lpHJlZjKLk+Oji5BpBtbmAL+8aFLY3YuT4qIKiKlCkGmNvZJiHkBAVYXg4YmjsCuRzzCflHToBtV+jes3lVDi7r9cVQjBSYkurs5KZkGS65AHdikl3vZ2Av0Y1g+VkZH7Iea08WlR26L9zhTi8gvxlu1F7+VbaiDwqjaMKAuSBuBTLKxPmEGWr4Zcb0WXANmEfdvpWP4BS08+p7v3RsLiFe+R1lDDPy+6BUNRg4qGhoFZ1yjavYktRbN447wbUA0DXVEo3Ledc5a8zcztq5m5fXX3cYcq8gfz1W/RTZ0ZCgC8AYOS+nZeWLmfr586JuyxZV4/N2wuoczjRxFBZ6JYmEKfx1B6BW2KwGcE9VMmOu08MCGPqfEODpw2jcfL63m+qoF9bh869F8mGMIv4ZrN+4I38l3B2c6kRJx72tAtCgmjE3jfqfGzGG5KnbhMCgFf9MvJL/ZW8FIEbZkGf+ScdyxG2cy8NmNcWFCbHe9gksvG5jZPeJepIbHq8NwFU1kwNnz2YFIEL00fwxUb9qJJiduQWEWw6ewP43PxGZKf7SmPKBxmAPMG2Bh0Rko878wq5MH9Naxq7qAhSp7fbxj89UANfy6KnmI83Gz74hO+fPk53K0tICX502Zy5q3fIiF9+OrmRSSR+8PNnDlz5Nq1sRtsjmX+/OEunli6L6xF2mpSGJ8Rxz9unsH7D91P5a4dKKpKQDcI+DUEEkMEq99VaQASHQUzOgFhJqCYeDPzEposSQhpMKV1G9Nbt2A3PDSak1mTOJsGazLz9XXYdQ95tQdQjODCa7vdxaZJcynLLsDpbmPSjvW8e8oV+OPtyB62caoWILWxhhvf+HuYB+puxxjGu0sGZSQSEGZezrmSFnN4vntsmpNPfri467ZmSE5euZ0qX2BA1m92RfCvmYX8saSST5r671TsjQmwKAK3IbsuEqoIVmV8JTWBd2qb8Q7jOWJi4BcJgFMSXXzZHP19ZVhMfDhnAm/UNFLt05gaZ+fCtESeq6zn/pLqsLRMJ2YhsKsCTZdoSOJNKj8cncnNOakRR6vtms5/7TzAhw2tWITAb0hOinfytyn5MZuo2jWd12ua2NLmJtdm4arMZFo0nSs3FtMY0PpcjO2K4L7CXK7Ljq6WGY3lTe3cvKWE1igDgTF2K8tPnjjo1z0UrP/gHZa+9Ayar3vELoSC1eXilj//LWztqT+EEOuklJH0vUZG7oeDH5w9nvxkB4+/t4bEik0k4KNg8mS+c8tiXC47V/7sPhorK6gtLebA1k1sW/IZRsAfCupBTBYrZQnj2B9w0GhJYp9jNIYIpmukUNiSMJUtCVMBUKTOuI5izq35GIvhp8GSjJDQanexcerJmDSNOZuWsXDdZ0jgg8Kv4It3dtUKd6KbzNQnpnEgewz5ld3t9OPdJUQj0oheACapMa9pDR+mnxW2rcMXHsI/aWylOcJiWycqwYU3myJQheAf08aQbjXx+RACO6HXcodmVp1B15CSgC55o6ZpwN6iA2Uwgd0pYJrLFjO4m4TgpJXbQQZTEU5V4Zd7K3h+6hhsisBrhGe+LUJwUoKTV2aMpcTtw6IIRtksMVMQLpPK41MKaPBrlHn9ZPdY7I6FyxQ0ze7EZxicvXYXDRFScQrw14n5nJ8+tMqUBLMac8E94SDKR4cTLRBg2cvPhQV2ACkNAl4P699/m1Ou+dqw7GskuB8GhBCMqljN+btfxDB0DF3HvG4vL2z9D9fe+ycSM7NIzs4hKSubT5/6O0aEfLnm95HaVs5rWdfF3JcidS6p/jfpvlosoTRNgt7C01fcSWNytzvP8rlnMnr/Tq744EW0VEewRCICutnC22ddzUmblpJVV0Fe5b6YI/Zo2xQkYzv2MrcpgT2uQprNiaiKYEFBAktffo4tn3xAwOdn/aKLaR8T3Xt2Spyd0TYr0+LsXJudghqQ3L58dx/xrTBibIs1Jj/SzrIdEv5eXh/zMTW+QNgFo0M3cOtw+/ZS3p41jq9v3c8Bry8ofhXSrfm/ifmoQlAYw4ovEj3NPKKxu8PLO7XNeAyDRUlxnNIjd/1+XUtXTXtvbIpCUz9dubGY5LSRYjHhjtDt6lAUbo6y8Hy4qd23l2hniR4IsHvVspHgfqwgpWT7xi0sf+1F9B5BO+D1ovl8vPnHe7n5z39DCEHA58XXEb2BxeRt6bf9e1LrDjJ8tWEGIP/46jeCgb3X80rzi/jwtItJaG9GFSJyMBMCr93BkpPPxaRrONztXPXOUyS1NQ34M+g6fiRzm9cxu2UDm+KnsjFtAWM+e4jVLd2vpVXsxzSqCC2CDK5FBGuO7wpJrH5e3cy33t1Ka7IZEvuRLOjdcCMEJgEx0tlHBf2tI0SaCUigKaBT59f5Yl4ROzs81Pk0xjmtZPXjvTpUpJT8v93l/KO6Ec2QaMDT5fWMdVp5fcY44kwqe92+qCqKbsNgexRT74EghODRSflcuakYv2F0NWU5FIU5CQ4uj2CgfSQIWnHG0NoZRnexkWqZQ8hbGyqYf/+n/N//PUUgggu7lJLaqmouufefPPDRLto1UEzRr7c+xdJvV+XUtm1hgd1tc1Cbmh3VZGNz0RymFG9CaDGaz0PVJZrJTGtcIk9c+1+smLloSC37KhKz1JnRtpV7TMvxtYRfJIqKtxBtZCMEXJ6RRIemc9mGPVy/bR9N+Q70OEtUY/Cexw+glHVg2tnCIs3E0OTXjg2khAPe4NS/yGnn1OS4QxbYAd6oaeKV6ia8ocAO0GEY7Gz3cs+uoCZ9ts2MI0oVjU0RjIpwfLqUfFjfwk92lfHrvRVRDbgBZiU4+WzuBG7KTmWCw8ZJ8Q7+OCGXl6aNxXQwDWvDSEbBOJQoyqcms4VJp54+bPsaCe6HiNfWlfOTNzZT3eolzt8S9YPWJbTV1/HoFyWc9/AyxixYjGrum8/UhMqWuOh6IqlOC5nxVqxGeC6vKi039oEKgd3TwfTta2AgpXNCgKKwYtYiNk46KeJDBhL0TYZG465Nfe53eN2c88VbmAJ+lFDAVkXw5L93XA7ZNgvf23mAdS1udEUEW+F7yO32e/iagTY2nqWqFkzl9Pf4Ab3q0YcQwdrtw8X/HajtKwVAsD7/vfoW2jSdi/vp9LwiM9zsoyWgcdaaXXxr+36eqWzg0bI6Ll2/h+9s3x+1SWqU3cpvx+fyxbwi3p49nisyk4+awA6gqCpn3vatLiPurvtNJhyJiUw/5/xh29dBp2WEECqwFqiQUl4ohCgAXgZSgHXAjVLKgXZWHxfohuR37+3AEwh+2RssyaT56yMqPypIms0J+DSDhnY/n4yaS5ZrC0ZzHRYZHE37hZl6S7ACJhp+3WD1f5/Nmw+sZt+a5d2t/v7+p7pL5p3DvlHjEUjkAM0vdLOF5XPOYMb2NWHFmhoqAsna6QtYOXsxfrMVIQ3yy4q56JN/hplxbymczo7CGSjSYNbmFYwpD5p9TN6zkfT6Sj6Yeyn1yZlMT3Lyx9ljmOyyU+cP8FF9K75IJ3fnfTGOX893gar0L5IVwq4oBKTRv/bKUYQAUk0qs4dBsbDS6+fpinpWtXSQbjFxU3ZqWB69k4oYUsEmIaj1BxjrsPH01AJu2bIPA4k3VCIpBDwyKb9PPv+e3eUUu31dVlqkqwAAIABJREFUJZgGQeOW9+qamZ/o5Prs2Hn0tS0d3F9SxbrWDqyKwmUZifxwdBapw+QxO1SKFpyG3RXPly8/S21pCSaLlYmnLmbhVTdgdQyfPvxwvMvvATuAzpayPwAPSilfFkL8HbgNeGQY9nPMUNrQEdacszFhOoUdxX3UH3UEDZZkmizBEYtmSP61tQGRcBEF5v2M69iLRLDHVch+ex5SRJ9otXo1nl5WykVXXEPpmm5ZgNyacoSUyIhdqcGTZmvR7G4VxkGU/Xmsdtw2B05vR+j9KKxPmE7NzNHsnDCzW3FRqJSOKuTvN/yIO5/9PYZQePz6H4aZf+zLKyS5qY5b/vkwCpDaVIvc1ooaZ2av0sR2VzyT5+RR6vEHO371CMcpRFAQjCgXKCGizlUFcFFqAuva3NSFasQzLCbybRZWtMQW8jqSmENv2aIEzTJUgjOnCn+AUUs2k2Mz86PRmVydmTzoppw1LR1cs6mYgCG7AuynDW1cmZnE78fnhr1ens3MtvbIC6K6lGSESiYXJcexev4kXq5qYFeHl7EOK9dmpZDRq/qmTdP5oD6yg5PbkDxSVhczuH/a0MptW/d16eh4DZ0XKhv4oL6VT+dOIMl8ZAN8/rQZ5E+LLkM8HBxUWkYIkQtcADwRui2AM4DXQg95Frj0YPZxLGJRlbBpY4Mlhc9STkMTKn4RzPX6hZkWUwLvpp/X5/lSKJQ4C/gw/Ww+Sj+LUkd+zMDeyfOr9pM+ekxQaTGEQHLOF292m2t07aT79zB53R4SA/0hFQWzFpyUSWDtjJuQZiUssPd83YDZytJ5Z/PKxbd12/X1+GlMSuO90y9HAisnLqDm/En4FmXScmo6d7XWc+rK7dywcW/UlnMA0d7PmDxG1UycWeWazGRuyknBKqA+oLGspWNIzVGHA4sQ5NgsrJhXxPQ4R1eZqEFQC0YC5d4AP91dwYPRJASiYEjJbVv30aEbYQHWbRi8Wt3El71KT+8alRExn24BLkhNwNWjFDHVYuI7+Rn876R8vj86s09gB2gIaJhiXIximYpIKflRBKvAgAw2dz1WVhf1uccTB3v5+gtwD9DpX5UCNEvZNUQtB3IiPVEIcTtwO8CoUUdP59hwkJtkJyPexv6G7sWfXXETKHXkM8FTggs/ZWoqZbacsGBjMgIUte2iqGMXipTscY5lW9wk/OrAcqf+kDjZjHPPZ+2//4WhBf8M03ZtIL6thffOvJwORzwgSWhuoC0+CSPS4k7vAB+jxNCiBZBAgymJqZtfZt3MBdEPUAi2FM0mYLZGHVnvHDeNtJoqvjz1vD6P2ePpJ7snJZbWAPOSXSzRBp8JfLGqcdDPGU4U4NQkF1/EqNkXocdZFYWrs5L5cUEm61vdbG7zRC3d9BgGDx+o4bbcVBIGOGJd1dKBO0Zly1MV9Zya3G1bd0l6Iutb3TxXWY8mJZoMHqsfeLuuBW1rKb8Yl02ObWCLumkWU8w1kXx739cJGEHJilKPjyZ/5I4Cv5S8VtPEj8dkDeg4jmWGPHIXQlwI1Eop1w3l+VLKx6SUc6SUc9LSBiibeowghOD3l03Dbg7/eA2znZrsmZx3/fXUuPLCgpfF8HF1xWuc0rSCLF8tGf465jWv4fqKl3FqA0sLnFkULBGcc/GVqAmp6Er3iTy6soQ7n/8Tdz/6c+5+9Bdc/e6zUQ2eASwBH1e/9UT0nUmJ093WlW1vMcdjNbzo/TSLBMyxL1RSUViy4Nyhaa0LgZbrZLV+bC7xqBAzsEOPBV4BL1c18GVTG0+W10VczOyJWQiWDqLRqzGgxVxMrvWHj5yFENxbmMOnc4u4JC0Rk+heWA9Iyb/rmjln7S5qB2jj51RVrshIDsoW9MKhKHw3P7xN//XqRqYs28o1m4r58a5yPDEuDMMiQHcMcDBpmYXAxUKIUoILqGcADwGJQnQpWeUCFQd1hMco88em8M87FrBofCp2s0qC3cy180Zx84LR/O69nWGPNauC09rWkaC3hZUxmqWOXfdwWsOX/e7PpAju+coEDEPyvdd38GjSxSxNPJkaSxqBCEu5cR0tXSmVPkiJrqgktzZg9XmipmkWrfwQgLfSL2CUtwIVyeRdG6IfZOdibazALek2gxgCOuA9Rs/dgYQ9g1BXrW7gMSR37ThAaX8zGgZWwbSt3cNPdpVxw+YSVjd34I9ywbAIOCmK/stou4Wlze19ukV1oFXT+WtZ7QCOJMhvCnOYl+jErgR7EqxCYFUEt+WmhlXefN7Yyo92ldGi6bTrBh0xLnQmAef2ozh5vDDktIyU8qfATwGEEIuBH0kprxdCvApcQTDg3wS8NQzHeUwyNTeBZ2+d13X74+013PWP9V1VNJ0oQjCxfRfIvhNrFUmBuxRF6l1yA71Jc1n5xzfmUdHs4a0NFXyyowZdql2SBN/Y9zjmXpljRUpOXfUxny48H83ca4orBLpq4smrv88Nr/+NZ6/6DroanhdNry3H5vfiVSxYCaCGjj2tuY7UhmrqUzL7+LT2i5TQ4IXUwXVOnsh4DIkiDUwiiuZ6iICUnJIUXfb2wdJqHtpfQ0BKdAlfKgJNRtbCMQmF23Ijz7ZjNSoFJLxT28yvx0XM1PbBrir8c8Y4NrW5WdLYhk1ROD8toU9q5/6SqgEZkAiC1U/fzj96Ta2Hk0OxZPxj4GUhxG+BDcCTh2AfxyQPfLS7T2AH8GkGht8XcxplNjR8EdyV/vfaGcwdncJtz66hpK4Dn6bT+3suhQoRfFqn71zL5qJZVGfkRVwA9VusVGbl870n7mXj5HmsmzqfloSgqFNtei5vnnsdVp+H3GU7qGlJJ8sXXLS76bVHeOXimynPKuh6OVXX0KM0bwQPUoJXx7y+kcDiDLCONE8PlP2+AOYYevd2RXDnqAwSo+TbN7e5eXh/TZiscufvZgFWwBxaLLUqgiemFJAbJXcuu/6JzFAmVdPjHGEG4r3Z1h673Ncigg5lc+Id/GFCHnkDzPsf6wzLGSSl/Bz4PPR7CRC5u+UEZ09tW9RtjZZkUv0NEbd5VVuwOzUCp4xN5dJHllPe5EGPMnopdhYwuX1nnxzqm+dcEzmw92DnmClM2rUBrzM+GNh7PFaqKl67k72nzkT/j+CS6n9jlhoKBte+/RR+k4Xq1Czi21tojk/m1YtuibwTKaHFj21VUEfF2NyMPiekDNh79H8MmyccKvwSfl6QyYP7a4Ia4YbsWlzNsJj4cUEW12YlR33+sxX1+KN8d6yKwr3jcnCZVJLNQQ9RNcbfoNBhxakqEdcATMCFaQfnghUJu6LQFmW2YBaCL08qItFiIv4oEQ87XIx0qB5GXDFGo6tT5vXpWgMICBOrEudEDGqTsuLZWNFCfZsvamAHWJqyED2kwd7JmqkL2Fswud9g2epK5LWsi1k5fWH02nGzICOxlQZLMl5hJUCw5DOgCXKqy0hob2Z0ZQkOd1vf9EznbZcZ76kZaHlOTI0+TKvr+uYZvDr49WBhtyG7yzt7l3megGxr97By3kRybJawqplav8a6VnfMcs5yb3R5ZUMGdXguTk/klKS4rsAeMCT/qW/hyfI6Pm9s7Sr9VYTgJwWRbRR14Lqswcv59seVmckRDT5UYHFyHKMc1hMusMNIcD+sXDN3FBZT34/cpAgKZ8/j9Ju+gdlmw2J3YLE70ISJNQmz2BY3KcKrwT/vOJkt5S24/bHV9DTFwrN511Fn6T6xVs5aNKBjbkxIJS0nsttPF4qC2aaR6avFZQGsdt7JuICnRt/Cc7nX0q44kcAtrzxMQmtj34AsRFBu2GFCGx9PYEYyanMA26dVHFg0jXXzJ/Fqbg5xy2qxflaN9bMqrB9XYvuwEsvyWsxr6kms9WE+gQf1pR4f12wuZncvxyFJ0JXpt8WVUZ87M94RsSqlk4mu8DWQ9a0dTFu2lW9v38+9xZXctrWUuSu2d7kdrWjpiOgdpgJ/j1Bj3q4FG4x+saeCp8rraA4MRhgZ7i7IJNtqxtZDZsAqBIlmE/eP70d+4zhmJLF5GLnrzHF8vruO/Q0dXQHZblZIdFi499LJpMfZmHTaGVTs2o40DP66XWPTlnp6J9EV4OIZ2bhsZpIcZmxmJWIuvyduk4t3Cq5h+73n4W5v539W7e4/xSEEmFQ2zphPTJUVKXF1tAKg+XyY8DO7ZT2V9gtpN8fzTP7XcAVaSfE3on5ZjyU+gJ5mQx+fAL11P0wKRooVmWRBbfZjURRybBZcOYkoQgSlDnqM6JV2DZMiON/u4EOTQnNAG5Rm+vGCT0p2tkc3W3+yvJ67C7JwRKhEuiknJdjY02v2YwLGOa1M65HvbtV0rt5YHJYG8SFx6waXb9jLqpMn8nZtc8SZgAb8q7aJvxTldXW3rmnp4NpNxRghxya7IvhNcSVPTSng9AFWtSSZTXwydwLPVzbwanUjOsH0zy05aUdcauBIcuK+8yOAw2LiX99ewL83VfH6+nICusEFU7O4Yk5eV8rGZLGQPzXYlvyTsT6WlX5JY4cfb6hByWZSSHRa+O8LgqP5C6Zl89t3dwxo/26/gWEYNGsqJikHrK+im8wx0x6KoTO+ZFvXbYEkz1OBVffiU4OjvnZzPO3m4Mlq9ujkxNnYTxRJW1WgZTuY0yOoJDjMXDM3j1fWluENGEjAyLCj5ToIWBTMYxO41WXlg7oWdrm9SAlj7BZ2DsA783hAIYpkcwgpJcVuL1MjLExmWS08P62AW7eWoksZSrEIxjisvDgt3ALx9erGiFU5EmjTdT5uaI1ZR+43ZNDtimA553WbisOqazqrXm7duo91CyaTPMCmK5dJ5Vuj0vnWqPT+H3yCMBLcDzNWk8rls3O5fHb/08UUl5UP/us0/rHqAG9tDE6rL56exbXz8kmwB0sTk50W7vvqVH72ry34QkEvFhvLWrjxqVUw2hn09xzoAmUMbZr5az/H0kMyuCEhhbrEDMxqAJ/sW9aoSyhr8WJkWog4IxACoQoevHp62N0/v3ASQgheWnMAz8xkAnFmMCnowLN1TVAXfDWnqmBVBQ8U5XH++r0De3/HMBZgQaKLre2eqH9/g9huRAuT4tiycDKfN7ZR59eY6LIxM87RR49mS7snonUfBL1uSzw+8mwW9kcwzQAosFu78vbv1TXHXAt4rbqR2/NGgvVQGQnuRznxNjN3LBrLHYv6miB3csXsXCZnx/PEkmJe3xA9t6oqgh++uokOn47Y1QopVnCF6tc7JQcGU40Ses6q2YtYsPELapMyeOXiW8MEwWgPYFlZh9LrLFYaoo+oFV3y63ljyE8Jb5RRFMEvL5qEkefgicbmvikdgiPIdt2gXYevbSllnN3C3gE0+fRksD6nRxIFuDorhTvz0niyoi5qrfsom4VR/UgAWxSFc1JjV7Pk2SxYQ65OvbEqCplWMz8dk8l/7eyr7WJXBD/t0fZf5vVHlTjwGLIrhz/C0BhZUD1OmJgVz5+vnsnls6I3iJw3OYPqlmBeVgEsy+tQ9rdhcnuIa2kgtaEaRR9kWAuZeBTnjOO5K+/sKwjmMuM/tW/TiOLWUOq80PvkNiSjXTa+VtA9Ytvc5uaKDXvJ/XwTOZ9v4rH6JowBaHR7DYMfDmGafiQC+1BqOWa67Dw7tYA/Tsglw2bh7oLMiCe0GXhqakGELYPn6szk6MsvAs5LS+DSjGR+NjYbp6oQF/pxqgq/HJvDRT08UkfbrRHXACB4ISh0jDSzHQwjI/fjjD9dMY3KZi8rSsJr5i0q5CQ5uowLAgUu9MJgDtwA2rCTWFGCqgUwFHXQ9eRrZy8KKldGaIbCqqKnWFF7jdbNm5vwj49H5jm7R+Gawf9MyMUSaprZ2OrmknW7CXtmFL/X3ngNg0rNYE68g7Wt0R18BkucImgbQEfkYBise6hDUbgpN5WzUxOo8weo9gW4MTuVyU47vyquZL/HhyoEpyXF8YfxuWQNU+NOts3C/0zI4+5dZehSEpDByhRFCJ6eUoAz1Gh3W24a12WlsK41qIs0J96JrVcgPy81gZ/uLo+4H0UIrsgcuDXefo+PDa1u4k0qpyS5ur4/JzJCHgX1wXPmzJFr16490odxXHH94ytZVhwe4NWQ9ncgy442NalvIO4sT+xP/yUCSRg0RZsISolS5caypTnsbgOCo3p7j4tJaP8PF43iqqxk5i7fRlkksakBpJBsAh4symO0w85lG/YMqEV9IFgIqh0eSWwCfjommyVNbXzZ1I5FEfgMyTmp8TxYNIq4Q1jXrUvJ6uZ23q1rodofYLLLzvVZKaRHkO7tj42tbq7eVIwmJR26gUNREAKem1rAwqS4fp/v1g2+ta2Uz5vaumrdFeCvk/I5u58U0/GAEGKdlHJOxG0jwf34Y+meOm58cnXEbQLwLs5AWqKMzgebd5eS8Q4rfoguYCUlalkH5h0tYXcHxsWhj4mLuD8VWDmviLmrdvbZNhgU4JacFK7KSuHXeytZ3jxwZcSjGTPBUXSlzx/mEmUVgkkuO+/NLoxozmFISa1fw6EqQ2rseb6invv3VeHRJbqUTHTZeKBoFJNd9iG/F49u8G5dMyVuH7l2C5ekJeLsdWyrmtt5oLSGzW1uEs0qt+SkcnNOKnftOMAH9S34IuT3358zniLn0I/rWCBWcB9JyxyHPPjR7qjbpJTRAzsMPLCHBgWpuo/35kzlhcpGfhWjUUbd11d6Qc9zRt2fDnx7x4GBHUsMDODJigb2un38deIozli9k6YYZh/HChPj7BS7fX3s/3xSstvtZVVLBycnhguFPV9Rzx/2VdOu6+gS5iY4+NOEPMYOMLf9VHkdvymuDJsBbWrzcMn6PXwydwL5Q/RstatKH//UnrxR3cgPe5hvNGk695dU8XZtM5tb3RFnUX4peeRAHQ9NPL68IgbDSGLqOKSkPrr+e6avBnGwszUpEYbBje8+w5az5uEymbg9N5XMSA0jUiJqPCjeYEAVwMy8ROaOTkIxxx45xnLbGSxfNLVz0sodx0VgV4GpLltURyqPbrCi1wzlsbJafrG3gvqAhteQBKRkRXMH56/bM6DPOWBIfr8vsvqiVzd4aP/gnJ4Gilc3uHt3eZ/9egzJlnYPapSFdV0GO2lPZEaC+3FIkiP64lmWr5qcqv2Rm5IGKssLXPuvxznvkhu77lYUhdXzJ7HQau3WfQkYqHtasW5qAsBwBBdWf3fDTF795gLGOWOP9OZE0QwfKoGjIAV5sKjAjdkppFksUafdZiFw9li89BkGf9xX3SdASsCj6/x9ABrre9xeItnWQrC66NOG6KJ4B8Oy5vaoQcpnyD7pmJ6kncDdqTAS3I9LblmQHzW7oqsWLl3yLxRdj+qpGhMpOXPp26TVV/P192tY9KfPKQ3NFCyKwtfjE7F9FNR9sX1ahXlfO9Kq4JuXin9BOv7pyZyxdheXrN/DD0dH19XOtJj444TcmG5AJyIuVeE3hbl8NSOpq/KpDwIu6GFmsa0tuiSuX8IH9S1Rt3diUUSYL3BvrAMoTR0Kvv4cpqLs16FE15w/URgJ7schV80dxcTM+D4Vg6oi+OZNl+Jyt3HHC39ibOkOVC2A0HXSGqo5eVP/jk+qoZNeX8VHaWdgSDjQ6OaqR1d0+beePj4tLCBLAb55ach4S9BhyawgFcHalg5+t7eKKx3OPgE8zWzik7lFuEwmnpw8+qA+i0OFAOIOwjFqqMyKd2BWBBOcNm7MTu1jSm1XBN8blRFmaGFSRMzO5UiKir0Za7dG1WmxKoKrBlG2OBjmJjijyhHbFcFN2SnEq0qYaJhDUTgvLYHzT4BqmVic2POW4xSbWeX1by3gmeX7eHHVAdq9GrPyk/jB2eOZkpNA1g23suSlp7nsP/+g0z7BbLUx7ayvcGB8Lv+9p7zPQh0A0kBXTbx88TeQBpj2tKKWu2nzany4vZoLp2Vjs5j46swc3tgQdFc00m1gVvp0k+oEa5Mrt9VgrvGQWJTM+XNzuCQzifk9SuCS+snLH0nemVXI4jW7Dus+fzo2u+v3e8dlMy/ByV8P1FLh81Ngt3JXfgZn9RLcmuKyY1eUiDl6myK4KsZiZidCCB4sGsWNm0vwGrLrYmERggyLma8folFymsXM1VnJvFrdGJZWUgCHqvCD0Zl8Nz+TFyrr+aKpjRSziRuyU1iUFBexWuhEYqQU8gSlfOc21rz1Gg3lZcSnpjH7wq8yZtZchBD4DINf7a3ghcoGhAxWHnTR84TRDNS9rZj3d/D1RQVct2gsVkPyt4/28NKqA0ggMCEBfXQUezcpQYJo8GHZ3EiK1cT6n58T9pDrNhXzaeOhyeceLDZFdAlhHQ4uTI3nialj+n9gBP5T38I3t5WGBUiLEGRZzXw8d8KA6+I3t7n5075qVja3Y1MVrspI5q789KguT8PBmuZ27tlVzi63F1Po+zcz3sHDE0cNuULneOGQ1LkLIfKA54AMgsO/x6SUDwkhkoFXgNFAKXCVlLIp1muNBPejkyqfn7drm3lwaznNFhFRywXNwFzRAflxWBQFt6ajNPoQ5R0IXaLHWzDGxkV+bie6RLT6sa6u57EbZzNxbDJPltexrqWDYrePRq3//k0B7DllCh83tPLNYSihHA5OT3IRAFZGMIweLC5VsOvUaTFdkPpjVXM7f9hXxYZWNzZF4aqsZP4rP7r93tHAL/eU81xlA77QRdQigmmkN2cVhkkRn6gcquCeBWRJKdcLIeKAdcClwM1Ao5Ty90KInwBJUsofx3qtkeB+dGHoOp62VqwOJyaLhRlLtlCtRwmwugRkMJ/eSaTvVH9BSTOwrK5n3vgU1qWbCUgjcmooCpelJ/C3yUH9lOcq6vnJ7vKwEbVLEbw7q5ALN+yNask2VJTQT6cmjU1Als1CldePt+ekJ/T/YM84E/CHCXlcnz38LkZHK2/VNPHLvRVU+yMr/WRbzaybP2kk9XIompiklFVAVej3NiHEDiAHuARYHHrYswS9VWMG9xGODB6/TpPbT7LTgs2sYug6K157ifXvv4OuBU+qCfNPIX72uVR7ogR3BRC9FhYjyRr0hyrwZ1r5MkVF9lMh0RsB/HFCd7PK13JSuS4rmZeqGqnyBTgrJZ7ZobLK5SdPZN6K7biHURvGIKi6uCDJhSbh/NQEflNcERbYIRjUO0+4wYiTXZOV3BXYN7S6+euBGra3e8mxmbk9N42zUuKPqyAXqVmqNy2aztpWN3OHuVz2eGJY5mNCiNHATGAVkBEK/ADVBNM2kZ5zO3A7wKhRJ24X2ZGg3afxq7e38c6mShQhkEiunJ3HSQfep2TNSjR/t0zXruVLGIeDA1Pm4410sg0kqAw08BTEI4cQo2bFO3D1yhmbFIWv5aT2eex+j39YA3snB7x+Eto8LEh08e+65qh65hrgUhQ6jP619wGsImhwcee2UjKsJp6paOha0Czx+FjX4ub67GR+U3h82Ml5dIP7SiI3S/VEAWr9w9fkdjxy0MFdCOECXge+L6Vs7TmCkFJKIUTEv5KU8jHgMQimZQ72OEYYGIYhue6xleyqacOndY+QP1i+lfiyZShG+JhS1zQmrf+CLZNPokaoYYurwTS8iBz0B0unnvwgsQoxKJ/M/46iQniwGMCmdg+bYxhmdKIKuDQ9kffrmvuM7jvpnAv5JPyzJvqSldsweKGygSszk4+LHPT61o4B1WcHpGTica4bc7AcVKGuEMJMMLC/KKV8I3R3TSgf35mX77/9bYTDxrLieorr2sMCO0BG+370KMFVtLdxz7Yv+EZuGqlmEw5F4ZREF88NsXIjKkNILSxOjhtUUNvrObQGEP0GduCMlHj+Oimf343PY7zDSqJJZWacgx+NzuDM5DiKnDaKnLYBV+H4DMnLVY0HeeTHDhYhmB3vZIzjxK6U6Y8hj9xFcIj+JLBDSvlAj01vAzcBvw/9/9ZBHeEIw8pnO2vp8PfNnxtCIZYJdpwi+Pm4bH4+rrvOWjMMjnQpbcogW8zj1Mj13gNBBe4rzOHe4ircg1wX6MSmKvywIBNFCK7LTuG6KIukY77YPODXNIDGwLHiHRWb2fHOmBc1sxDMiHfw1JTRh+uQjlkOZuS+ELgROEMIsTH0cz7BoH62EGIPcFbo9ghHCRaTErEqsdSeT7Q+RrPVRtHCRX3uf6SsDt8RjO1OVcEiBOOXbCbzs41kf7aRKzfspSlKhQXAHXlDb7a5PDOJm3PTmBk/8JmCICjPaxaC2fEO3po5jnEDUGEczMXDqSicNgDt84NhVXM7l67fQ97nmxi3ZDN37yyj7hDkvG2qws/HZGPv9SVVgESTyhszx/L2rEISjuLyzaOFIQd3KeWXUkohpZwmpZwR+nlPStkgpTxTSlkopTxLSnnizBePAS6clo01QsOK2+Rkc+IMVEv4VNdksZI9voj8KdP7POflqoY+93UxjCP6CXZLn5PdpgjiVYVnKhtoDY3EDWBpczuzVmyjVYsc4O/ITcM6hEVbh6IwM5T+uT0vrU/bfzQsiuC9OePZunAy784ez5QBppBMA0xRdXZqXppxaNr/AT5paOXqTcWsbOkgICXtusE/qhs4e83uQzJjuDk3lYcn5jPGbkUQlDe4MjOZL+dNZG5ClIa4Efowoi1zgjElJ4FzJ2dg79XWbzerFJ53Jefe/h2Ss3NRTCacScmcfPk1fPUnv0JECGb9hu8hpi56cnl6Ip/Pm8h9hTmMsllQgBSzyu25qVRFGaF7DMmv90bWllcUhfOGoDmiCro0x89JiefqzCQG4ju0IMHF1DjHoEea56TEHol36qlMdtn59+zCqF6kB4uUkh/tKuuzaK7JYCro0QOHZkntovRElp88kbJF0yk9bRoPTRwVVdtmhMiMfFonIA9cNYOXVh3gsaUl1LZ5yUm0c+ficVw2KwchBBNPPX1Ar3N5RjJ/Kq2OvFEI8q1magManlBcsCuCOJPKOLuF5S0xPE1Do/51c4rIiQ/w43PAAAATdklEQVRWRFyXncp12d2ljX/rRz/87dpm/lwUucT2m6MyeKuuJebFyakIAhLMoYqgv07stq4TQrAg0cVLVY39zlBuz+1bjtkfq5rb+SKK5IIq4JVpYxBCkGk1D9hoY6jscftoCUTucfBLyRu1zWF6N8NNVOXLEfplJLifgCiK4Ib5+dwwP/+gXud7+en87UAtHRFG6AkGOFc1kJZiQc13keiycF5qAl/NSCLTYuKstbvZ5Q5VrvQOkBIca+v55ra1vP2dUyI26PRXq67FCLoz4h2clxrPe/WtfbaZheCyjEQuSk/ilaoGPm1sQ5fwje37GW2v5sEJecyMd/Cbkip8A0g9/auumdMHMVPo0HSu31xCR4T3ZxKw5uSJZNkOX5WILmXMIqZYn/MIR5aRtMwIQ8YUMuiY4uoePQrA0uBF/6yKktp2anc0Ur+8it0VrfyxtJoFq3aycPUu7i7I5OM54znX5cJS4Ubsb0OpcmPa0YLlo0qMJj/FdR0s2xs5r39lPxKzPkNy4brdUUfAj08pYHFSHKYegcuuCCY6bdxXmEuF18/HDa106AZuw8BnSHZ1eLliYzEb29xU+gZmkf1hfeugKoreqm0m2nXLIgSfNB5eD9hChy2qJLBZwFdS4yNuG+HIMxLcRzgoUiwmPp5bRPmiaWxbOIVFe72Y1jWgheropU2lbU4qHS4Tmgw2nxzw+rlrxwF2dniZ2WygbmvGuqsNy5ZmTGXBJhZpVmjJd3LTgXKmfrmV7+84QGmPGvV8u5XpcdGbWAxgbaubm7eU8FJl9wWiKaCx3+NDMwwmOIMLdiaCZY4BKZnmsmMRgvujdEl6DYNHBpFnbtN13IMovdzn8UWtlHEbkn3uQ1un3xuTIvjluL7VKwKwqyrfGRXdcGWEI8tIWmaEYcGkKJh0nXWljWEjT63AFUwU9woOHkPy33squMNkw6QIAj2eJM0KvgXpYFHoUKAjoPFqdSP/rmvmnVmFTHQFg/qbM8ZSuHQrsTQjPYbkZ3sqmJfg5Kd7ylnZ3IFJCDRpYEC4WqOE12ubiDOrUS35DILWb4uT4vi0sa3fRiNVCGz9LHZ2aDqPl9fxUlUjTQENFSK+J4ciKDgCjTvXZqVgUwT3FVdR69eQwLwEJ7+fkBtmCjLC0cVIcB9h2HD7NVRFEOhhtqmn26PK/bZoOg/SgRgfj9jZ0tVCpY2NA0u4wYcOtOsG9+wq453Z4wFY2tzx/9s7/+Ao6zuPvz7P/kqyCSEJ+UV+kWCAgFJRDrWKctqr+GugdXpt1Rur03HU0bM3tfiDnl7nqpb2Wk9GO1a9XmvPq3fV1toODnodOWfOoQgWkB8GQgBJgJDwI+TXZrO73/vjeQibZHezCWx2CZ/XzDM8+zzPZt/73YfPfvfz+Xw/H7JdFt2jzIwtgRs27aInHCHMsPr0w+iLGH596BihBJk+XsviqVmVLN24i+5wOG71Sq8IXy4tSFimtycUZummXRwIBEct42CJsLxkasJrUsWXSgtZXlLAsYEwWZbgT7L+u5I+1C2jnDVK8rLI9roxVlSa5Cj+5gEgUp0Lc04HHcPTc+J+IWzu6uOEk1vdEQwl7Ot5imDEEIhEEs7wo+kOh6mMMyP1ivC3pQXUZPtYt2gO36wspsLnwSMM8d/nWBZVWV6eHCWT5JWWDvb39ic07D7s3qn/Mb9uRIG0iUREKPK6hxj2bV29vHygnV8d7EjJoiZl/OjMXTkrGGP4RWsH3VeV0G8iEDG4Wnux2gJEqvyMaOgaRUhAanJp6DIcPtpLf4Ken5bYwdL3j57klwc7kqrwmGimHguPCD+ZU83XtzQTiEQGXS9eEUp9Hu6rLgGg1OfhyQsquL+6hEcaD7C246Rd213gC0V5PDenmuwExnhrVy8/2Hto1PUC/YAYw/EMKjHQG47wjU+a+aizh7CxP97v7mrlO7VlPFCjfvhMQGfuylnhe3sO8v3mQ3Rh7AJgLotwhR+KfVjhyKg3WpbLYtWdl7L1n67nmuL4GRiFHjevHzrK3dv2srWrb1Rd2c5K1mTxivDV8kIum5rLmoX13Fw8lUK3i3Kfh3urinlv4awhnYt6wmFu2LSLd4+eJAyDfvz3jp7kmb1x1gAA7cEBlm7clXTjjkDEcNe2fWw52ZP0e0klj+1q4c+dPfRFDEFj6IsY+o3hx/va+NPRkSmmysSjxl05Y470D/DvLR30DfdTuwRvrpen51bz1fLCBGXJ7HzpPLd9Oz5aWz4iOwNsQ/1AVTE/2dcWt973qRvaZwlT3BYPVpfEDY4Ox4XdkPv+KntmPsefzUsXzmDH4ov4y+fn8fjM6SNa0r1x+DjHguERbfT6IoZftnbQEWcV7RO7W8fVe3VFY2pKFo+FrlCY3x85Tn+Mz6AvEuG5URaYKRODGnfljFl3vCvuSsKAMXxwoptn51TzdH1FTKMNMN3nZabT7PjiKTn8an4dNVlesiwhx2VR6HHxg1mVGJG4i2os7DrpO6+6kP+7rIHtV17ErU7JgHhE/wcIA23BEFeu38m6Y8nNPv/YfiJu6qLHEj48ETsv/YPj42v6vbMnMK7nxeJAIMiO7j4CY6yS2RIIJqx909R79jQq40d97soZM9oC8VN24LbpRbzZdpzt3YHBWb5H7OyTF+bWDFmJelVBHusvb2B/IMhAxFCX48Mlwur9bUPSJqOJAPkeFwUeNwVO4Zc8t4twgol7LLM2ANyxpZmdiy8aLDkwnCP9A7zsNPFOhCfO4HjH2RYvQegiabZ39/Hgjv009/XjFju+cW9VMd+eYZciHo0Sr4dgglhHmTeZqjtKqtGZu3LGLCnMi7sM3e+yWF5iryb1WRa/XXAB36+v4HN52czM9vF306fx/l/N5uIYZXRFhBnZPur9WYPphJfl+/HFqcjod1ksHlb6ttDjZmF+TswbPaGbCPhdnA5Ie3oDLN7wKT870J4woBsyZoSeU9xWPr5m10uTKGVgjOG3bcdZsuFT6j/YyjUbPuWNw8cwxtAaCLL8493s6AkQiNgVHnvC9sKsZ5oPjfq3wV64dlVB7pDsoFPkWBb3OgFnJb3ozF05Y4q9dqPmV4b53X2WMDPHN6QKo9eyuH160WDD57GyKN/PbH8W27v7hmTBeARKvR6+WDTS+D07p9rOcw9FBuvBZFsyap/OT7tjB2y/tfMzTobCCYOh2ZbwaF05Xkt4es9Bfn3oGEET4Yr8XJ6aVck/zCjl560dHA8lm6BplzlOpqXgPza18p8Hjw26ixp7AqxobOGjzh58lhCI4UbqjRhebmnnoZrSpNItn2uo5pZNu2kfCNHjBMx9lnBTcT5fSWH5YSV5JN2ddMDuobpx48Z0y1DOAGMMrx06yrP72mjtHyDXZXF7eREr6srwu85ubvbJUJhv7fyMPx09idcSgsZweX4uz8+tpjiOS+BoMMQvWtt5p+MkWZZwQUB4vacLPPF/vD5dX8HdlUObe3QEQ1zy4faE6ZVz/Vk8XFvGtYVTWPDh9hEGXLBX187P8/Pgzv2sPdpJyNi57HdML2JDZw9bu3qHBGmvmernp/NqR+08tac3wHUfNcbMm8+yhBKvm88CsfPR81wWr86v44qpydVMD0YirGnv5P1jXeS6LG4tK2BBXk7MQm9KahCRTcaYhTHPqXFXzjZhYxKuyjxbdARDtASCTPd5KPEl7+dtPdHHtf+yjq66XCIzcmP2brWA5qvnjygdsK+vn2s3NMYNoua5LHZfPR+Ae7bt5e32zpjX5bosmpzrYnG4f4DjAyFqsn1jqtW+en8bP9x7aET2DtjZQEVeN0fiZPD4XRZvXnxBTBeZkpkkMu4p87mLyFIRaRSRJhF5NFWvo2QeE2HYAaZ53Vw8JWdMhh3gNxsPEDEGGYhhoJ3JzvMNVTFrwlT4vHgS1Bi/ZIp/cP+dGCWFT9EdjrCjK35N+zKfh4bc7DE34egLR+IGkMPYvyriZSz5XRbzExRjU84tUmLcRcQFvADcAMwFvi4ic1PxWooyVg6dCBAUCM+cMnLWLoIHu+JhLDyW8FBNCTlx8vBX1JYNPh6t1vn+QHJlg8fC1YV5cb8Q/C6Le6pKmOXPIitKv4WtfXVDdVLZMsq5Qapm7ouAJmNMszEmCLwOLEvRaynKmJhfmY+7NCdu3ZsB4L8Px86UAbivqoT7q0vtzlIui1wnD//FeTO4NP/0zD1/lMDkwqhrzxaX5/tp8GeNSLX0ilCf4+OvC/N4a0E9j9SWU5ftpdjr5obifP5wST1LCrU2+2QiVdkyFcCBqMctwGXRF4jIPcA9ANXVsduhKUoqWLaggu99vC9hE9j+BFUhRYSHa8u4r6qYzV29ZFkWF0/JGeGOeri2jO/ubo35Ny7MzYob/D0TRIT/+txMHtvdwttHTuASIWwMNxVPZdWsSkSEbJdwX3XJYI0cZXKStlRIY8xLwEtgB1TTpUM5/8j1uXnppgv5WtNnMc/nWBY3F49eWtfvdnFlnDx2gG9WFrOzq5fXhv0KqMny8vaCWWMTPQb8bherG2p4pr6StmCIEq87rdUklfSQKuPeClRFPa50jilKRrCkpog7+nr4zaFjRPc2cgsUel0sHyVXuzccoTMUosjjxhtnURXAjxtqeHxmBa+0tNMVCnNraQELUuCOiYXf7aJOjfp5S6qM+0dAvYjUYhv1rwG3pei1FGVcrJpdRZnPy88OHCFkDGED1xVN4YezK+MGJU8MhHhsVwtr2jvt4pci3FUxjUdry+PW1ynyunmkrjyVb0VRRpAS426MCYnIA8Ba7PTanxtjtqfitRRlvLgc3/lDNaW0BwfId7sSdhgaiBhu+Xg3+/r67e5LBsDwby3ttASCvDhvxgQpV5TRSZnP3RizBliTqr+vKGcLjyVMT6IX6JqOExzsHxjRVq8vYnino5O9vf1p6XGqKLHQwmGKkiRr2zvpiVMeVxh/GV9FSQVq3BUlSRIFTi0Ejy4AUjIINe6KkiRfLi2IG2gNGcPfTNNFQErmoMZdUZJkcUEul+X7R9RmybaEB2tKUrIoSVHGixp3RUkSEeHVi+pYUVvOdJ+HLEuY7c/iXxuq+U6tpjoqmYU261CUMeCxdOm+cm6gM3dFUZRJiBp3RVGUSYgad0VRlEmIGndFUZRJiBp3RVGUSUhGNMgWkXZgf7p1DGMa0JFuEWNA9aYW1Zs6ziWtkFl6a4wxxbFOZIRxz0REZGO8ruKZiOpNLao3dZxLWuHc0atuGUVRlEmIGndFUZRJiBr3+LyUbgFjRPWmFtWbOs4lrXCO6FWfu6IoyiREZ+6KoiiTEDXuiqIokxA17g4i8m0RMSIyzXm8REQ6RWSzsz0Rde1SEWkUkSYReTRD9IqIrHY0bRWRS6KuvVNEdjvbnROs858dPZtF5F0Rme4cz8jxTaA3U8f3RyLyqaPpdyIy1Tk+Q0T6osb3xajnXCoinzjvZbXIxLWQiqfXOfeYo6lRRK6POp7O++ErIrJdRCIisjDqeEaO7xCMMef9BlQBa7EXUk1zji0B/hjjWhewB6gDvMAWYG4G6L0ReAe7neflwJ+d44VAs/NvgbNfMIFap0Tt/z3wYiaPbwK9mTq+XwTczv4qYJWzPwPYFuc5G5z3IM57uiED9M51PmsfUOvcA64MuB8agNnAOmBh1PGMHN/oTWfuNs8CK4BkosuLgCZjTLMxJgi8DixLpbgYxNK7DHjV2KwHpopIOXA98J4x5pgx5jjwHrB0ooQaY05GPfQz+hindXwT6M3U8X3XGBNyHq4HKhNd72ieYoxZb2xL9CqwPMUyB0mgdxnwujGm3xizF2jCvhfSfT/sNMY0Jnt9usc3mvPeuIvIMqDVGLMlxukrRGSLiLwjIvOcYxXAgahrWpxjE0ICvfF0pVUvgIg8JSIHgNuBJ6JOZdz4Qly9GTu+UdyNPVM8Ra2I/EVE/ldEFjvHKrA1niJT9J4L4zucjB7f86ITk4j8D1AW49RK4HHsn4rD+Ri7bkO3iNwIvAXUp07lacapN20k0muM+b0xZiWwUkQeAx4AniRDxzeB3rQxml7nmpVACHjNOXcIqDbGHBWRS4G3or5AM1Fv2khGbwzSNr7Jcl4Yd2PMF2IdF5GLsP17W5yYRyXwsYgsMsYcjnr+GhH5qdjBy1Zsn/cpKp1jadWbQFcrtn87+vi6idAbg9eANcCT0e6PTBnfGAzqTaAr7eMrIt8Abgauc1wBGGP6gX5nf5OI7AFmOXqjXTcTPr6x9JL4c8+U+yH6OWkb36RJh6M/UzdgH6cDlGWcXuS1CPgMO0Dixg6a1XI6wDMvA/TexNCA3wbneCGwFzvYV+DsF06gxvqo/QeBNzJ5fBPozdTxXQrsAIqHHS8GXM5+HbaBKXQeDw/43ZgBeucxNKDajB1MzYj/b4wMqGbk+A7RnI4XzdRtmLF8ANju3Ezrgc9HXXcjsAs7ir8yQ/QK8IKj6ZNhN+Ld2AGqJuCuCdb4JrAN2Ar8AajI5PFNoDdTx7cJ2ye92dlOZffc6ozvZmwX2C1Rz1novMc9wPM4X7Lp1OucW+loaiQqwyTN98OXsP3m/UAbsDaTxzd60/IDiqIok5DzPltGURRlMqLGXVEUZRKixl1RFGUSosZdURRlEqLGXVEUZRKixl1RFGUSosZdURRlEvL/PmXNnDEMpVUAAAAASUVORK5CYII=\n"
          },
          "metadata": {
            "needs_background": "light"
          }
        }
      ]
    },
    {
      "cell_type": "code",
      "source": [
        "#Recording and testing\n",
        "from IPython.display import HTML, Audio\n",
        "from google.colab.output import eval_js\n",
        "from base64 import b64decode\n",
        "from scipy.io.wavfile import read as wav_read\n",
        "import io\n",
        "import ffmpeg\n",
        "\n",
        "AUDIO_HTML = \"\"\"\n",
        "<script>\n",
        "var my_div = document.createElement(\"DIV\");\n",
        "var my_p = document.createElement(\"P\");\n",
        "var my_btn = document.createElement(\"BUTTON\");\n",
        "var t = document.createTextNode(\"Press to start recording\");\n",
        "my_btn.appendChild(t);\n",
        "//my_p.appendChild(my_btn);\n",
        "my_div.appendChild(my_btn);\n",
        "document.body.appendChild(my_div);\n",
        "var base64data = 0;\n",
        "var reader;\n",
        "var recorder, gumStream;\n",
        "var recordButton = my_btn;\n",
        "var handleSuccess = function(stream) {\n",
        "  gumStream = stream;\n",
        "  var options = {\n",
        "    //bitsPerSecond: 8000, //chrome seems to ignore, always 48k\n",
        "    mimeType : 'audio/webm;codecs=opus'\n",
        "    //mimeType : 'audio/webm;codecs=pcm'\n",
        "  };            \n",
        "  //recorder = new MediaRecorder(stream, options);\n",
        "  recorder = new MediaRecorder(stream);\n",
        "  recorder.ondataavailable = function(e) {            \n",
        "    var url = URL.createObjectURL(e.data);\n",
        "    var preview = document.createElement('audio');\n",
        "    preview.controls = true;\n",
        "    preview.src = url;\n",
        "    document.body.appendChild(preview);\n",
        "    reader = new FileReader();\n",
        "    reader.readAsDataURL(e.data); \n",
        "    reader.onloadend = function() {\n",
        "      base64data = reader.result;\n",
        "      //console.log(\"Inside FileReader:\" + base64data);\n",
        "    }\n",
        "  };\n",
        "  recorder.start();\n",
        "  };\n",
        "recordButton.innerText = \"Recording... click to check emotion\";\n",
        "navigator.mediaDevices.getUserMedia({audio: true}).then(handleSuccess);\n",
        "function toggleRecording() {\n",
        "  if (recorder && recorder.state == \"recording\") {\n",
        "      recorder.stop();\n",
        "      gumStream.getAudioTracks()[0].stop();\n",
        "      recordButton.innerText = \"Saving the recording... pls wait!\"\n",
        "  }\n",
        "}\n",
        "// https://stackoverflow.com/a/951057\n",
        "function sleep(ms) {\n",
        "  return new Promise(resolve => setTimeout(resolve, ms));\n",
        "}\n",
        "var data = new Promise(resolve=>{\n",
        "//recordButton.addEventListener(\"click\", toggleRecording);\n",
        "recordButton.onclick = ()=>{\n",
        "toggleRecording()\n",
        "sleep(2000).then(() => {\n",
        "  // wait 2000ms for the data to be available...\n",
        "  // ideally this should use something like await...\n",
        "  //console.log(\"Inside data:\" + base64data)\n",
        "  resolve(base64data.toString())\n",
        "});\n",
        "}\n",
        "});\n",
        "      \n",
        "</script>\n",
        "\"\"\"\n",
        "\n",
        "def get_audio():\n",
        "  display(HTML(AUDIO_HTML))\n",
        "  data = eval_js(\"data\")\n",
        "  binary = b64decode(data.split(',')[1])\n",
        "  \n",
        "  process = (ffmpeg\n",
        "    .input('pipe:0')\n",
        "    .output('pipe:1', format='wav')\n",
        "    .run_async(pipe_stdin=True, pipe_stdout=True, pipe_stderr=True, quiet=True, overwrite_output=True)\n",
        "  )\n",
        "  output, err = process.communicate(input=binary)\n",
        "  \n",
        "  riff_chunk_size = len(output) - 8\n",
        "  # Break up the chunk size into four bytes, held in b.\n",
        "  q = riff_chunk_size\n",
        "  b = []\n",
        "  for i in range(4):\n",
        "      q, r = divmod(q, 256)\n",
        "      b.append(r)\n",
        "\n",
        "  # Replace bytes 4:8 in proc.stdout with the actual size of the RIFF chunk.\n",
        "  riff = output[:4] + bytes(b) + output[8:]\n",
        "\n",
        "  sr, audio = wav_read(io.BytesIO(riff))\n",
        "\n",
        "  return audio, sr"
      ],
      "metadata": {
        "id": "SmEzclLcjLfV"
      },
      "execution_count": 17,
      "outputs": []
    },
    {
      "cell_type": "code",
      "source": [
        "audio, sr=get_audio()"
      ],
      "metadata": {
        "colab": {
          "base_uri": "https://localhost:8080/",
          "height": 96
        },
        "id": "aZ6f_2Zmj8al",
        "outputId": "e437b981-9e61-4749-c157-087f40a80a9d"
      },
      "execution_count": null,
      "outputs": [
        {
          "output_type": "display_data",
          "data": {
            "text/plain": [
              "<IPython.core.display.HTML object>"
            ],
            "text/html": [
              "\n",
              "<script>\n",
              "var my_div = document.createElement(\"DIV\");\n",
              "var my_p = document.createElement(\"P\");\n",
              "var my_btn = document.createElement(\"BUTTON\");\n",
              "var t = document.createTextNode(\"Press to start recording\");\n",
              "my_btn.appendChild(t);\n",
              "//my_p.appendChild(my_btn);\n",
              "my_div.appendChild(my_btn);\n",
              "document.body.appendChild(my_div);\n",
              "var base64data = 0;\n",
              "var reader;\n",
              "var recorder, gumStream;\n",
              "var recordButton = my_btn;\n",
              "var handleSuccess = function(stream) {\n",
              "  gumStream = stream;\n",
              "  var options = {\n",
              "    //bitsPerSecond: 8000, //chrome seems to ignore, always 48k\n",
              "    mimeType : 'audio/webm;codecs=opus'\n",
              "    //mimeType : 'audio/webm;codecs=pcm'\n",
              "  };            \n",
              "  //recorder = new MediaRecorder(stream, options);\n",
              "  recorder = new MediaRecorder(stream);\n",
              "  recorder.ondataavailable = function(e) {            \n",
              "    var url = URL.createObjectURL(e.data);\n",
              "    var preview = document.createElement('audio');\n",
              "    preview.controls = true;\n",
              "    preview.src = url;\n",
              "    document.body.appendChild(preview);\n",
              "    reader = new FileReader();\n",
              "    reader.readAsDataURL(e.data); \n",
              "    reader.onloadend = function() {\n",
              "      base64data = reader.result;\n",
              "      //console.log(\"Inside FileReader:\" + base64data);\n",
              "    }\n",
              "  };\n",
              "  recorder.start();\n",
              "  };\n",
              "recordButton.innerText = \"Recording... press to stop\";\n",
              "navigator.mediaDevices.getUserMedia({audio: true}).then(handleSuccess);\n",
              "function toggleRecording() {\n",
              "  if (recorder && recorder.state == \"recording\") {\n",
              "      recorder.stop();\n",
              "      gumStream.getAudioTracks()[0].stop();\n",
              "      recordButton.innerText = \"Saving the recording... pls wait!\"\n",
              "  }\n",
              "}\n",
              "// https://stackoverflow.com/a/951057\n",
              "function sleep(ms) {\n",
              "  return new Promise(resolve => setTimeout(resolve, ms));\n",
              "}\n",
              "var data = new Promise(resolve=>{\n",
              "//recordButton.addEventListener(\"click\", toggleRecording);\n",
              "recordButton.onclick = ()=>{\n",
              "toggleRecording()\n",
              "sleep(2000).then(() => {\n",
              "  // wait 2000ms for the data to be available...\n",
              "  // ideally this should use something like await...\n",
              "  //console.log(\"Inside data:\" + base64data)\n",
              "  resolve(base64data.toString())\n",
              "});\n",
              "}\n",
              "});\n",
              "      \n",
              "</script>\n"
            ]
          },
          "metadata": {}
        }
      ]
    },
    {
      "cell_type": "code",
      "source": [
        "\n",
        "wav=audio.astype(np.float32)\n",
        "print(neigh.predict([preprocess_wav(wav)]))"
      ],
      "metadata": {
        "colab": {
          "base_uri": "https://localhost:8080/"
        },
        "id": "BbDGgX5YlPOh",
        "outputId": "b9ec04f0-a4de-44dc-fda8-9c0e921aae58"
      },
      "execution_count": null,
      "outputs": [
        {
          "output_type": "stream",
          "name": "stdout",
          "text": [
            "['sad']\n"
          ]
        },
        {
          "output_type": "stream",
          "name": "stderr",
          "text": [
            "/usr/local/lib/python3.7/dist-packages/ipykernel_launcher.py:117: DeprecationWarning: `np.bool` is a deprecated alias for the builtin `bool`. To silence this warning, use `bool` by itself. Doing this will not modify any behavior and is safe. If you specifically wanted the numpy scalar type, use `np.bool_` here.\n",
            "Deprecated in NumPy 1.20; for more details and guidance: https://numpy.org/devdocs/release/1.20.0-notes.html#deprecations\n"
          ]
        }
      ]
    }
  ]
}
